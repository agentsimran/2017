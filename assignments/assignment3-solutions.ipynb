{
 "cells": [
  {
   "cell_type": "markdown",
   "metadata": {},
   "source": [
    "### Question 1"
   ]
  },
  {
   "cell_type": "markdown",
   "metadata": {},
   "source": [
    "First, let's define a function which determines if a number is prime. We'll use this function in our prime divisors function."
   ]
  },
  {
   "cell_type": "code",
   "execution_count": 1,
   "metadata": {
    "collapsed": true
   },
   "outputs": [],
   "source": [
    "def is_prime(N):\n",
    "    \"\"\"Determine if N is a prime number.\"\"\"\n",
    "    if N < 2:\n",
    "        return False\n",
    "    else:\n",
    "        # Test if N is divisible by d for all d <= N**0.5\n",
    "        for d in range(2,int(N**0.5) + 1):\n",
    "            # If d divides N, then N is not prime\n",
    "            if N % d == 0:\n",
    "                return False\n",
    "        # If the for loop checks all d and finds no divisors, then N is prime.\n",
    "        return True"
   ]
  },
  {
   "cell_type": "code",
   "execution_count": 2,
   "metadata": {
    "collapsed": false
   },
   "outputs": [
    {
     "name": "stdout",
     "output_type": "stream",
     "text": [
      "2 is prime.\n",
      "3 is prime.\n",
      "5 is prime.\n",
      "7 is prime.\n",
      "11 is prime.\n",
      "13 is prime.\n",
      "17 is prime.\n",
      "19 is prime.\n",
      "23 is prime.\n",
      "29 is prime.\n"
     ]
    }
   ],
   "source": [
    "# Test is_prime on 0,1,2,...,29\n",
    "for N in range(0,30):\n",
    "    if is_prime(N):\n",
    "        print(N,'is prime.')"
   ]
  },
  {
   "cell_type": "code",
   "execution_count": 3,
   "metadata": {
    "collapsed": true
   },
   "outputs": [],
   "source": [
    "def prime_divisors(N):\n",
    "    \"\"\"Compute the list of prime divisors of N.\"\"\"\n",
    "    primes = []\n",
    "    for p in range(2,N + 1):\n",
    "        if N % p == 0 and is_prime(p):\n",
    "            primes.append(p)\n",
    "    return primes"
   ]
  },
  {
   "cell_type": "code",
   "execution_count": 4,
   "metadata": {
    "collapsed": false
   },
   "outputs": [
    {
     "name": "stdout",
     "output_type": "stream",
     "text": [
      "Prime divisors of 20 are [2, 5]\n",
      "Prime divisors of 21 are [3, 7]\n",
      "Prime divisors of 22 are [2, 11]\n",
      "Prime divisors of 23 are [23]\n",
      "Prime divisors of 24 are [2, 3]\n",
      "Prime divisors of 25 are [5]\n",
      "Prime divisors of 26 are [2, 13]\n",
      "Prime divisors of 27 are [3]\n",
      "Prime divisors of 28 are [2, 7]\n",
      "Prime divisors of 29 are [29]\n",
      "Prime divisors of 30 are [2, 3, 5]\n",
      "Prime divisors of 31 are [31]\n",
      "Prime divisors of 32 are [2]\n",
      "Prime divisors of 33 are [3, 11]\n",
      "Prime divisors of 34 are [2, 17]\n",
      "Prime divisors of 35 are [5, 7]\n",
      "Prime divisors of 36 are [2, 3]\n",
      "Prime divisors of 37 are [37]\n",
      "Prime divisors of 38 are [2, 19]\n",
      "Prime divisors of 39 are [3, 13]\n",
      "Prime divisors of 40 are [2, 5]\n"
     ]
    }
   ],
   "source": [
    "# Test prime_divisors on 20,21,22,...,40\n",
    "for N in range(20,41):\n",
    "    print('Prime divisors of',N,'are',prime_divisors(N))"
   ]
  },
  {
   "cell_type": "markdown",
   "metadata": {},
   "source": [
    "### Question 2"
   ]
  },
  {
   "cell_type": "code",
   "execution_count": 5,
   "metadata": {
    "collapsed": true
   },
   "outputs": [],
   "source": [
    "def prime_factorization(N):\n",
    "    \"\"\"Determine the prime factorization of N as a list of tuples.\n",
    "    \n",
    "    Examples:\n",
    "    N = 100 -> [(2,2),(5,2)]\n",
    "    N = 37 -> [(37,1)]\n",
    "    N = 232375 -> [(5,3),(11,1),(13,2)]\n",
    "    \"\"\"\n",
    "    prime_list = prime_divisors(N) # Get the list of prime divisors of N\n",
    "    prime_factors = []\n",
    "    for p in prime_list:\n",
    "        # Check if p**i divides N for i = 1,2,... (the loop will stop before N)\n",
    "        for i in range(1,N):\n",
    "            if N % p**i != 0:\n",
    "                # p**(i-1) is the highest power of p which divides N\n",
    "                prime_factors.append((p,i - 1))\n",
    "                # Stop the for loop with i and move to the next prime p\n",
    "                break\n",
    "    return prime_factors"
   ]
  },
  {
   "cell_type": "code",
   "execution_count": 6,
   "metadata": {
    "collapsed": false
   },
   "outputs": [
    {
     "data": {
      "text/plain": [
       "[(5, 3), (11, 1), (13, 2)]"
      ]
     },
     "execution_count": 6,
     "metadata": {},
     "output_type": "execute_result"
    }
   ],
   "source": [
    "prime_factorization(232375)"
   ]
  },
  {
   "cell_type": "code",
   "execution_count": 7,
   "metadata": {
    "collapsed": false
   },
   "outputs": [
    {
     "data": {
      "text/plain": [
       "232375"
      ]
     },
     "execution_count": 7,
     "metadata": {},
     "output_type": "execute_result"
    }
   ],
   "source": [
    "5**3 * 11 * 13**2"
   ]
  },
  {
   "cell_type": "code",
   "execution_count": 8,
   "metadata": {
    "collapsed": false
   },
   "outputs": [
    {
     "data": {
      "text/plain": [
       "[(557, 1), (15667, 1)]"
      ]
     },
     "execution_count": 8,
     "metadata": {},
     "output_type": "execute_result"
    }
   ],
   "source": [
    "prime_factorization(8726519)"
   ]
  },
  {
   "cell_type": "code",
   "execution_count": 9,
   "metadata": {
    "collapsed": false
   },
   "outputs": [
    {
     "data": {
      "text/plain": [
       "8726519"
      ]
     },
     "execution_count": 9,
     "metadata": {},
     "output_type": "execute_result"
    }
   ],
   "source": [
    "557*15667"
   ]
  },
  {
   "cell_type": "code",
   "execution_count": 10,
   "metadata": {
    "collapsed": false
   },
   "outputs": [
    {
     "data": {
      "text/plain": [
       "[(2, 1), (3, 1), (333997, 1)]"
      ]
     },
     "execution_count": 10,
     "metadata": {},
     "output_type": "execute_result"
    }
   ],
   "source": [
    "prime_factorization(2003982)"
   ]
  },
  {
   "cell_type": "code",
   "execution_count": 11,
   "metadata": {
    "collapsed": false
   },
   "outputs": [
    {
     "data": {
      "text/plain": [
       "2003982"
      ]
     },
     "execution_count": 11,
     "metadata": {},
     "output_type": "execute_result"
    }
   ],
   "source": [
    "2*3*333997"
   ]
  },
  {
   "cell_type": "code",
   "execution_count": 12,
   "metadata": {
    "collapsed": false
   },
   "outputs": [
    {
     "data": {
      "text/plain": [
       "[(7, 3), (11, 2), (19, 1)]"
      ]
     },
     "execution_count": 12,
     "metadata": {},
     "output_type": "execute_result"
    }
   ],
   "source": [
    "prime_factorization(7**3 * 11**2 * 19)"
   ]
  },
  {
   "cell_type": "markdown",
   "metadata": {},
   "source": [
    "### Question 3"
   ]
  },
  {
   "cell_type": "markdown",
   "metadata": {},
   "source": [
    "This kind of sequence is related to [continued fractions](https://en.wikipedia.org/wiki/Continued_fraction) (although our question reversed the order of the terms $a_n$):\n",
    "\n",
    "![continued fraction](https://wikimedia.org/api/rest_v1/media/math/render/svg/dfd3c0b57dae809f1246971a93d3878a6e35745d)\n",
    "\n",
    "(Source: [Wikipedia - Continued fraction](https://en.wikipedia.org/wiki/Continued_fraction))"
   ]
  },
  {
   "cell_type": "code",
   "execution_count": 13,
   "metadata": {
    "collapsed": false
   },
   "outputs": [],
   "source": [
    "def sequence_to_fraction(a_list):\n",
    "    \"\"\"Given a finite sequence a_0, a_1, ..., a_N,\n",
    "    compute the last term b_N in the recursive sequence b_n = a_n + 1/b_{n-1}.\n",
    "    \"\"\"\n",
    "    b_n = a_list[0]\n",
    "    N = len(a_list)\n",
    "    for n in range(1,N):\n",
    "        b_n = a_list[n] + 1/b_n\n",
    "    return b_n"
   ]
  },
  {
   "cell_type": "markdown",
   "metadata": {},
   "source": [
    "The continued fraction with all terms $a_n = 1$ is the [Golden ratio](https://en.wikipedia.org/wiki/Golden_ratio) $\\frac{1 + \\sqrt{5}}{2}$:"
   ]
  },
  {
   "cell_type": "code",
   "execution_count": 14,
   "metadata": {
    "collapsed": false
   },
   "outputs": [
    {
     "data": {
      "text/plain": [
       "1.618033988749895"
      ]
     },
     "execution_count": 14,
     "metadata": {},
     "output_type": "execute_result"
    }
   ],
   "source": [
    "sequence_to_fraction([1 for _ in range(0,1000)])"
   ]
  },
  {
   "cell_type": "code",
   "execution_count": 15,
   "metadata": {
    "collapsed": false
   },
   "outputs": [
    {
     "data": {
      "text/plain": [
       "1.618033988749895"
      ]
     },
     "execution_count": 15,
     "metadata": {},
     "output_type": "execute_result"
    }
   ],
   "source": [
    "(1+5**(0.5))/2"
   ]
  },
  {
   "cell_type": "markdown",
   "metadata": {},
   "source": [
    "There is also the continued fraction representation of $e$:"
   ]
  },
  {
   "cell_type": "code",
   "execution_count": 16,
   "metadata": {
    "collapsed": false
   },
   "outputs": [
    {
     "data": {
      "text/plain": [
       "2.718279569892473"
      ]
     },
     "execution_count": 16,
     "metadata": {},
     "output_type": "execute_result"
    }
   ],
   "source": [
    "sequence_to_fraction([6,1,1,4,1,1,2,1,2])"
   ]
  },
  {
   "cell_type": "markdown",
   "metadata": {},
   "source": [
    "### Question 4"
   ]
  },
  {
   "cell_type": "code",
   "execution_count": 17,
   "metadata": {
    "collapsed": true
   },
   "outputs": [],
   "source": [
    "def product(numbers):\n",
    "    \"\"\"Compute the product of the numbers in the list.\"\"\"\n",
    "    result = 1\n",
    "    for n in numbers:\n",
    "        result = result * n\n",
    "    return result"
   ]
  },
  {
   "cell_type": "code",
   "execution_count": 18,
   "metadata": {
    "collapsed": false
   },
   "outputs": [
    {
     "data": {
      "text/plain": [
       "24"
      ]
     },
     "execution_count": 18,
     "metadata": {},
     "output_type": "execute_result"
    }
   ],
   "source": [
    "product([1,2,3,4])"
   ]
  },
  {
   "cell_type": "code",
   "execution_count": 19,
   "metadata": {
    "collapsed": false
   },
   "outputs": [
    {
     "data": {
      "text/plain": [
       "0.015625"
      ]
     },
     "execution_count": 19,
     "metadata": {},
     "output_type": "execute_result"
    }
   ],
   "source": [
    "product([0.5,0.25,0.125])"
   ]
  },
  {
   "cell_type": "code",
   "execution_count": 20,
   "metadata": {
    "collapsed": false
   },
   "outputs": [
    {
     "data": {
      "text/plain": [
       "0.015625"
      ]
     },
     "execution_count": 20,
     "metadata": {},
     "output_type": "execute_result"
    }
   ],
   "source": [
    "0.5 * 0.25 * 0.125"
   ]
  },
  {
   "cell_type": "markdown",
   "metadata": {},
   "source": [
    "### Question 5"
   ]
  },
  {
   "cell_type": "code",
   "execution_count": 21,
   "metadata": {
    "collapsed": true
   },
   "outputs": [],
   "source": [
    "def sequence_to_roots(sequence):\n",
    "    \"\"\"Given a finite sequence a_0, a_1, ..., a_N,\n",
    "    compute the last term b_N in the recursive sequence b_n = (a_n + b_{n-1})**(0.5).\"\"\"\n",
    "    result = 0\n",
    "    for a in sequence:\n",
    "        result = (a + result)**0.5\n",
    "    return result"
   ]
  },
  {
   "cell_type": "code",
   "execution_count": 22,
   "metadata": {
    "collapsed": false
   },
   "outputs": [
    {
     "data": {
      "text/plain": [
       "2.1753277471610746"
      ]
     },
     "execution_count": 22,
     "metadata": {},
     "output_type": "execute_result"
    }
   ],
   "source": [
    "sequence_to_roots([1,2,3])"
   ]
  },
  {
   "cell_type": "code",
   "execution_count": 23,
   "metadata": {
    "collapsed": false
   },
   "outputs": [
    {
     "data": {
      "text/plain": [
       "2.1753277471610746"
      ]
     },
     "execution_count": 23,
     "metadata": {},
     "output_type": "execute_result"
    }
   ],
   "source": [
    "(3 + (2 + 1**0.5)**0.5)**0.5"
   ]
  },
  {
   "cell_type": "code",
   "execution_count": 24,
   "metadata": {
    "collapsed": false
   },
   "outputs": [
    {
     "data": {
      "text/plain": [
       "1.9975909124103448"
      ]
     },
     "execution_count": 24,
     "metadata": {},
     "output_type": "execute_result"
    }
   ],
   "source": [
    "sequence_to_roots([2,2,2,2,2])"
   ]
  },
  {
   "cell_type": "code",
   "execution_count": 25,
   "metadata": {
    "collapsed": false
   },
   "outputs": [
    {
     "data": {
      "text/plain": [
       "1.9975909124103448"
      ]
     },
     "execution_count": 25,
     "metadata": {},
     "output_type": "execute_result"
    }
   ],
   "source": [
    "(2 + (2 + (2 + (2 + 2**0.5)**0.5)**0.5)**0.5)**0.5"
   ]
  }
 ],
 "metadata": {
  "kernelspec": {
   "display_name": "Python 3",
   "language": "python",
   "name": "python3"
  },
  "language_info": {
   "codemirror_mode": {
    "name": "ipython",
    "version": 3
   },
   "file_extension": ".py",
   "mimetype": "text/x-python",
   "name": "python",
   "nbconvert_exporter": "python",
   "pygments_lexer": "ipython3",
   "version": "3.5.2"
  }
 },
 "nbformat": 4,
 "nbformat_minor": 1
}
