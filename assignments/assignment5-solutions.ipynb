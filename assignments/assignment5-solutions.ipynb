{
 "cells": [
  {
   "cell_type": "code",
   "execution_count": 1,
   "metadata": {
    "collapsed": true,
    "deletable": true,
    "editable": true
   },
   "outputs": [],
   "source": [
    "import numpy as np\n",
    "import matplotlib.pyplot as plt\n",
    "import scipy.integrate as spi\n",
    "from scipy.misc import derivative, comb, factorial\n",
    "%matplotlib inline"
   ]
  },
  {
   "cell_type": "markdown",
   "metadata": {
    "deletable": true,
    "editable": true
   },
   "source": [
    "### Question 1"
   ]
  },
  {
   "cell_type": "markdown",
   "metadata": {
    "deletable": true,
    "editable": true
   },
   "source": [
    "$$\n",
    "\\int_0^{\\infty} \\frac{\\arctan(px) \\arctan(qx)}{x^2} dx = \\frac{\\pi}{2} \\ln \\left( \\frac{(p + q)^{p + q}}{p^p q^q} \\right) \\ , \\ \\ p > 0 \\ , \\ \\ q > 0\n",
    "$$"
   ]
  },
  {
   "cell_type": "code",
   "execution_count": 2,
   "metadata": {
    "collapsed": true,
    "deletable": true,
    "editable": true
   },
   "outputs": [],
   "source": [
    "def pq_integral(p,q):\n",
    "    '''Compute the integral of arctan(px)*arctan(qx)/x**2 for x from 0 to infinity.'''\n",
    "    if p <= 0 or q <= 0:\n",
    "        print('Parameters p and q must be greater than zero.')\n",
    "        return None\n",
    "    # Define the integrand of the integral\n",
    "    def f(x):\n",
    "        return np.arctan(p*x) * np.arctan(q*x) / x**2\n",
    "    # Call scipy.integrate.quad to compute the integral\n",
    "    I, abserr = spi.quad(f,0,np.inf)\n",
    "    return I"
   ]
  },
  {
   "cell_type": "code",
   "execution_count": 3,
   "metadata": {
    "collapsed": false,
    "deletable": true,
    "editable": true
   },
   "outputs": [],
   "source": [
    "p = 2\n",
    "q = 6"
   ]
  },
  {
   "cell_type": "code",
   "execution_count": 4,
   "metadata": {
    "collapsed": false,
    "deletable": true,
    "editable": true
   },
   "outputs": [
    {
     "data": {
      "text/plain": [
       "7.066511836759208"
      ]
     },
     "execution_count": 4,
     "metadata": {},
     "output_type": "execute_result"
    }
   ],
   "source": [
    "pq_integral(p,q)"
   ]
  },
  {
   "cell_type": "code",
   "execution_count": 5,
   "metadata": {
    "collapsed": false,
    "deletable": true,
    "editable": true
   },
   "outputs": [
    {
     "data": {
      "text/plain": [
       "7.0665118367592079"
      ]
     },
     "execution_count": 5,
     "metadata": {},
     "output_type": "execute_result"
    }
   ],
   "source": [
    "np.pi/2 * np.log((p + q)**(p + q)/(p**p * q**q))"
   ]
  },
  {
   "cell_type": "code",
   "execution_count": 6,
   "metadata": {
    "collapsed": false,
    "deletable": true,
    "editable": true
   },
   "outputs": [
    {
     "name": "stdout",
     "output_type": "stream",
     "text": [
      "Parameters p and q must be greater than zero.\n"
     ]
    }
   ],
   "source": [
    "pq_integral(-2,2)"
   ]
  },
  {
   "cell_type": "markdown",
   "metadata": {
    "deletable": true,
    "editable": true
   },
   "source": [
    "### Question 2"
   ]
  },
  {
   "cell_type": "markdown",
   "metadata": {
    "deletable": true,
    "editable": true
   },
   "source": [
    "$$\n",
    "\\int_a^b \\frac{\\ln x}{a^2 + b^2 x^2} dx = \\frac{\\pi}{2 ab} \\ln \\left( \\frac{a}{b} \\right) \\ , \\ \\ ab > 0\n",
    "$$"
   ]
  },
  {
   "cell_type": "code",
   "execution_count": 7,
   "metadata": {
    "collapsed": true,
    "deletable": true,
    "editable": true
   },
   "outputs": [],
   "source": [
    "def ab_integral(a,b):\n",
    "    '''Compute the integral of ln(x)/(a**2 + b**2 * x**2) for x from 0 to infinity.'''\n",
    "    if a*b <= 0:\n",
    "        print('Parameters a and b must satisfy ab > 0.')\n",
    "        return None\n",
    "    # Define the integrand of the integral\n",
    "    def f(x):\n",
    "        return np.log(x)/(a**2 + b**2 * x**2)\n",
    "    # Call scipy.integrate.quad to compute the integral\n",
    "    I, abserr = spi.quad(f,0,np.inf)\n",
    "    return I"
   ]
  },
  {
   "cell_type": "code",
   "execution_count": 8,
   "metadata": {
    "collapsed": true,
    "deletable": true,
    "editable": true
   },
   "outputs": [],
   "source": [
    "a = 2\n",
    "b = 7"
   ]
  },
  {
   "cell_type": "code",
   "execution_count": 9,
   "metadata": {
    "collapsed": false,
    "deletable": true,
    "editable": true
   },
   "outputs": [
    {
     "data": {
      "text/plain": [
       "-0.1405596763755228"
      ]
     },
     "execution_count": 9,
     "metadata": {},
     "output_type": "execute_result"
    }
   ],
   "source": [
    "ab_integral(a,b)"
   ]
  },
  {
   "cell_type": "code",
   "execution_count": 10,
   "metadata": {
    "collapsed": false,
    "deletable": true,
    "editable": true
   },
   "outputs": [
    {
     "data": {
      "text/plain": [
       "-0.14055967637551392"
      ]
     },
     "execution_count": 10,
     "metadata": {},
     "output_type": "execute_result"
    }
   ],
   "source": [
    "np.pi/(2*a*b) * np.log(a/b)"
   ]
  },
  {
   "cell_type": "markdown",
   "metadata": {
    "deletable": true,
    "editable": true
   },
   "source": [
    "### Question 3"
   ]
  },
  {
   "cell_type": "code",
   "execution_count": 11,
   "metadata": {
    "collapsed": false,
    "deletable": true,
    "editable": true
   },
   "outputs": [],
   "source": [
    "def derivatives(f,a,n,h=0.001):\n",
    "    '''Compute the derivatives of f of degrees 1 through n at x=a using the central difference formulas.'''\n",
    "    return np.array([sum([1/(2**m * h**m)*(-1)**k * comb(m,k) * f(a + (m - 2*k)*h) for k in range(0,m+1)]) for m in range(1,n+1)])"
   ]
  },
  {
   "cell_type": "code",
   "execution_count": 12,
   "metadata": {
    "collapsed": false,
    "deletable": true,
    "editable": true
   },
   "outputs": [
    {
     "data": {
      "text/plain": [
       "array([ 1.00000017,  1.00000033,  1.00000051])"
      ]
     },
     "execution_count": 12,
     "metadata": {},
     "output_type": "execute_result"
    }
   ],
   "source": [
    "derivatives(np.exp, 0, 3,h =0.001)"
   ]
  },
  {
   "cell_type": "code",
   "execution_count": 13,
   "metadata": {
    "collapsed": false,
    "deletable": true,
    "editable": true
   },
   "outputs": [
    {
     "data": {
      "text/plain": [
       "array([ 0.99999983,  0.        , -0.9999995 ,  0.        ])"
      ]
     },
     "execution_count": 13,
     "metadata": {},
     "output_type": "execute_result"
    }
   ],
   "source": [
    "derivatives(np.sin,0,4)"
   ]
  },
  {
   "cell_type": "markdown",
   "metadata": {
    "deletable": true,
    "editable": true
   },
   "source": [
    "### Question 4"
   ]
  },
  {
   "cell_type": "code",
   "execution_count": 14,
   "metadata": {
    "collapsed": true,
    "deletable": true,
    "editable": true
   },
   "outputs": [],
   "source": [
    "def taylor(f,a,n,L):\n",
    "    Ds = derivatives(f,a,n)\n",
    "    x = np.linspace(a-L,a+L,50*int(L))\n",
    "    y = f(x)\n",
    "    T = f(a) + sum([Ds[k-1]/factorial(k) * (x - a)**k for k in range(1,n+1)])\n",
    "    plt.plot(x,y,x,T), plt.legend(['y=f(x)','Taylor polynomial'])"
   ]
  },
  {
   "cell_type": "code",
   "execution_count": 15,
   "metadata": {
    "collapsed": false,
    "deletable": true,
    "editable": true
   },
   "outputs": [
    {
     "data": {
      "image/png": "[encoded data removed]",
      "text/plain": [
       "<matplotlib.figure.Figure at 0x7fbe735a2278>"
      ]
     },
     "metadata": {},
     "output_type": "display_data"
    }
   ],
   "source": [
    "taylor(np.cos,0,4,np.pi)"
   ]
  },
  {
   "cell_type": "markdown",
   "metadata": {
    "deletable": true,
    "editable": true
   },
   "source": [
    "### Question 5"
   ]
  },
  {
   "cell_type": "code",
   "execution_count": 16,
   "metadata": {
    "collapsed": true,
    "deletable": true,
    "editable": true
   },
   "outputs": [],
   "source": [
    "def newton(f,x0,tolerance,max_iter):\n",
    "    '''Implement Newton's method to compute a solution of f(x)=0.'''\n",
    "    xn = x0\n",
    "    for n in range(0,max_iter):\n",
    "        # Return value if most recent approximation is within desired tolerance\n",
    "        if abs(f(xn)) < tolerance:\n",
    "            return xn\n",
    "        Df = derivative(f,xn,dx=0.0001)\n",
    "        if abs(Df) < 1e-14:\n",
    "            print('Zero derivative. Algorithm stopped.')\n",
    "            return None\n",
    "        # Compute next iteration of Newton's method\n",
    "        xn = xn - f(xn)/Df\n",
    "    print(\"Exceeded maximum iterations. No root found.\")\n",
    "    return None"
   ]
  },
  {
   "cell_type": "code",
   "execution_count": 17,
   "metadata": {
    "collapsed": true,
    "deletable": true,
    "editable": true
   },
   "outputs": [],
   "source": [
    "def f(x):\n",
    "    return x**2 - 2"
   ]
  },
  {
   "cell_type": "code",
   "execution_count": 18,
   "metadata": {
    "collapsed": false,
    "deletable": true,
    "editable": true
   },
   "outputs": [
    {
     "data": {
      "text/plain": [
       "1.4142135623746899"
      ]
     },
     "execution_count": 18,
     "metadata": {},
     "output_type": "execute_result"
    }
   ],
   "source": [
    "newton(f,1,1e-10,100)"
   ]
  },
  {
   "cell_type": "code",
   "execution_count": 19,
   "metadata": {
    "collapsed": true,
    "deletable": true,
    "editable": true
   },
   "outputs": [],
   "source": [
    "def g(x):\n",
    "    return np.cos(x) + x"
   ]
  },
  {
   "cell_type": "code",
   "execution_count": 20,
   "metadata": {
    "collapsed": false,
    "deletable": true,
    "editable": true
   },
   "outputs": [
    {
     "data": {
      "text/plain": [
       "-0.73908683150800325"
      ]
     },
     "execution_count": 20,
     "metadata": {},
     "output_type": "execute_result"
    }
   ],
   "source": [
    "newton(g,2,0.001,100)"
   ]
  }
 ],
 "metadata": {
  "kernelspec": {
   "display_name": "Python 3",
   "language": "python",
   "name": "python3"
  },
  "language_info": {
   "codemirror_mode": {
    "name": "ipython",
    "version": 3
   },
   "file_extension": ".py",
   "mimetype": "text/x-python",
   "name": "python",
   "nbconvert_exporter": "python",
   "pygments_lexer": "ipython3",
   "version": "3.5.2"
  }
 },
 "nbformat": 4,
 "nbformat_minor": 2
}
