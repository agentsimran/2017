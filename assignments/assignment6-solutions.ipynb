{
 "cells": [
  {
   "cell_type": "code",
   "execution_count": 1,
   "metadata": {
    "collapsed": true,
    "deletable": true,
    "editable": true
   },
   "outputs": [],
   "source": [
    "import numpy as np\n",
    "import scipy.linalg as la"
   ]
  },
  {
   "cell_type": "markdown",
   "metadata": {
    "deletable": true,
    "editable": true
   },
   "source": [
    "**QUESTION 1**"
   ]
  },
  {
   "cell_type": "code",
   "execution_count": 2,
   "metadata": {
    "collapsed": true,
    "deletable": true,
    "editable": true
   },
   "outputs": [],
   "source": [
    "def a_solve(a):\n",
    "    M = np.array([[4,5,7],[0,1,9],[1,3,7]])\n",
    "    b = np.array([a,1-a,1])\n",
    "    return la.solve(M,b)"
   ]
  },
  {
   "cell_type": "markdown",
   "metadata": {
    "deletable": true,
    "editable": true
   },
   "source": [
    "**QUESTION 2**"
   ]
  },
  {
   "cell_type": "code",
   "execution_count": 3,
   "metadata": {
    "collapsed": true,
    "deletable": true,
    "editable": true
   },
   "outputs": [],
   "source": [
    "# SOLUTION USING FANCY INDEXING\n",
    "\n",
    "def minor_det(A,i,j):\n",
    "    '''Compute the determinant of A_ij where A_ij is the matrix\n",
    "    obtained from A by removing the ith row and jth column.'''\n",
    "    nrows, ncols = A.shape\n",
    "    row_index = np.arange(0,nrows)\n",
    "    col_index = np.arange(0,ncols)\n",
    "    A_i = A[row_index != i, :]\n",
    "    A_ij = A_i[:, col_index !=j]\n",
    "    return la.det(A_ij)"
   ]
  },
  {
   "cell_type": "code",
   "execution_count": 4,
   "metadata": {
    "collapsed": false,
    "deletable": true,
    "editable": true
   },
   "outputs": [
    {
     "data": {
      "text/plain": [
       "-9.0"
      ]
     },
     "execution_count": 4,
     "metadata": {},
     "output_type": "execute_result"
    }
   ],
   "source": [
    "A = np.array([[4,5,7],[0,1,9],[1,3,7]])\n",
    "minor_det(A,0,1)"
   ]
  },
  {
   "cell_type": "code",
   "execution_count": 5,
   "metadata": {
    "collapsed": false,
    "deletable": true,
    "editable": true
   },
   "outputs": [
    {
     "data": {
      "text/plain": [
       "-3.0"
      ]
     },
     "execution_count": 5,
     "metadata": {},
     "output_type": "execute_result"
    }
   ],
   "source": [
    "B = np.arange(0,9).reshape(3,3)\n",
    "minor_det(B,2,2)"
   ]
  },
  {
   "cell_type": "code",
   "execution_count": 6,
   "metadata": {
    "collapsed": true,
    "deletable": true,
    "editable": true
   },
   "outputs": [],
   "source": [
    "# SOLUTION USING .delete METHOD\n",
    "\n",
    "def minor_det(A,i,j):\n",
    "    '''Compute the determinant of A_ij where A_ij is the matrix obtained from A\n",
    "    by removing the ith row and jth column.'''\n",
    "    # Create a copy of A so that we don't modify the original matrix A\n",
    "    B = np.copy(A)\n",
    "    B_i = np.delete(B,i,0)\n",
    "    B_ij = np.delete(B_i,j,1)\n",
    "    return la.det(B_ij)"
   ]
  },
  {
   "cell_type": "code",
   "execution_count": 7,
   "metadata": {
    "collapsed": false,
    "deletable": true,
    "editable": true
   },
   "outputs": [
    {
     "data": {
      "text/plain": [
       "-9.0"
      ]
     },
     "execution_count": 7,
     "metadata": {},
     "output_type": "execute_result"
    }
   ],
   "source": [
    "A = np.array([[4,5,7],[0,1,9],[1,3,7]])\n",
    "minor_det(A,0,1)"
   ]
  },
  {
   "cell_type": "code",
   "execution_count": 8,
   "metadata": {
    "collapsed": false,
    "deletable": true,
    "editable": true
   },
   "outputs": [
    {
     "data": {
      "text/plain": [
       "-3.0"
      ]
     },
     "execution_count": 8,
     "metadata": {},
     "output_type": "execute_result"
    }
   ],
   "source": [
    "B = np.arange(0,9).reshape(3,3)\n",
    "minor_det(B,2,2)"
   ]
  },
  {
   "cell_type": "markdown",
   "metadata": {
    "deletable": true,
    "editable": true
   },
   "source": [
    "**QUESTION 3**\n",
    "\n",
    "Notice that the outer product $u^T v$ has only one nonzero eigenvalue given by the inner product $u v^T$."
   ]
  },
  {
   "cell_type": "code",
   "execution_count": 9,
   "metadata": {
    "collapsed": true,
    "deletable": true,
    "editable": true
   },
   "outputs": [],
   "source": [
    "# SOLUTION USING MATRIX MULTIPLICATION\n",
    "\n",
    "def outer_eig(u,v):\n",
    "    '''Compute the eigenvalues of the outer product u.T @ v'''\n",
    "    u = np.array(u)\n",
    "    v = np.array(v)\n",
    "    A = u.reshape(len(u),1) @ v.reshape(1,len(v))\n",
    "    evals, evecs = la.eig(A)\n",
    "    return evals"
   ]
  },
  {
   "cell_type": "code",
   "execution_count": 10,
   "metadata": {
    "collapsed": false,
    "deletable": true,
    "editable": true
   },
   "outputs": [
    {
     "data": {
      "text/plain": [
       "array([ 0.+0.j, -6.+0.j,  0.+0.j])"
      ]
     },
     "execution_count": 10,
     "metadata": {},
     "output_type": "execute_result"
    }
   ],
   "source": [
    "u = np.array([3,1,0])\n",
    "v = np.array([-2,0,1])\n",
    "outer_eig(u,v)"
   ]
  },
  {
   "cell_type": "code",
   "execution_count": 11,
   "metadata": {
    "collapsed": false,
    "deletable": true,
    "editable": true
   },
   "outputs": [
    {
     "data": {
      "text/plain": [
       "-6"
      ]
     },
     "execution_count": 11,
     "metadata": {},
     "output_type": "execute_result"
    }
   ],
   "source": [
    "u @ v"
   ]
  },
  {
   "cell_type": "code",
   "execution_count": 12,
   "metadata": {
    "collapsed": true,
    "deletable": true,
    "editable": true
   },
   "outputs": [],
   "source": [
    "# SOLUTION USING np.outer FUNCTION\n",
    "\n",
    "def outer_eig(u,v):\n",
    "    '''Compute the eigenvalues of the outer product u.T @ v'''\n",
    "    u = np.array(u)\n",
    "    v = np.array(v)\n",
    "    A = np.outer(u,v)\n",
    "    evals, evecs = la.eig(A)\n",
    "    return evals"
   ]
  },
  {
   "cell_type": "code",
   "execution_count": 13,
   "metadata": {
    "collapsed": false,
    "deletable": true,
    "editable": true
   },
   "outputs": [
    {
     "data": {
      "text/plain": [
       "array([ 0.+0.j, -6.+0.j,  0.+0.j])"
      ]
     },
     "execution_count": 13,
     "metadata": {},
     "output_type": "execute_result"
    }
   ],
   "source": [
    "outer_eig(u,v)"
   ]
  },
  {
   "cell_type": "markdown",
   "metadata": {
    "deletable": true,
    "editable": true
   },
   "source": [
    "**QUESTION 4**"
   ]
  },
  {
   "cell_type": "code",
   "execution_count": 14,
   "metadata": {
    "collapsed": true,
    "deletable": true,
    "editable": true
   },
   "outputs": [],
   "source": [
    "# SOLUTION USING MATRIX MULTIPLICATION\n",
    "\n",
    "def elementary(A,L,i,j,row=True):\n",
    "    '''Perform elementary operation adding L times row/column i to row/column j.'''\n",
    "    A = np.array(A)\n",
    "    nrows, ncols = A.shape\n",
    "    if row:\n",
    "        M = np.eye(nrows)\n",
    "        if i == j:\n",
    "            M[i,j] = L + 1\n",
    "        else:\n",
    "            M[j,i] = L\n",
    "        return M @ A\n",
    "    else:\n",
    "        M = np.eye(ncols)\n",
    "        if i == j:\n",
    "            M[i,j] = L + 1\n",
    "        else:\n",
    "            M[i,j] = L\n",
    "        return A @ M"
   ]
  },
  {
   "cell_type": "code",
   "execution_count": 15,
   "metadata": {
    "collapsed": false,
    "deletable": true,
    "editable": true
   },
   "outputs": [
    {
     "data": {
      "text/plain": [
       "array([[ 1.,  0.],\n",
       "       [ 0.,  2.]])"
      ]
     },
     "execution_count": 15,
     "metadata": {},
     "output_type": "execute_result"
    }
   ],
   "source": [
    "elementary(np.eye(2),1,1,1)"
   ]
  },
  {
   "cell_type": "code",
   "execution_count": 16,
   "metadata": {
    "collapsed": false,
    "deletable": true,
    "editable": true
   },
   "outputs": [
    {
     "data": {
      "text/plain": [
       "array([[ 1.,  1.],\n",
       "       [ 0.,  1.]])"
      ]
     },
     "execution_count": 16,
     "metadata": {},
     "output_type": "execute_result"
    }
   ],
   "source": [
    "elementary(np.eye(2),1,1,0)"
   ]
  },
  {
   "cell_type": "code",
   "execution_count": 17,
   "metadata": {
    "collapsed": false,
    "deletable": true,
    "editable": true
   },
   "outputs": [
    {
     "data": {
      "text/plain": [
       "array([[ 1.,  2.],\n",
       "       [ 0.,  1.]])"
      ]
     },
     "execution_count": 17,
     "metadata": {},
     "output_type": "execute_result"
    }
   ],
   "source": [
    "elementary(np.eye(2),2,0,1,row=False)"
   ]
  },
  {
   "cell_type": "code",
   "execution_count": 18,
   "metadata": {
    "collapsed": false,
    "deletable": true,
    "editable": true
   },
   "outputs": [
    {
     "data": {
      "text/plain": [
       "array([[  0.,   1.,   2.,   3.],\n",
       "       [  4.,   5.,   6.,  15.],\n",
       "       [  8.,   9.,  10.,  27.],\n",
       "       [ 12.,  13.,  14.,  39.]])"
      ]
     },
     "execution_count": 18,
     "metadata": {},
     "output_type": "execute_result"
    }
   ],
   "source": [
    "elementary(np.arange(0,16).reshape(4,4),2,0,3,row=False)"
   ]
  },
  {
   "cell_type": "code",
   "execution_count": 19,
   "metadata": {
    "collapsed": true,
    "deletable": true,
    "editable": true
   },
   "outputs": [],
   "source": [
    "# SOLUTION USING ROW ASSIGNMENT\n",
    "\n",
    "def elementary(A,L,i,j,row=True):\n",
    "    '''Perform elementary operation adding L times row/column i to row/column j.'''\n",
    "    # Create a copy of A so that we don't modify the original matrix A\n",
    "    B = np.copy(np.array(A))\n",
    "    nrows, ncols = B.shape\n",
    "    if row:\n",
    "        B[j,:] = L*B[i,:] + B[j,:]\n",
    "        return B\n",
    "    else:\n",
    "        B[:,j] = L*B[:,i] + B[:,j]\n",
    "        return B"
   ]
  },
  {
   "cell_type": "code",
   "execution_count": 20,
   "metadata": {
    "collapsed": false,
    "deletable": true,
    "editable": true
   },
   "outputs": [
    {
     "data": {
      "text/plain": [
       "array([[ 1.,  2.],\n",
       "       [ 0.,  1.]])"
      ]
     },
     "execution_count": 20,
     "metadata": {},
     "output_type": "execute_result"
    }
   ],
   "source": [
    "elementary(np.eye(2),2,0,1,row=False)"
   ]
  },
  {
   "cell_type": "code",
   "execution_count": 21,
   "metadata": {
    "collapsed": false,
    "deletable": true,
    "editable": true
   },
   "outputs": [
    {
     "data": {
      "text/plain": [
       "array([[ 0,  1,  2,  3],\n",
       "       [ 4,  5,  6, 15],\n",
       "       [ 8,  9, 10, 27],\n",
       "       [12, 13, 14, 39]])"
      ]
     },
     "execution_count": 21,
     "metadata": {},
     "output_type": "execute_result"
    }
   ],
   "source": [
    "elementary(np.arange(0,16).reshape(4,4),2,0,3,row=False)"
   ]
  },
  {
   "cell_type": "markdown",
   "metadata": {
    "deletable": true,
    "editable": true
   },
   "source": [
    "**QUESTION 5**"
   ]
  },
  {
   "cell_type": "code",
   "execution_count": 22,
   "metadata": {
    "collapsed": true,
    "deletable": true,
    "editable": true
   },
   "outputs": [],
   "source": [
    "# SOLUTION USING PROJECTION ONTO THE NORMAL VECTOR\n",
    "\n",
    "def nearest_point(coeffs,P):\n",
    "    '''Find point on plane ax + by + cz = d closest to P.'''\n",
    "    a,b,c,d = coeffs\n",
    "    # Find a point R on the plane\n",
    "    if a != 0:\n",
    "        R = np.array([d/a,0,0])\n",
    "    elif b != 0:\n",
    "        R = np.array([0,d/b,0])\n",
    "    elif c != 0:\n",
    "        R = np.array([0,0,d/c])\n",
    "    else:\n",
    "        print('Not all coefficients can be zero.')\n",
    "        return None\n",
    "    P = np.array(P)\n",
    "    RP = P - R\n",
    "    n = np.array([a,b,c])\n",
    "    # The nearest point is P minus the projection of RP onto n\n",
    "    return P - (RP @ n) / (n @ n) * n"
   ]
  },
  {
   "cell_type": "code",
   "execution_count": 23,
   "metadata": {
    "collapsed": false,
    "deletable": true,
    "editable": true
   },
   "outputs": [
    {
     "data": {
      "text/plain": [
       "array([ 1.,  0.,  0.])"
      ]
     },
     "execution_count": 23,
     "metadata": {},
     "output_type": "execute_result"
    }
   ],
   "source": [
    "nearest_point([0,0,1,0],[1,0,1])"
   ]
  },
  {
   "cell_type": "code",
   "execution_count": 24,
   "metadata": {
    "collapsed": true,
    "deletable": true,
    "editable": true
   },
   "outputs": [],
   "source": [
    "# SOLUTION USING THE LINE FROM P IN THE DIRECTION OF THE NORMAL VECTOR\n",
    "\n",
    "def nearest_point(coeffs,P):\n",
    "    '''Find point on plane ax + by + cz = d closest to P.'''\n",
    "    P = np.array(P)\n",
    "    a,b,c,d = coeffs\n",
    "    N = np.array([a,b,c])\n",
    "    if [a,b,c] == [0,0,0]:\n",
    "        print('Not all coefficients can be zero.')\n",
    "        return None\n",
    "    # Line from P to plane in the direction N normal to the plane\n",
    "    # is given by P + t*N and the value of t which gives the\n",
    "    # intersection of the line and the plane satisfies N.(P + t*N) = d\n",
    "    t = (d - (N @ P))/(N @ N)\n",
    "    return P + t*N"
   ]
  },
  {
   "cell_type": "code",
   "execution_count": 25,
   "metadata": {
    "collapsed": false,
    "deletable": true,
    "editable": true
   },
   "outputs": [
    {
     "data": {
      "text/plain": [
       "array([ 1.,  0.,  0.])"
      ]
     },
     "execution_count": 25,
     "metadata": {},
     "output_type": "execute_result"
    }
   ],
   "source": [
    "nearest_point([0,0,1,0],[1,0,1])"
   ]
  },
  {
   "cell_type": "code",
   "execution_count": 26,
   "metadata": {
    "collapsed": false,
    "deletable": true,
    "editable": true
   },
   "outputs": [
    {
     "name": "stdout",
     "output_type": "stream",
     "text": [
      "Not all coefficients can be zero.\n"
     ]
    }
   ],
   "source": [
    "nearest_point([0,0,0,0],[1,1,1])"
   ]
  }
 ],
 "metadata": {
  "kernelspec": {
   "display_name": "Python 3",
   "language": "python",
   "name": "python3"
  },
  "language_info": {
   "codemirror_mode": {
    "name": "ipython",
    "version": 3
   },
   "file_extension": ".py",
   "mimetype": "text/x-python",
   "name": "python",
   "nbconvert_exporter": "python",
   "pygments_lexer": "ipython3",
   "version": "3.5.2"
  }
 },
 "nbformat": 4,
 "nbformat_minor": 2
}
