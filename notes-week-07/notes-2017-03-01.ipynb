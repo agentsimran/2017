{
 "cells": [
  {
   "cell_type": "markdown",
   "metadata": {
    "deletable": true,
    "editable": true
   },
   "source": [
    "# MATH 210 Introduction to Mathematical Computing\n",
    "\n",
    "## March 1, 2017\n",
    "\n",
    "* Approximating definite integrals with `scipy.integrate`\n",
    "    * Trapezoid rule: `trapz`\n",
    "    * Simpson's rule: `simps`\n",
    "    * QUADPACK: `quad`"
   ]
  },
  {
   "cell_type": "code",
   "execution_count": null,
   "metadata": {
    "collapsed": true,
    "deletable": true,
    "editable": true
   },
   "outputs": [],
   "source": [
    "import numpy as np\n",
    "import matplotlib.pyplot as plt\n",
    "%matplotlib inline"
   ]
  },
  {
   "cell_type": "markdown",
   "metadata": {
    "deletable": true,
    "editable": true
   },
   "source": [
    "## Approximating definite integrals with `scipy.integrate`\n",
    "\n",
    "The package `scipy.integrate` has several functions for computing integrals and solving differential equations. We will start with the functions `trapz`, `simps` and `quad` for computing definite integrals. Check out the [documentation](https://docs.scipy.org/doc/scipy-0.18.1/reference/integrate.html)."
   ]
  },
  {
   "cell_type": "code",
   "execution_count": null,
   "metadata": {
    "collapsed": true,
    "deletable": true,
    "editable": true
   },
   "outputs": [],
   "source": [
    "import scipy.integrate as spi"
   ]
  },
  {
   "cell_type": "markdown",
   "metadata": {
    "deletable": true,
    "editable": true
   },
   "source": [
    "### Example: Trapezoid rule\n",
    "\n",
    "Let's use `trapz` to compute some simple integrals for which we know the exact value:\n",
    "\n",
    "$$\n",
    "\\int_0^{\\pi} \\sin(x) \\, dx = 2\n",
    "$$\n",
    "\n",
    "$$\n",
    "\\int_{-1}^1 \\sqrt{1 - x^2} \\, dx = \\frac{\\pi}{2}\n",
    "$$\n",
    "\n",
    "$$\n",
    "\\int_0^1 x e^{-x^2} dx = \\frac{1}{2} \\left( 1 - \\frac{1}{e} \\right)\n",
    "$$\n",
    "\n",
    "First, let's consult the documentation for `trapz`:"
   ]
  },
  {
   "cell_type": "code",
   "execution_count": null,
   "metadata": {
    "collapsed": true,
    "deletable": true,
    "editable": true
   },
   "outputs": [],
   "source": [
    "spi.trapz?"
   ]
  },
  {
   "cell_type": "markdown",
   "metadata": {
    "deletable": true,
    "editable": true
   },
   "source": [
    "We see that all we need to do it supply arrays of $x$ and $y$ values for the integrand and `trapz` returns the approximation of the integral using the [trapezoid rule](https://en.wikipedia.org/wiki/Trapezoidal_rule). The number of points we give to `trapz` is up to us but we have to remember that more points gives a better approximation but it takes more time to compute!"
   ]
  },
  {
   "cell_type": "code",
   "execution_count": null,
   "metadata": {
    "collapsed": false,
    "deletable": true,
    "editable": true
   },
   "outputs": [],
   "source": [
    "x = np.linspace(0,np.pi,1000)\n",
    "y = np.sin(x)\n",
    "spi.trapz(y,x) # Integral is exactly 2"
   ]
  },
  {
   "cell_type": "code",
   "execution_count": null,
   "metadata": {
    "collapsed": false,
    "deletable": true,
    "editable": true
   },
   "outputs": [],
   "source": [
    "x = np.linspace(-1,1,1000)\n",
    "y = np.sqrt(1 - x**2)\n",
    "spi.trapz(y,x) # Integral is exactly pi/2"
   ]
  },
  {
   "cell_type": "code",
   "execution_count": null,
   "metadata": {
    "collapsed": false,
    "deletable": true,
    "editable": true
   },
   "outputs": [],
   "source": [
    "np.pi/2"
   ]
  },
  {
   "cell_type": "code",
   "execution_count": null,
   "metadata": {
    "collapsed": false,
    "deletable": true,
    "editable": true
   },
   "outputs": [],
   "source": [
    "x = np.linspace(0,1,1000)\n",
    "y = x * np.exp(-x**2)\n",
    "spi.trapz(y,x) # Integral is exactly (1 - e^{-1})/2"
   ]
  },
  {
   "cell_type": "code",
   "execution_count": null,
   "metadata": {
    "collapsed": false,
    "deletable": true,
    "editable": true
   },
   "outputs": [],
   "source": [
    "(1 - np.exp(-1))/2"
   ]
  },
  {
   "cell_type": "markdown",
   "metadata": {
    "deletable": true,
    "editable": true
   },
   "source": [
    "### Example: Simpson's rule\n",
    "\n",
    "[Simpson's rule](https://en.wikipedia.org/wiki/Simpson%27s_rule) is based on the idea that we can approximate the function $f(x)$ by a different quadratic polynomial on each subinterval of a partition. This is a slight improvement over the trapezoid rule which approximate $f(x)$ by a straight line on each subinterval of a partition. And again we need to keep in mind that the number of subintervals in the partition is up to us and more points gives a better approximation but requires more computing time!\n",
    "\n",
    "Let's use `simps` to compute the following integral\n",
    "\n",
    "$$\n",
    "\\int_0^1 \\left( \\frac{x^{n-1}}{1 - x^{1/p}} - \\frac{px^{np-1}}{1-x} \\right) dx = p \\ln p \\ \\ , \\ p > 0\n",
    "$$\n",
    "\n",
    "Notice that the integrand is not defined at $x=1$ and so we can modify the interval $[0,1]$ to be $[0,1 - \\epsilon]$ for some small nonzero $\\epsilon$.\n",
    "\n",
    "Let's look at the documentation for `simps`:"
   ]
  },
  {
   "cell_type": "code",
   "execution_count": null,
   "metadata": {
    "collapsed": true,
    "deletable": true,
    "editable": true
   },
   "outputs": [],
   "source": [
    "spi.simps?"
   ]
  },
  {
   "cell_type": "markdown",
   "metadata": {
    "deletable": true,
    "editable": true
   },
   "source": [
    "The function works in the same way as `trapz` and so we only need to create arrays of $x$ and $y$ values."
   ]
  },
  {
   "cell_type": "code",
   "execution_count": null,
   "metadata": {
    "collapsed": false,
    "deletable": true,
    "editable": true
   },
   "outputs": [],
   "source": [
    "n = 10\n",
    "p = 3\n",
    "N = 1000\n",
    "epsilon = 0.0000001\n",
    "\n",
    "x = np.linspace(0,1 - epsilon,N)\n",
    "y = x**(n-1)/(1 - x**(1/p)) - p*x**(n*p - 1)/(1 - x)\n",
    "\n",
    "spi.simps(y,x)"
   ]
  },
  {
   "cell_type": "code",
   "execution_count": null,
   "metadata": {
    "collapsed": false,
    "deletable": true,
    "editable": true
   },
   "outputs": [],
   "source": [
    "p*np.log(p)"
   ]
  },
  {
   "cell_type": "markdown",
   "metadata": {
    "deletable": true,
    "editable": true
   },
   "source": [
    "Let's compare the `simps` result to `trapz`:"
   ]
  },
  {
   "cell_type": "code",
   "execution_count": null,
   "metadata": {
    "collapsed": false,
    "deletable": true,
    "editable": true
   },
   "outputs": [],
   "source": [
    "np.abs(spi.simps(y,x) - p*np.log(p)) < np.abs(spi.trapz(y,x) - p*np.log(p))"
   ]
  },
  {
   "cell_type": "markdown",
   "metadata": {
    "deletable": true,
    "editable": true
   },
   "source": [
    "Simpson's rule gives a better approximation as expected!"
   ]
  },
  {
   "cell_type": "markdown",
   "metadata": {
    "deletable": true,
    "editable": true
   },
   "source": [
    "### Example: Trapezoid rule versus Simpson's rule\n",
    "\n",
    "Simpson's rule will usually give a better estimate than the trapezoid rule. So why even use the trapezoid rule? Because it does fewer computations than Simpson's rule given the same points and so it's faster! Check it out!"
   ]
  },
  {
   "cell_type": "code",
   "execution_count": null,
   "metadata": {
    "collapsed": false,
    "deletable": true,
    "editable": true
   },
   "outputs": [],
   "source": [
    "N = 1000000\n",
    "x = np.linspace(0,np.pi,N)\n",
    "y = np.sin(x)"
   ]
  },
  {
   "cell_type": "code",
   "execution_count": null,
   "metadata": {
    "collapsed": false,
    "deletable": true,
    "editable": true
   },
   "outputs": [],
   "source": [
    "%%timeit\n",
    "spi.trapz(y,x)"
   ]
  },
  {
   "cell_type": "code",
   "execution_count": null,
   "metadata": {
    "collapsed": false,
    "deletable": true,
    "editable": true
   },
   "outputs": [],
   "source": [
    "%%timeit\n",
    "spi.simps(y,x)"
   ]
  },
  {
   "cell_type": "markdown",
   "metadata": {
    "deletable": true,
    "editable": true
   },
   "source": [
    "The trapezoid rule is 4 times faster!!!"
   ]
  },
  {
   "cell_type": "markdown",
   "metadata": {
    "deletable": true,
    "editable": true
   },
   "source": [
    "### Example: QUADPACK\n",
    "\n",
    "The function `quad` uses a technique from the [QUADPACK](https://en.wikipedia.org/wiki/QUADPACK) library. This is by far the best tool in SciPy for approximating definite integrals but the algorithm is beyond the scope of this course and so we will use it as a blackbox. Let's look at the documentation for `quad`:"
   ]
  },
  {
   "cell_type": "code",
   "execution_count": null,
   "metadata": {
    "collapsed": true,
    "deletable": true,
    "editable": true
   },
   "outputs": [],
   "source": [
    "spi.quad?"
   ]
  },
  {
   "cell_type": "markdown",
   "metadata": {
    "deletable": true,
    "editable": true
   },
   "source": [
    "The function `quad` works a bit differently that `trapz` and `simps`. Instead of giving arrays of $x$ and $y$ values of the function $f(x)$ that we want to integrate, we give the function $f(x)$ itself along with the limits of integration $a$ and $b$. The function `quad` returns a tuple `(I,abserr)` where `I` is an approximation of the integral\n",
    "\n",
    "$$\n",
    "\\mathtt{I} \\approx \\int_a^b f(x) \\, dx\n",
    "$$\n",
    "\n",
    "and `abserr` is an estimate for the error in the approximation\n",
    "\n",
    "$$\n",
    "\\left| \\ I - \\int_a^b f(x) \\, dx \\ \\right| < \\mathtt{abserr}\n",
    "$$"
   ]
  },
  {
   "cell_type": "markdown",
   "metadata": {
    "deletable": true,
    "editable": true
   },
   "source": [
    "Let's compute the integral using `quad`\n",
    "\n",
    "$$\n",
    "\\int_0^{\\infty} \\frac{e^{-qx}}{\\sqrt{x}} dx = \\sqrt{\\frac{\\pi}{q}} \\ \\ , \\ q > 0\n",
    "$$\n",
    "\n",
    "Notice that the integral is infinite and the integrand is not defined at $x=0$."
   ]
  },
  {
   "cell_type": "code",
   "execution_count": null,
   "metadata": {
    "collapsed": false,
    "deletable": true,
    "editable": true
   },
   "outputs": [],
   "source": [
    "q = 10 # Arbitrary choice for the parameter q\n",
    "def f(x):\n",
    "    return np.exp(-q*x)/np.sqrt(x)\n",
    "\n",
    "I, abserr = spi.quad(f,0,np.inf) # Unpack the output into 2 variables I and error\n",
    "print(I)"
   ]
  },
  {
   "cell_type": "code",
   "execution_count": null,
   "metadata": {
    "collapsed": false,
    "deletable": true,
    "editable": true
   },
   "outputs": [],
   "source": [
    "np.sqrt(np.pi/q)"
   ]
  },
  {
   "cell_type": "markdown",
   "metadata": {
    "deletable": true,
    "editable": true
   },
   "source": [
    "Let's verify that the error in the approximation is indeed less than the error estimate `error` returned by `quad`:"
   ]
  },
  {
   "cell_type": "code",
   "execution_count": null,
   "metadata": {
    "collapsed": false,
    "deletable": true,
    "editable": true
   },
   "outputs": [],
   "source": [
    "abs(I - np.sqrt(np.pi/q)) < abserr"
   ]
  },
  {
   "cell_type": "markdown",
   "metadata": {
    "collapsed": true,
    "deletable": true,
    "editable": true
   },
   "source": [
    "## Exercises"
   ]
  },
  {
   "cell_type": "markdown",
   "metadata": {
    "deletable": true,
    "editable": true
   },
   "source": [
    "**Exercise 1.** Use both `trapz` and `simps` (with the same $x$ and $y$ values) to compute the following integrals:\n",
    "\n",
    "1. $\\int_0^3 2x^2 \\sqrt{1 + x^3} \\, dx$\n",
    "2. $\\int_0^1 x \\sin(2 \\pi x) \\, dx$\n",
    "3. $\\int_0^1 \\frac{1}{1 + x^2} dx$\n",
    "\n",
    "Compute these integrals by hand (using substitution, integration by parts, etc.) and compare the exact values to the approximations."
   ]
  },
  {
   "cell_type": "markdown",
   "metadata": {
    "deletable": true,
    "editable": true
   },
   "source": [
    "**Exercise 2.** Verify the integral formula\n",
    "\n",
    "$$\n",
    "\\int_0^1 \\ln(x) \\ln(1-x) \\, dx = 2 - \\frac{\\pi^2}{6}\n",
    "$$"
   ]
  },
  {
   "cell_type": "markdown",
   "metadata": {
    "deletable": true,
    "editable": true
   },
   "source": [
    "**Exercise 3.** Verify the integral formula\n",
    "\n",
    "$$\n",
    "\\int_0^{\\pi/2} \\frac{x^3 \\cos(x)}{\\sin^3(x)} dx = \\frac{3}{2} \\pi \\ln(2) - \\frac{\\pi^3}{16}\n",
    "$$"
   ]
  }
 ],
 "metadata": {
  "kernelspec": {
   "display_name": "Python 3",
   "language": "python",
   "name": "python3"
  },
  "language_info": {
   "codemirror_mode": {
    "name": "ipython",
    "version": 3
   },
   "file_extension": ".py",
   "mimetype": "text/x-python",
   "name": "python",
   "nbconvert_exporter": "python",
   "pygments_lexer": "ipython3",
   "version": "3.5.2"
  }
 },
 "nbformat": 4,
 "nbformat_minor": 2
}
