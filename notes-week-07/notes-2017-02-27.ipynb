{
 "cells": [
  {
   "cell_type": "markdown",
   "metadata": {
    "deletable": true,
    "editable": true
   },
   "source": [
    "# MATH 210 Introduction to Mathematical Computing\n",
    "\n",
    "## February 27, 2017\n",
    "\n",
    "1. Approximating definite integrals by Riemann sums\n",
    "2. Approximating integrals with `scipy.integrate.trapz`\n",
    "3. Exercises"
   ]
  },
  {
   "cell_type": "code",
   "execution_count": null,
   "metadata": {
    "collapsed": true,
    "deletable": true,
    "editable": true
   },
   "outputs": [],
   "source": [
    "import numpy as np\n",
    "import matplotlib.pyplot as plt\n",
    "%matplotlib inline"
   ]
  },
  {
   "cell_type": "markdown",
   "metadata": {
    "deletable": true,
    "editable": true
   },
   "source": [
    "## 1. Approximating definite integrals with Riemann sums"
   ]
  },
  {
   "cell_type": "markdown",
   "metadata": {
    "deletable": true,
    "editable": true
   },
   "source": [
    "The definite [integral](https://en.wikipedia.org/wiki/Integral) of a function $f(x)$ over the interval $[a,b]$ is defined as a limit of [Riemann sums](https://en.wikipedia.org/wiki/Riemann_sum)\n",
    "\n",
    "$$\n",
    "\\int_a^b f(x) \\, dx = \\lim_{n \\to \\infty} \\sum_{i=1}^n f(x_i^*) (x_i - x_{i-1}) \\ \\ , \\ x_i^* \\in [x_{i-1},x_i]\n",
    "$$\n",
    "\n",
    "The value $x_i^*$ chosen in each subinterval is arbitrary however there are certain obvious choices:\n",
    "\n",
    "* A **left** Riemann sum is when each $x_i^* = x_{i-1}$ is the left endpoint of the subinterval $[x_{i-1},x_i]$\n",
    "* A **right** Riemann sum is when each $x_i^* = x_i$ is the right endpoint of the subinterval $[x_{i-1},x_i]$\n",
    "* A **midpoint** Riemann sum is when each $x_i^* = (x_{i-1} + x_i)/2$ is the midpoint of the subinterval $[x_{i-1},x_i]$\n",
    "\n",
    "Let's write a function called `riemann_sum` which takes 5 input parameters `f`, `a`, `b`, `n` and `method` and returns the Riemann sum\n",
    "\n",
    "$$\n",
    "\\sum_{i=1}^n f(x_i^*) (x_i - x_{i-1})\n",
    "$$\n",
    "\n",
    "where the partition $a = x_0 < x_1 < \\cdots < x_n = b$ has subintervals of **equal length**, and `method` determines whether we use left endpoints, right endpoints or midpoints (with midpoints as the default method)."
   ]
  },
  {
   "cell_type": "code",
   "execution_count": null,
   "metadata": {
    "collapsed": true,
    "deletable": true,
    "editable": true
   },
   "outputs": [],
   "source": [
    "def riemann_sum(f,a,b,n,method='midpoint'):\n",
    "    '''Compute the Riemann sum of f(x) over the interval [a,b]\n",
    "    using a partition with n subintervals of equal length.\n",
    "    \n",
    "    INPUT:\n",
    "        f (function) : Vectorized function of one variable\n",
    "        a,b (numbers) : Endpoints of the interval [a,b]\n",
    "        n (int) : Number of subintervals of equal length in the partition of [a,b]\n",
    "        method (str) : Determines the kind of Riemann sum:\n",
    "            right : Riemann sum using right endpoints\n",
    "            left : Riemann sum using left endpoints\n",
    "            midpoint (default) : Riemann sum using midpoints\n",
    "            \n",
    "    OUTPUT:\n",
    "        Value of the Riemann sum (number)\n",
    "    '''\n",
    "    # Length of each subinterval\n",
    "    dx = (b - a)/n\n",
    "    # Array of endpoints\n",
    "    x = np.linspace(a,b,n+1)\n",
    "    if method == 'left':\n",
    "        # Compute left Riemann sum\n",
    "        # Array of left endpoints\n",
    "        x = x[0:-1]\n",
    "        return np.sum(f(x)*dx)\n",
    "    elif method == 'right':\n",
    "        # Compute right Riemann sum\n",
    "        # Array of right endpoints\n",
    "        x = x[1:]\n",
    "        return np.sum(f(x)*dx)\n",
    "    elif method == 'midpoint':\n",
    "        # Compute Riemann sum with midpoints\n",
    "        # Array of midpoints\n",
    "        x = (x[0:-1] + x[1:])/2 # Or x = x[0:-1] + dx/2\n",
    "        return np.sum(f(x)*dx)\n",
    "    else:\n",
    "        # Don't recognize the method\n",
    "        print('Method',method,'undefined.')\n",
    "        return None"
   ]
  },
  {
   "cell_type": "markdown",
   "metadata": {
    "deletable": true,
    "editable": true
   },
   "source": [
    "Let's test out function with inputs where we know what the output should be. For example, we know $\\int_0^{\\pi/2} \\sin(x) \\, dx = 1$ and, since $\\sin(x)$ is concave down on $[0,\\pi/2]$, we know that left endpoints will give an over-estimate, and right endpoints will give an over-estimate."
   ]
  },
  {
   "cell_type": "code",
   "execution_count": null,
   "metadata": {
    "collapsed": false,
    "deletable": true,
    "editable": true
   },
   "outputs": [],
   "source": [
    "riemann_sum(np.sin,0,np.pi/2,100)"
   ]
  },
  {
   "cell_type": "code",
   "execution_count": null,
   "metadata": {
    "collapsed": false,
    "deletable": true,
    "editable": true
   },
   "outputs": [],
   "source": [
    "riemann_sum(np.sin,0,np.pi/2,100,'right')"
   ]
  },
  {
   "cell_type": "code",
   "execution_count": null,
   "metadata": {
    "collapsed": false,
    "deletable": true,
    "editable": true
   },
   "outputs": [],
   "source": [
    "riemann_sum(np.sin,0,np.pi/2,100,'left')"
   ]
  },
  {
   "cell_type": "markdown",
   "metadata": {
    "deletable": true,
    "editable": true
   },
   "source": [
    "We also know that $\\int_0^1 x \\, dx = 1/2$ and midpoint should give the result exactly:"
   ]
  },
  {
   "cell_type": "code",
   "execution_count": null,
   "metadata": {
    "collapsed": true,
    "deletable": true,
    "editable": true
   },
   "outputs": [],
   "source": [
    "def fun(x):\n",
    "    return x"
   ]
  },
  {
   "cell_type": "code",
   "execution_count": null,
   "metadata": {
    "collapsed": false,
    "deletable": true,
    "editable": true
   },
   "outputs": [],
   "source": [
    "riemann_sum(fun,0,1,100)"
   ]
  },
  {
   "cell_type": "markdown",
   "metadata": {
    "deletable": true,
    "editable": true
   },
   "source": [
    "One last extreme example: we know that if we choose $f(x) = \\cos(x)$ over the interval $[0,\\pi/2]$ with one subinterval then the Riemann sum with midpoints gives\n",
    "\n",
    "$$\n",
    "\\cos(\\pi/4) \\frac{\\pi}{2} = \\frac{\\pi}{2 \\sqrt{2}}\n",
    "$$"
   ]
  },
  {
   "cell_type": "code",
   "execution_count": null,
   "metadata": {
    "collapsed": false,
    "deletable": true,
    "editable": true
   },
   "outputs": [],
   "source": [
    "riemann_sum(np.cos,0,np.pi/2,1)"
   ]
  },
  {
   "cell_type": "code",
   "execution_count": null,
   "metadata": {
    "collapsed": false,
    "deletable": true,
    "editable": true
   },
   "outputs": [],
   "source": [
    "1/2**0.5 * np.pi/2"
   ]
  },
  {
   "cell_type": "markdown",
   "metadata": {
    "deletable": true,
    "editable": true
   },
   "source": [
    "## 2. Integration using scipy.integrate\n",
    "\n",
    "The SciPy library has a package [scipy.integrate](https://docs.scipy.org/doc/scipy-0.18.1/reference/integrate.html) for approximating definite integrals and numerically solving differential equations. We will start by using the simplest function for approximating definite integrals: the trapezoid rule."
   ]
  },
  {
   "cell_type": "markdown",
   "metadata": {
    "deletable": true,
    "editable": true
   },
   "source": [
    "### Trapezoid rule\n",
    "\n",
    "The [trapezoid rule](https://en.wikipedia.org/wiki/Trapezoidal_rule) is similar to Riemann sums but instead of computing the area of a reactangle over each subinterval we compute the area of the trapezoid connecting the points $(x_{i-1},0)$, $(x_i,0)$, $(x_{i-1},f(x_{i-1}))$ and $(x_i,f(x_i))$. For a partitition $a = x_0 < x_1 < \\cdots < x_n = b$ the formula is\n",
    "\n",
    "$$\n",
    "\\int_a^b f(x) \\, dx \\approx \\frac{1}{2} \\sum_{i = 1}^n \\left( f(x_i) + f(x_{i-1}) \\right) ( x_i - x_{i-1} )\n",
    "$$\n",
    "\n",
    "Let's write a function called `my_trapz` which 2 input parameters $x$ and $y$ (NumPy arrays which defined points on the curve to integrate) and returns the approximation of the integral by the trapezoid rule."
   ]
  },
  {
   "cell_type": "code",
   "execution_count": null,
   "metadata": {
    "collapsed": true,
    "deletable": true,
    "editable": true
   },
   "outputs": [],
   "source": [
    "def my_trapz(y,x):\n",
    "    '''Compute the trapezoid rule given function values defined by the arrays x and y.'''\n",
    "    return np.sum((y[1:] + y[0:-1])*(x[1:] - x[0:-1])) * 0.5"
   ]
  },
  {
   "cell_type": "markdown",
   "metadata": {
    "deletable": true,
    "editable": true
   },
   "source": [
    "Let's test our function on something we know. For example, we know $\\int_0^1 e^{-x} \\, dx = \\left( 1 - \\frac{1}{e} \\right)$"
   ]
  },
  {
   "cell_type": "code",
   "execution_count": null,
   "metadata": {
    "collapsed": false,
    "deletable": true,
    "editable": true
   },
   "outputs": [],
   "source": [
    "x = np.linspace(0,1,100)\n",
    "y = np.exp(-x)\n",
    "my_trapz(y,x)"
   ]
  },
  {
   "cell_type": "code",
   "execution_count": null,
   "metadata": {
    "collapsed": false,
    "deletable": true,
    "editable": true
   },
   "outputs": [],
   "source": [
    "1 - np.exp(-1)"
   ]
  },
  {
   "cell_type": "markdown",
   "metadata": {
    "deletable": true,
    "editable": true
   },
   "source": [
    "### `scipy.integrate.trapz`\n",
    "\n",
    "Let's import the `scipy.integrate` packages from the SciPy library and use the `trapz` function to approximate definite integrals."
   ]
  },
  {
   "cell_type": "code",
   "execution_count": null,
   "metadata": {
    "collapsed": true,
    "deletable": true,
    "editable": true
   },
   "outputs": [],
   "source": [
    "import scipy.integrate as spi"
   ]
  },
  {
   "cell_type": "markdown",
   "metadata": {
    "deletable": true,
    "editable": true
   },
   "source": [
    "Let's look at the documentation to see how the function works:"
   ]
  },
  {
   "cell_type": "code",
   "execution_count": null,
   "metadata": {
    "collapsed": true,
    "deletable": true,
    "editable": true
   },
   "outputs": [],
   "source": [
    "spi.trapz?"
   ]
  },
  {
   "cell_type": "markdown",
   "metadata": {
    "deletable": true,
    "editable": true
   },
   "source": [
    "All we need to do is create arrays $x$ and $y$ for a given function just like our function `my_trapz` above."
   ]
  },
  {
   "cell_type": "markdown",
   "metadata": {
    "deletable": true,
    "editable": true
   },
   "source": [
    "**Example.** Let's approximate $\\int_0^{\\pi} e^{\\sin(x)} dx$ using `trapz`."
   ]
  },
  {
   "cell_type": "code",
   "execution_count": null,
   "metadata": {
    "collapsed": true,
    "deletable": true,
    "editable": true
   },
   "outputs": [],
   "source": [
    "x = np.linspace(0,np.pi,100)\n",
    "y = np.exp(np.sin(x))"
   ]
  },
  {
   "cell_type": "code",
   "execution_count": null,
   "metadata": {
    "collapsed": false,
    "deletable": true,
    "editable": true
   },
   "outputs": [],
   "source": [
    "plt.plot(x,y), plt.xlim([0,np.pi]), plt.ylim([0,3]), plt.grid('on');"
   ]
  },
  {
   "cell_type": "code",
   "execution_count": null,
   "metadata": {
    "collapsed": false,
    "deletable": true,
    "editable": true
   },
   "outputs": [],
   "source": [
    "spi.trapz(y,x)"
   ]
  },
  {
   "cell_type": "markdown",
   "metadata": {
    "deletable": true,
    "editable": true
   },
   "source": [
    "**Example.** Let's use `trapz` to verify the famous formula\n",
    "\n",
    "$$\n",
    "\\int_{-\\infty}^{\\infty} e^{-x^2} dx = \\sqrt{\\pi}\n",
    "$$"
   ]
  },
  {
   "cell_type": "code",
   "execution_count": null,
   "metadata": {
    "collapsed": true,
    "deletable": true,
    "editable": true
   },
   "outputs": [],
   "source": [
    "x = np.linspace(-1000,1000,2000000)\n",
    "y = np.exp(-x**2)"
   ]
  },
  {
   "cell_type": "code",
   "execution_count": null,
   "metadata": {
    "collapsed": false,
    "deletable": true,
    "editable": true
   },
   "outputs": [],
   "source": [
    "plt.plot(x,y), plt.xlim([-5,5]), plt.grid('on');"
   ]
  },
  {
   "cell_type": "code",
   "execution_count": null,
   "metadata": {
    "collapsed": false,
    "deletable": true,
    "editable": true
   },
   "outputs": [],
   "source": [
    "spi.trapz(y,x)"
   ]
  },
  {
   "cell_type": "code",
   "execution_count": null,
   "metadata": {
    "collapsed": false,
    "deletable": true,
    "editable": true
   },
   "outputs": [],
   "source": [
    "np.pi**0.5"
   ]
  },
  {
   "cell_type": "markdown",
   "metadata": {
    "deletable": true,
    "editable": true
   },
   "source": [
    "## 3. Exercises"
   ]
  },
  {
   "cell_type": "markdown",
   "metadata": {
    "deletable": true,
    "editable": true
   },
   "source": [
    "**Exercise.** Use `trapz` to approximate the integral and compare to the exact value\n",
    "\n",
    "$$\n",
    "\\int_0^1 x e^{-x^2} \\, dx = \\frac{1}{2} \\left( 1 - \\frac{1}{e} \\right)\n",
    "$$"
   ]
  },
  {
   "cell_type": "markdown",
   "metadata": {
    "deletable": true,
    "editable": true
   },
   "source": [
    "**Exercise.** Use `trapz` to approximate the left side of the integral equation\n",
    "\n",
    "$$\n",
    "\\int_0^1 \\ln(x) \\ln(1-x) \\, dx = 2 - \\frac{\\pi^2}{6}\n",
    "$$\n",
    "\n",
    "and compare with the right side. (Note that this is an improper integral since the integrand is not defined at 0 nor 1. To use `trapz`, consider using an array of $x$ values over an interval such as $[0.0001,0.9999]$.)"
   ]
  },
  {
   "cell_type": "markdown",
   "metadata": {
    "deletable": true,
    "editable": true
   },
   "source": [
    "**Exercise.** Use `trapz` to approximate the left side of the integral equation\n",
    "\n",
    "$$\n",
    "\\int_0^{\\pi/2} \\frac{x^3 \\cos x}{\\sin^3 x} \\, dx = \\frac{3}{2} \\pi \\ln 2 - \\frac{\\pi^3}{16}\n",
    "$$\n",
    "\n",
    "and compare the exact value on the right side. (Note this is an improper integral since the integrand is not defined at $x=0$. Try using an interval such as $[0.0001,\\pi/2]$.)"
   ]
  }
 ],
 "metadata": {
  "kernelspec": {
   "display_name": "Python 3",
   "language": "python",
   "name": "python3"
  },
  "language_info": {
   "codemirror_mode": {
    "name": "ipython",
    "version": 3
   },
   "file_extension": ".py",
   "mimetype": "text/x-python",
   "name": "python",
   "nbconvert_exporter": "python",
   "pygments_lexer": "ipython3",
   "version": "3.5.2"
  }
 },
 "nbformat": 4,
 "nbformat_minor": 2
}
