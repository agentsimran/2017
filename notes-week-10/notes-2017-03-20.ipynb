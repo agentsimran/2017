{
 "cells": [
  {
   "cell_type": "markdown",
   "metadata": {
    "deletable": true,
    "editable": true
   },
   "source": [
    "# MATH 210 Introduction to Mathematical Computing\n",
    "\n",
    "## March 20, 2017\n",
    "\n",
    "1. Solving first order ODEs with SciPy\n",
    "    * Simple examples\n",
    "    * Logistic equation\n",
    "2. Solving second order ODEs with SciPy\n",
    "    * Write a second order equation as a first order system\n",
    "    * Simple examples\n",
    "3. Exercises"
   ]
  },
  {
   "cell_type": "code",
   "execution_count": 1,
   "metadata": {
    "collapsed": true,
    "deletable": true,
    "editable": true
   },
   "outputs": [],
   "source": [
    "import numpy as np\n",
    "import matplotlib.pyplot as plt\n",
    "%matplotlib inline"
   ]
  },
  {
   "cell_type": "markdown",
   "metadata": {
    "deletable": true,
    "editable": true
   },
   "source": [
    "## 1. Solving first order ODEs with SciPy\n",
    "\n",
    "The main ODE solver in SciPy is `scipy.integrate.odeint.` Last time, we saw that it takes at least 3 input parameters:\n",
    "\n",
    "* a function `f` defining the right side of a first order equation $y' = f(y,t)$\n",
    "* initial condition(s) `y0`\n",
    "* an array `t` of $t$ values where we solve for $y(t)$\n",
    "\n",
    "Let's import `scipy.integrate` and do some examples:"
   ]
  },
  {
   "cell_type": "code",
   "execution_count": 2,
   "metadata": {
    "collapsed": true,
    "deletable": true,
    "editable": true
   },
   "outputs": [],
   "source": [
    "import scipy.integrate as spi"
   ]
  },
  {
   "cell_type": "markdown",
   "metadata": {
    "deletable": true,
    "editable": true
   },
   "source": [
    "### Example\n",
    "\n",
    "Plot the solution of $y' = y^2 - t^2$ with initial condition $y(0) = 1$ for $t \\in [0,1]$."
   ]
  },
  {
   "cell_type": "code",
   "execution_count": 3,
   "metadata": {
    "collapsed": true,
    "deletable": true,
    "editable": true
   },
   "outputs": [],
   "source": [
    "# Define the right side of the ODE\n",
    "def f(y,t):\n",
    "    return y**2 - t**2"
   ]
  },
  {
   "cell_type": "code",
   "execution_count": 4,
   "metadata": {
    "collapsed": true,
    "deletable": true,
    "editable": true
   },
   "outputs": [],
   "source": [
    "# Define the initial condition\n",
    "y0 = 1"
   ]
  },
  {
   "cell_type": "code",
   "execution_count": 5,
   "metadata": {
    "collapsed": true,
    "deletable": true,
    "editable": true
   },
   "outputs": [],
   "source": [
    "# Array of t values\n",
    "t = np.linspace(0,1,100)"
   ]
  },
  {
   "cell_type": "code",
   "execution_count": 6,
   "metadata": {
    "collapsed": true,
    "deletable": true,
    "editable": true
   },
   "outputs": [],
   "source": [
    "# Compute the solution\n",
    "y = spi.odeint(f,y0,t)"
   ]
  },
  {
   "cell_type": "code",
   "execution_count": 7,
   "metadata": {
    "collapsed": false,
    "deletable": true,
    "editable": true
   },
   "outputs": [
    {
     "data": {
      "image/png": "[encoded data removed]",
      "text/plain": [
       "<matplotlib.figure.Figure at 0x7f8a0efaef60>"
      ]
     },
     "metadata": {},
     "output_type": "display_data"
    }
   ],
   "source": [
    "# Plot the numerical solution\n",
    "plt.plot(t,y);"
   ]
  },
  {
   "cell_type": "markdown",
   "metadata": {
    "deletable": true,
    "editable": true
   },
   "source": [
    "### Example\n",
    "\n",
    "The [logistic equation](https://en.wikipedia.org/wiki/Logistic_function) $y' = y(1-y)$, $y(0) = k_0$.\n",
    "\n",
    "Let's plot the solutions to the logistic equation for different intial conditions."
   ]
  },
  {
   "cell_type": "code",
   "execution_count": 8,
   "metadata": {
    "collapsed": true,
    "deletable": true,
    "editable": true
   },
   "outputs": [],
   "source": [
    "def f(y,t):\n",
    "    return y*(1 - y)"
   ]
  },
  {
   "cell_type": "code",
   "execution_count": 9,
   "metadata": {
    "collapsed": true,
    "deletable": true,
    "editable": true
   },
   "outputs": [],
   "source": [
    "y0 = np.arange(0,3,0.2)"
   ]
  },
  {
   "cell_type": "code",
   "execution_count": 10,
   "metadata": {
    "collapsed": true,
    "deletable": true,
    "editable": true
   },
   "outputs": [],
   "source": [
    "t = np.linspace(0,5,100)"
   ]
  },
  {
   "cell_type": "code",
   "execution_count": 11,
   "metadata": {
    "collapsed": false,
    "deletable": true,
    "editable": true
   },
   "outputs": [
    {
     "data": {
      "image/png": "[encoded data removed]",
      "text/plain": [
       "<matplotlib.figure.Figure at 0x7f8a43c9cd30>"
      ]
     },
     "metadata": {},
     "output_type": "display_data"
    }
   ],
   "source": [
    "# Plot solutions given initial condition y(0) in the range [0,3]\n",
    "for y00 in y0:\n",
    "    y = spi.odeint(f,y00,t)\n",
    "    plt.plot(t,y,'b')\n",
    "\n",
    "# Plot solutions given initial condition y(0) in the range [-0.005,0]\n",
    "for y00 in [-0.0001, -0.001, -0.002, -0.003, -0.004, -0.005]:\n",
    "    y = spi.odeint(f,y00,t)\n",
    "    plt.plot(t,y,'b')"
   ]
  },
  {
   "cell_type": "markdown",
   "metadata": {
    "deletable": true,
    "editable": true
   },
   "source": [
    "Notice the steady state solutions $y = 1$ (stable steady state) and $y = 0$ (unstable steady state)."
   ]
  },
  {
   "cell_type": "markdown",
   "metadata": {
    "deletable": true,
    "editable": true
   },
   "source": [
    "## 2. Solving second order ODEs with SciPy\n",
    "\n",
    "All numerical ODE solvers (in MATLAB, Python, etc.) require the user to write their equations as a system of first order differential equations. How do we write a second order equation as a first order system? Introduce a new variable for each derivative of the unknown function(s) up to one less than the order of the equation.\n",
    "\n",
    "### Example\n",
    "\n",
    "To rewrite the second order equation $y'' + y = 0$ as a first order system, we introduce two new variables $u_0$ and $u_1$ for $y$ and $y'$."
   ]
  },
  {
   "cell_type": "markdown",
   "metadata": {
    "deletable": true,
    "editable": true
   },
   "source": [
    "$$\n",
    "\\begin{align}\n",
    "u_0 &= y \\\\\n",
    "u_1 &= y'\n",
    "\\end{align}\n",
    "$$"
   ]
  },
  {
   "cell_type": "markdown",
   "metadata": {
    "deletable": true,
    "editable": true
   },
   "source": [
    "We can rewrite the second order equation $y'' + y = 0$ as a first order system in terms of $u_0$ and $u_1$:"
   ]
  },
  {
   "cell_type": "markdown",
   "metadata": {
    "deletable": true,
    "editable": true
   },
   "source": [
    "\\begin{align}\n",
    "u_0' &= u_1 \\\\\n",
    "u_1' &= -u_0\n",
    "\\end{align}"
   ]
  },
  {
   "cell_type": "markdown",
   "metadata": {
    "deletable": true,
    "editable": true
   },
   "source": [
    "So now, in vector notation, our system of equations is\n",
    "\n",
    "$$\n",
    "\\frac{d \\mathbf{u}}{dt} = \\mathbf{f}(\\mathbf{u},t)\n",
    "$$"
   ]
  },
  {
   "cell_type": "markdown",
   "metadata": {
    "deletable": true,
    "editable": true
   },
   "source": [
    "where $\\mathbf{u} = \\begin{bmatrix} u_0 \\\\ u_1 \\end{bmatrix}$ and\n",
    "\n",
    "$$\n",
    "\\mathbf{f}(\\mathbf{u},t) = \\begin{bmatrix} u_1 \\\\ -u_0 \\end{bmatrix}\n",
    "$$"
   ]
  },
  {
   "cell_type": "markdown",
   "metadata": {
    "deletable": true,
    "editable": true
   },
   "source": [
    "Let's solve the system for initial conditions $u_0(0) = 1$ and $u_1(0) = 0$."
   ]
  },
  {
   "cell_type": "code",
   "execution_count": 12,
   "metadata": {
    "collapsed": true,
    "deletable": true,
    "editable": true
   },
   "outputs": [],
   "source": [
    "# Define the vector function f(y,t) which gives the right side of the sytem\n",
    "def f(u,t):\n",
    "    return [ u[1], -u[0] ]"
   ]
  },
  {
   "cell_type": "code",
   "execution_count": 13,
   "metadata": {
    "collapsed": true,
    "deletable": true,
    "editable": true
   },
   "outputs": [],
   "source": [
    "# The initial conditions \n",
    "u0 = [1,0]"
   ]
  },
  {
   "cell_type": "code",
   "execution_count": 14,
   "metadata": {
    "collapsed": true,
    "deletable": true,
    "editable": true
   },
   "outputs": [],
   "source": [
    "# Define the array of t values\n",
    "t = np.linspace(0,2*np.pi,100)"
   ]
  },
  {
   "cell_type": "code",
   "execution_count": 15,
   "metadata": {
    "collapsed": false,
    "deletable": true,
    "editable": true
   },
   "outputs": [],
   "source": [
    "# Compute the solution\n",
    "U = spi.odeint(f,u0,t)"
   ]
  },
  {
   "cell_type": "code",
   "execution_count": 16,
   "metadata": {
    "collapsed": false,
    "deletable": true,
    "editable": true
   },
   "outputs": [
    {
     "data": {
      "text/plain": [
       "(100, 2)"
      ]
     },
     "execution_count": 16,
     "metadata": {},
     "output_type": "execute_result"
    }
   ],
   "source": [
    "U.shape"
   ]
  },
  {
   "cell_type": "markdown",
   "metadata": {
    "deletable": true,
    "editable": true
   },
   "source": [
    "$U$ is an array with 2 columns: the first column is $u_0(t)$ (which is $y(t)$) and the second column is $u_1(t)$ (which is $y'(t)$)"
   ]
  },
  {
   "cell_type": "code",
   "execution_count": 17,
   "metadata": {
    "collapsed": false,
    "deletable": true,
    "editable": true
   },
   "outputs": [
    {
     "data": {
      "image/png": "[encoded data removed]",
      "text/plain": [
       "<matplotlib.figure.Figure at 0x7f8a43c9ce48>"
      ]
     },
     "metadata": {},
     "output_type": "display_data"
    }
   ],
   "source": [
    "# Plot the first column of U. These are the y values for each t value\n",
    "plt.plot(t,U[:,0]);"
   ]
  },
  {
   "cell_type": "markdown",
   "metadata": {
    "deletable": true,
    "editable": true
   },
   "source": [
    "The answer is $y(t) = \\cos(t)$ as expected!"
   ]
  },
  {
   "cell_type": "markdown",
   "metadata": {
    "deletable": true,
    "editable": true
   },
   "source": [
    "### Example\n",
    "\n",
    "Let's plot the solution of $y'' + 4y = \\sin(2t)$ with initial conditions $y(0) = y'(0) = 0$ for $t \\in [0,30]$."
   ]
  },
  {
   "cell_type": "code",
   "execution_count": 18,
   "metadata": {
    "collapsed": true,
    "deletable": true,
    "editable": true
   },
   "outputs": [],
   "source": [
    "def f(u,t):\n",
    "    return [ u[1] , np.sin(2*t) - 4*u[0] ]"
   ]
  },
  {
   "cell_type": "code",
   "execution_count": 19,
   "metadata": {
    "collapsed": true,
    "deletable": true,
    "editable": true
   },
   "outputs": [],
   "source": [
    "u0 = [0,0]"
   ]
  },
  {
   "cell_type": "code",
   "execution_count": 20,
   "metadata": {
    "collapsed": true,
    "deletable": true,
    "editable": true
   },
   "outputs": [],
   "source": [
    "t = np.linspace(0,30,1000)"
   ]
  },
  {
   "cell_type": "code",
   "execution_count": 21,
   "metadata": {
    "collapsed": true,
    "deletable": true,
    "editable": true
   },
   "outputs": [],
   "source": [
    "U = spi.odeint(f,u0,t)"
   ]
  },
  {
   "cell_type": "code",
   "execution_count": 22,
   "metadata": {
    "collapsed": false,
    "deletable": true,
    "editable": true
   },
   "outputs": [
    {
     "data": {
      "image/png": "[encoded data removed]",
      "text/plain": [
       "<matplotlib.figure.Figure at 0x7f8a43cee048>"
      ]
     },
     "metadata": {},
     "output_type": "display_data"
    }
   ],
   "source": [
    "plt.plot(t,U[:,0]);"
   ]
  },
  {
   "cell_type": "markdown",
   "metadata": {
    "collapsed": true,
    "deletable": true,
    "editable": true
   },
   "source": [
    "The [natural frequency](https://en.wikipedia.org/wiki/Natural_frequency) of the equation is $\\sqrt{4} = 2$ and so the forcing function is causing the solution to resonate!"
   ]
  },
  {
   "cell_type": "markdown",
   "metadata": {
    "deletable": true,
    "editable": true
   },
   "source": [
    "## 3. Exercises"
   ]
  },
  {
   "cell_type": "markdown",
   "metadata": {
    "deletable": true,
    "editable": true
   },
   "source": [
    "**Exercise.** Plot the solution of the first order equation\n",
    "\n",
    "$$\n",
    "y' = \\cos(y) - \\sin(2y) + \\frac{1}{1 + t^2}\n",
    "$$\n",
    "\n",
    "with $y(0) = 0$ for $t \\in [0,20]$."
   ]
  },
  {
   "cell_type": "markdown",
   "metadata": {
    "deletable": true,
    "editable": true
   },
   "source": [
    "**Exercise.** Plot the solution to the first order equation\n",
    "\n",
    "$$\n",
    "y' = -e^{-y^2} - yt\n",
    "$$\n",
    "\n",
    "with $y(0) = 1$ for $t \\in [0,10]$."
   ]
  },
  {
   "cell_type": "markdown",
   "metadata": {
    "deletable": true,
    "editable": true
   },
   "source": [
    "**Exercise.** Plot the solution of the second order equation\n",
    "\n",
    "$$\n",
    "y'' + 2y' + y = \\cos(3t)\n",
    "$$\n",
    "\n",
    "with $y(0) = 0$, $y'(0) = 1$ for $t \\in [0,20]$."
   ]
  },
  {
   "cell_type": "markdown",
   "metadata": {
    "deletable": true,
    "editable": true
   },
   "source": [
    "**Exercise.** Plot the solution of the second order equation\n",
    "\n",
    "$$\n",
    "y'' - ty' + t^2 y = t\n",
    "$$\n",
    "\n",
    "with $y(0) = y'(0) = 0$ for $t \\in [0,5]$."
   ]
  }
 ],
 "metadata": {
  "kernelspec": {
   "display_name": "Python 3",
   "language": "python",
   "name": "python3"
  },
  "language_info": {
   "codemirror_mode": {
    "name": "ipython",
    "version": 3
   },
   "file_extension": ".py",
   "mimetype": "text/x-python",
   "name": "python",
   "nbconvert_exporter": "python",
   "pygments_lexer": "ipython3",
   "version": "3.5.2"
  }
 },
 "nbformat": 4,
 "nbformat_minor": 2
}
