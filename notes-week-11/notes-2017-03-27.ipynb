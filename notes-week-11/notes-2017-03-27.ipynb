{
 "cells": [
  {
   "cell_type": "markdown",
   "metadata": {
    "deletable": true,
    "editable": true
   },
   "source": [
    "# MATH 210 Introduction to Mathematical Computing\n",
    "\n",
    "## March 27, 2017\n",
    "\n",
    "* Introduction to pandas:\n",
    "    * DataFrames and importing data with pandas.read_csv\n",
    "    * Getting an overview of the DataFrame\n",
    "    * Accessing columns by name\n",
    "    * Series datatype\n",
    "    * Accessing rows by index using `.loc`\n",
    "    * Creating new columns\n",
    "    * Plotting\n",
    "    * Calculations"
   ]
  },
  {
   "cell_type": "code",
   "execution_count": 1,
   "metadata": {
    "collapsed": false,
    "deletable": true,
    "editable": true
   },
   "outputs": [],
   "source": [
    "import numpy as np\n",
    "import matplotlib.pyplot as plt\n",
    "%matplotlib inline\n",
    "import matplotlib\n",
    "matplotlib.rcParams['figure.figsize'] = (12, 6) # Sets default figure size for plots"
   ]
  },
  {
   "cell_type": "markdown",
   "metadata": {
    "collapsed": true,
    "deletable": true,
    "editable": true
   },
   "source": [
    "## 1. Introduction to pandas\n",
    "\n",
    "[pandas](http://pandas.pydata.org/) is the main data analysis packages in Python and it's built on top of NumPy and matplotlib. Let's begin by importing it:"
   ]
  },
  {
   "cell_type": "code",
   "execution_count": 2,
   "metadata": {
    "collapsed": true,
    "deletable": true,
    "editable": true
   },
   "outputs": [],
   "source": [
    "import pandas as pd"
   ]
  },
  {
   "cell_type": "markdown",
   "metadata": {
    "deletable": true,
    "editable": true
   },
   "source": [
    "### DataFrames and importing data with `pandas.read_csv` function\n",
    "\n",
    "The main datatype in pandas is the `DataFrame` and you can think of a DataFrame as a spreadsheet with rows of values, column headers and an index. Check out the [documentation](http://pandas.pydata.org/pandas-docs/stable/dsintro.html#dataframe). Let's import some data and take a look:"
   ]
  },
  {
   "cell_type": "code",
   "execution_count": 3,
   "metadata": {
    "collapsed": false,
    "deletable": true,
    "editable": true
   },
   "outputs": [],
   "source": [
    "pop_data = pd.read_csv(\"canada_population_data.csv\",index_col=0) # Set the first column in the .csv file as the index"
   ]
  },
  {
   "cell_type": "code",
   "execution_count": 4,
   "metadata": {
    "collapsed": false,
    "deletable": true,
    "editable": true
   },
   "outputs": [
    {
     "data": {
      "text/plain": [
       "pandas.core.frame.DataFrame"
      ]
     },
     "execution_count": 4,
     "metadata": {},
     "output_type": "execute_result"
    }
   ],
   "source": [
    "type(pop_data)"
   ]
  },
  {
   "cell_type": "markdown",
   "metadata": {
    "deletable": true,
    "editable": true
   },
   "source": [
    "### Getting an overview of the data\n",
    "\n",
    "There are several functions for looking at the data: `head`, `tail` and `info`."
   ]
  },
  {
   "cell_type": "code",
   "execution_count": 5,
   "metadata": {
    "collapsed": false,
    "deletable": true,
    "editable": true
   },
   "outputs": [
    {
     "data": {
      "text/html": [
       "<div>\n",
       "<table border=\"1\" class=\"dataframe\">\n",
       "  <thead>\n",
       "    <tr style=\"text-align: right;\">\n",
       "      <th></th>\n",
       "      <th>Canada</th>\n",
       "      <th>Newfoundland and Labrador</th>\n",
       "      <th>Prince Edward Island</th>\n",
       "      <th>Nova Scotia</th>\n",
       "      <th>New Brunswick</th>\n",
       "      <th>Quebec</th>\n",
       "      <th>Ontario</th>\n",
       "      <th>Manitoba</th>\n",
       "      <th>Saskatchewan</th>\n",
       "      <th>Alberta</th>\n",
       "      <th>British Columbia</th>\n",
       "      <th>Yukon</th>\n",
       "      <th>Northwest Territories including Nunavut</th>\n",
       "      <th>Northwest Territories</th>\n",
       "      <th>Nunavut</th>\n",
       "    </tr>\n",
       "    <tr>\n",
       "      <th>Year</th>\n",
       "      <th></th>\n",
       "      <th></th>\n",
       "      <th></th>\n",
       "      <th></th>\n",
       "      <th></th>\n",
       "      <th></th>\n",
       "      <th></th>\n",
       "      <th></th>\n",
       "      <th></th>\n",
       "      <th></th>\n",
       "      <th></th>\n",
       "      <th></th>\n",
       "      <th></th>\n",
       "      <th></th>\n",
       "      <th></th>\n",
       "    </tr>\n",
       "  </thead>\n",
       "  <tbody>\n",
       "    <tr>\n",
       "      <th>1952</th>\n",
       "      <td>14436750</td>\n",
       "      <td>372750</td>\n",
       "      <td>100250</td>\n",
       "      <td>652250</td>\n",
       "      <td>525250</td>\n",
       "      <td>4167750</td>\n",
       "      <td>4779250</td>\n",
       "      <td>796000</td>\n",
       "      <td>842250</td>\n",
       "      <td>971500</td>\n",
       "      <td>1204500</td>\n",
       "      <td>9000</td>\n",
       "      <td>16000.0</td>\n",
       "      <td>NaN</td>\n",
       "      <td>NaN</td>\n",
       "    </tr>\n",
       "    <tr>\n",
       "      <th>1953</th>\n",
       "      <td>14833000</td>\n",
       "      <td>383000</td>\n",
       "      <td>101000</td>\n",
       "      <td>663250</td>\n",
       "      <td>532500</td>\n",
       "      <td>4267000</td>\n",
       "      <td>4935250</td>\n",
       "      <td>808500</td>\n",
       "      <td>859000</td>\n",
       "      <td>1010250</td>\n",
       "      <td>1248250</td>\n",
       "      <td>9000</td>\n",
       "      <td>16000.0</td>\n",
       "      <td>NaN</td>\n",
       "      <td>NaN</td>\n",
       "    </tr>\n",
       "    <tr>\n",
       "      <th>1954</th>\n",
       "      <td>15269500</td>\n",
       "      <td>394500</td>\n",
       "      <td>101000</td>\n",
       "      <td>672000</td>\n",
       "      <td>539750</td>\n",
       "      <td>4385000</td>\n",
       "      <td>5108250</td>\n",
       "      <td>822500</td>\n",
       "      <td>871750</td>\n",
       "      <td>1054250</td>\n",
       "      <td>1294000</td>\n",
       "      <td>9750</td>\n",
       "      <td>16750.0</td>\n",
       "      <td>NaN</td>\n",
       "      <td>NaN</td>\n",
       "    </tr>\n",
       "    <tr>\n",
       "      <th>1955</th>\n",
       "      <td>15681250</td>\n",
       "      <td>405500</td>\n",
       "      <td>100000</td>\n",
       "      <td>682750</td>\n",
       "      <td>547000</td>\n",
       "      <td>4510750</td>\n",
       "      <td>5258250</td>\n",
       "      <td>838750</td>\n",
       "      <td>878250</td>\n",
       "      <td>1089500</td>\n",
       "      <td>1341500</td>\n",
       "      <td>11250</td>\n",
       "      <td>17750.0</td>\n",
       "      <td>NaN</td>\n",
       "      <td>NaN</td>\n",
       "    </tr>\n",
       "    <tr>\n",
       "      <th>1956</th>\n",
       "      <td>16070250</td>\n",
       "      <td>415000</td>\n",
       "      <td>99250</td>\n",
       "      <td>693250</td>\n",
       "      <td>554500</td>\n",
       "      <td>4624750</td>\n",
       "      <td>5403000</td>\n",
       "      <td>848750</td>\n",
       "      <td>879750</td>\n",
       "      <td>1122250</td>\n",
       "      <td>1399000</td>\n",
       "      <td>12000</td>\n",
       "      <td>18750.0</td>\n",
       "      <td>NaN</td>\n",
       "      <td>NaN</td>\n",
       "    </tr>\n",
       "    <tr>\n",
       "      <th>1957</th>\n",
       "      <td>16579500</td>\n",
       "      <td>423500</td>\n",
       "      <td>99000</td>\n",
       "      <td>699000</td>\n",
       "      <td>561500</td>\n",
       "      <td>4762500</td>\n",
       "      <td>5624750</td>\n",
       "      <td>858250</td>\n",
       "      <td>878750</td>\n",
       "      <td>1161250</td>\n",
       "      <td>1479500</td>\n",
       "      <td>12250</td>\n",
       "      <td>19250.0</td>\n",
       "      <td>NaN</td>\n",
       "      <td>NaN</td>\n",
       "    </tr>\n",
       "    <tr>\n",
       "      <th>1958</th>\n",
       "      <td>17062250</td>\n",
       "      <td>431500</td>\n",
       "      <td>100000</td>\n",
       "      <td>708750</td>\n",
       "      <td>570500</td>\n",
       "      <td>4897500</td>\n",
       "      <td>5814250</td>\n",
       "      <td>874500</td>\n",
       "      <td>891000</td>\n",
       "      <td>1205250</td>\n",
       "      <td>1536000</td>\n",
       "      <td>13000</td>\n",
       "      <td>20000.0</td>\n",
       "      <td>NaN</td>\n",
       "      <td>NaN</td>\n",
       "    </tr>\n",
       "    <tr>\n",
       "      <th>1959</th>\n",
       "      <td>17467500</td>\n",
       "      <td>440000</td>\n",
       "      <td>101500</td>\n",
       "      <td>719000</td>\n",
       "      <td>581000</td>\n",
       "      <td>5019750</td>\n",
       "      <td>5962500</td>\n",
       "      <td>889750</td>\n",
       "      <td>905750</td>\n",
       "      <td>1247250</td>\n",
       "      <td>1567000</td>\n",
       "      <td>13000</td>\n",
       "      <td>21000.0</td>\n",
       "      <td>NaN</td>\n",
       "      <td>NaN</td>\n",
       "    </tr>\n",
       "    <tr>\n",
       "      <th>1960</th>\n",
       "      <td>17855250</td>\n",
       "      <td>448250</td>\n",
       "      <td>103250</td>\n",
       "      <td>726500</td>\n",
       "      <td>588000</td>\n",
       "      <td>5137500</td>\n",
       "      <td>6105500</td>\n",
       "      <td>905500</td>\n",
       "      <td>914250</td>\n",
       "      <td>1289750</td>\n",
       "      <td>1601000</td>\n",
       "      <td>14000</td>\n",
       "      <td>21750.0</td>\n",
       "      <td>NaN</td>\n",
       "      <td>NaN</td>\n",
       "    </tr>\n",
       "    <tr>\n",
       "      <th>1961</th>\n",
       "      <td>18224500</td>\n",
       "      <td>457750</td>\n",
       "      <td>104750</td>\n",
       "      <td>736250</td>\n",
       "      <td>597000</td>\n",
       "      <td>5254500</td>\n",
       "      <td>6231000</td>\n",
       "      <td>921250</td>\n",
       "      <td>924000</td>\n",
       "      <td>1330500</td>\n",
       "      <td>1629750</td>\n",
       "      <td>14500</td>\n",
       "      <td>23250.0</td>\n",
       "      <td>NaN</td>\n",
       "      <td>NaN</td>\n",
       "    </tr>\n",
       "  </tbody>\n",
       "</table>\n",
       "</div>"
      ],
      "text/plain": [
       "        Canada  Newfoundland and Labrador  Prince Edward Island  Nova Scotia  \\\n",
       "Year                                                                           \n",
       "1952  14436750                     372750                100250       652250   \n",
       "1953  14833000                     383000                101000       663250   \n",
       "1954  15269500                     394500                101000       672000   \n",
       "1955  15681250                     405500                100000       682750   \n",
       "1956  16070250                     415000                 99250       693250   \n",
       "1957  16579500                     423500                 99000       699000   \n",
       "1958  17062250                     431500                100000       708750   \n",
       "1959  17467500                     440000                101500       719000   \n",
       "1960  17855250                     448250                103250       726500   \n",
       "1961  18224500                     457750                104750       736250   \n",
       "\n",
       "      New Brunswick   Quebec  Ontario  Manitoba  Saskatchewan  Alberta  \\\n",
       "Year                                                                     \n",
       "1952         525250  4167750  4779250    796000        842250   971500   \n",
       "1953         532500  4267000  4935250    808500        859000  1010250   \n",
       "1954         539750  4385000  5108250    822500        871750  1054250   \n",
       "1955         547000  4510750  5258250    838750        878250  1089500   \n",
       "1956         554500  4624750  5403000    848750        879750  1122250   \n",
       "1957         561500  4762500  5624750    858250        878750  1161250   \n",
       "1958         570500  4897500  5814250    874500        891000  1205250   \n",
       "1959         581000  5019750  5962500    889750        905750  1247250   \n",
       "1960         588000  5137500  6105500    905500        914250  1289750   \n",
       "1961         597000  5254500  6231000    921250        924000  1330500   \n",
       "\n",
       "      British Columbia  Yukon  Northwest Territories including Nunavut  \\\n",
       "Year                                                                     \n",
       "1952           1204500   9000                                  16000.0   \n",
       "1953           1248250   9000                                  16000.0   \n",
       "1954           1294000   9750                                  16750.0   \n",
       "1955           1341500  11250                                  17750.0   \n",
       "1956           1399000  12000                                  18750.0   \n",
       "1957           1479500  12250                                  19250.0   \n",
       "1958           1536000  13000                                  20000.0   \n",
       "1959           1567000  13000                                  21000.0   \n",
       "1960           1601000  14000                                  21750.0   \n",
       "1961           1629750  14500                                  23250.0   \n",
       "\n",
       "      Northwest Territories  Nunavut  \n",
       "Year                                  \n",
       "1952                    NaN      NaN  \n",
       "1953                    NaN      NaN  \n",
       "1954                    NaN      NaN  \n",
       "1955                    NaN      NaN  \n",
       "1956                    NaN      NaN  \n",
       "1957                    NaN      NaN  \n",
       "1958                    NaN      NaN  \n",
       "1959                    NaN      NaN  \n",
       "1960                    NaN      NaN  \n",
       "1961                    NaN      NaN  "
      ]
     },
     "execution_count": 5,
     "metadata": {},
     "output_type": "execute_result"
    }
   ],
   "source": [
    "pop_data.head(10) # Display top 10 rows of the DataFrame"
   ]
  },
  {
   "cell_type": "code",
   "execution_count": 6,
   "metadata": {
    "collapsed": false,
    "deletable": true,
    "editable": true
   },
   "outputs": [
    {
     "data": {
      "text/html": [
       "<div>\n",
       "<table border=\"1\" class=\"dataframe\">\n",
       "  <thead>\n",
       "    <tr style=\"text-align: right;\">\n",
       "      <th></th>\n",
       "      <th>Canada</th>\n",
       "      <th>Newfoundland and Labrador</th>\n",
       "      <th>Prince Edward Island</th>\n",
       "      <th>Nova Scotia</th>\n",
       "      <th>New Brunswick</th>\n",
       "      <th>Quebec</th>\n",
       "      <th>Ontario</th>\n",
       "      <th>Manitoba</th>\n",
       "      <th>Saskatchewan</th>\n",
       "      <th>Alberta</th>\n",
       "      <th>British Columbia</th>\n",
       "      <th>Yukon</th>\n",
       "      <th>Northwest Territories including Nunavut</th>\n",
       "      <th>Northwest Territories</th>\n",
       "      <th>Nunavut</th>\n",
       "    </tr>\n",
       "    <tr>\n",
       "      <th>Year</th>\n",
       "      <th></th>\n",
       "      <th></th>\n",
       "      <th></th>\n",
       "      <th></th>\n",
       "      <th></th>\n",
       "      <th></th>\n",
       "      <th></th>\n",
       "      <th></th>\n",
       "      <th></th>\n",
       "      <th></th>\n",
       "      <th></th>\n",
       "      <th></th>\n",
       "      <th></th>\n",
       "      <th></th>\n",
       "      <th></th>\n",
       "    </tr>\n",
       "  </thead>\n",
       "  <tbody>\n",
       "    <tr>\n",
       "      <th>2011</th>\n",
       "      <td>34302909</td>\n",
       "      <td>524754</td>\n",
       "      <td>143732</td>\n",
       "      <td>944512</td>\n",
       "      <td>755285</td>\n",
       "      <td>7996821</td>\n",
       "      <td>13249885</td>\n",
       "      <td>1232071</td>\n",
       "      <td>1064673</td>\n",
       "      <td>3781472</td>\n",
       "      <td>4497034</td>\n",
       "      <td>35209</td>\n",
       "      <td>NaN</td>\n",
       "      <td>43407.0</td>\n",
       "      <td>34054.0</td>\n",
       "    </tr>\n",
       "    <tr>\n",
       "      <th>2012</th>\n",
       "      <td>34698875</td>\n",
       "      <td>526722</td>\n",
       "      <td>145066</td>\n",
       "      <td>944934</td>\n",
       "      <td>756580</td>\n",
       "      <td>8073312</td>\n",
       "      <td>13393063</td>\n",
       "      <td>1248325</td>\n",
       "      <td>1084298</td>\n",
       "      <td>3873407</td>\n",
       "      <td>4538794</td>\n",
       "      <td>36020</td>\n",
       "      <td>NaN</td>\n",
       "      <td>43675.0</td>\n",
       "      <td>34679.0</td>\n",
       "    </tr>\n",
       "    <tr>\n",
       "      <th>2013</th>\n",
       "      <td>35102353</td>\n",
       "      <td>528271</td>\n",
       "      <td>145340</td>\n",
       "      <td>943524</td>\n",
       "      <td>755810</td>\n",
       "      <td>8143836</td>\n",
       "      <td>13533970</td>\n",
       "      <td>1263560</td>\n",
       "      <td>1103406</td>\n",
       "      <td>3989191</td>\n",
       "      <td>4579968</td>\n",
       "      <td>36331</td>\n",
       "      <td>NaN</td>\n",
       "      <td>43852.0</td>\n",
       "      <td>35296.0</td>\n",
       "    </tr>\n",
       "    <tr>\n",
       "      <th>2014</th>\n",
       "      <td>35496547</td>\n",
       "      <td>528839</td>\n",
       "      <td>145963</td>\n",
       "      <td>942932</td>\n",
       "      <td>755058</td>\n",
       "      <td>8206005</td>\n",
       "      <td>13664922</td>\n",
       "      <td>1278114</td>\n",
       "      <td>1120272</td>\n",
       "      <td>4104536</td>\n",
       "      <td>4633220</td>\n",
       "      <td>36733</td>\n",
       "      <td>NaN</td>\n",
       "      <td>43968.0</td>\n",
       "      <td>35984.0</td>\n",
       "    </tr>\n",
       "    <tr>\n",
       "      <th>2015</th>\n",
       "      <td>35825433</td>\n",
       "      <td>528188</td>\n",
       "      <td>146406</td>\n",
       "      <td>943498</td>\n",
       "      <td>754306</td>\n",
       "      <td>8258662</td>\n",
       "      <td>13782341</td>\n",
       "      <td>1292286</td>\n",
       "      <td>1133028</td>\n",
       "      <td>4187166</td>\n",
       "      <td>4681500</td>\n",
       "      <td>37176</td>\n",
       "      <td>NaN</td>\n",
       "      <td>44165.0</td>\n",
       "      <td>36711.0</td>\n",
       "    </tr>\n",
       "  </tbody>\n",
       "</table>\n",
       "</div>"
      ],
      "text/plain": [
       "        Canada  Newfoundland and Labrador  Prince Edward Island  Nova Scotia  \\\n",
       "Year                                                                           \n",
       "2011  34302909                     524754                143732       944512   \n",
       "2012  34698875                     526722                145066       944934   \n",
       "2013  35102353                     528271                145340       943524   \n",
       "2014  35496547                     528839                145963       942932   \n",
       "2015  35825433                     528188                146406       943498   \n",
       "\n",
       "      New Brunswick   Quebec   Ontario  Manitoba  Saskatchewan  Alberta  \\\n",
       "Year                                                                      \n",
       "2011         755285  7996821  13249885   1232071       1064673  3781472   \n",
       "2012         756580  8073312  13393063   1248325       1084298  3873407   \n",
       "2013         755810  8143836  13533970   1263560       1103406  3989191   \n",
       "2014         755058  8206005  13664922   1278114       1120272  4104536   \n",
       "2015         754306  8258662  13782341   1292286       1133028  4187166   \n",
       "\n",
       "      British Columbia  Yukon  Northwest Territories including Nunavut  \\\n",
       "Year                                                                     \n",
       "2011           4497034  35209                                      NaN   \n",
       "2012           4538794  36020                                      NaN   \n",
       "2013           4579968  36331                                      NaN   \n",
       "2014           4633220  36733                                      NaN   \n",
       "2015           4681500  37176                                      NaN   \n",
       "\n",
       "      Northwest Territories  Nunavut  \n",
       "Year                                  \n",
       "2011                43407.0  34054.0  \n",
       "2012                43675.0  34679.0  \n",
       "2013                43852.0  35296.0  \n",
       "2014                43968.0  35984.0  \n",
       "2015                44165.0  36711.0  "
      ]
     },
     "execution_count": 6,
     "metadata": {},
     "output_type": "execute_result"
    }
   ],
   "source": [
    "pop_data.tail(5) # Display the last 10 rows of the DataFrame"
   ]
  },
  {
   "cell_type": "code",
   "execution_count": 7,
   "metadata": {
    "collapsed": false,
    "deletable": true,
    "editable": true
   },
   "outputs": [
    {
     "name": "stdout",
     "output_type": "stream",
     "text": [
      "<class 'pandas.core.frame.DataFrame'>\n",
      "Int64Index: 64 entries, 1952 to 2015\n",
      "Data columns (total 15 columns):\n",
      "Canada                                     64 non-null int64\n",
      "Newfoundland and Labrador                  64 non-null int64\n",
      "Prince Edward Island                       64 non-null int64\n",
      "Nova Scotia                                64 non-null int64\n",
      "New Brunswick                              64 non-null int64\n",
      "Quebec                                     64 non-null int64\n",
      "Ontario                                    64 non-null int64\n",
      "Manitoba                                   64 non-null int64\n",
      "Saskatchewan                               64 non-null int64\n",
      "Alberta                                    64 non-null int64\n",
      "British Columbia                           64 non-null int64\n",
      "Yukon                                      64 non-null int64\n",
      "Northwest Territories including Nunavut    39 non-null float64\n",
      "Northwest Territories                      24 non-null float64\n",
      "Nunavut                                    24 non-null float64\n",
      "dtypes: float64(3), int64(12)\n",
      "memory usage: 8.0 KB\n"
     ]
    }
   ],
   "source": [
    "pop_data.info()"
   ]
  },
  {
   "cell_type": "markdown",
   "metadata": {
    "deletable": true,
    "editable": true
   },
   "source": [
    "### Accessing columns by name\n",
    "\n",
    "We use the column names to access the columns of a DataFrame:"
   ]
  },
  {
   "cell_type": "code",
   "execution_count": 8,
   "metadata": {
    "collapsed": false,
    "deletable": true,
    "editable": true
   },
   "outputs": [
    {
     "data": {
      "text/plain": [
       "Year\n",
       "1952    14436750\n",
       "1953    14833000\n",
       "1954    15269500\n",
       "1955    15681250\n",
       "1956    16070250\n",
       "Name: Canada, dtype: int64"
      ]
     },
     "execution_count": 8,
     "metadata": {},
     "output_type": "execute_result"
    }
   ],
   "source": [
    "canada_pop_data = pop_data['Canada']\n",
    "canada_pop_data.head()"
   ]
  },
  {
   "cell_type": "markdown",
   "metadata": {
    "deletable": true,
    "editable": true
   },
   "source": [
    "To access several columns, we pass in a list of column names:"
   ]
  },
  {
   "cell_type": "code",
   "execution_count": 9,
   "metadata": {
    "collapsed": false,
    "deletable": true,
    "editable": true
   },
   "outputs": [
    {
     "data": {
      "text/html": [
       "<div>\n",
       "<table border=\"1\" class=\"dataframe\">\n",
       "  <thead>\n",
       "    <tr style=\"text-align: right;\">\n",
       "      <th></th>\n",
       "      <th>Nova Scotia</th>\n",
       "      <th>New Brunswick</th>\n",
       "      <th>Newfoundland and Labrador</th>\n",
       "      <th>Prince Edward Island</th>\n",
       "    </tr>\n",
       "    <tr>\n",
       "      <th>Year</th>\n",
       "      <th></th>\n",
       "      <th></th>\n",
       "      <th></th>\n",
       "      <th></th>\n",
       "    </tr>\n",
       "  </thead>\n",
       "  <tbody>\n",
       "    <tr>\n",
       "      <th>1952</th>\n",
       "      <td>652250</td>\n",
       "      <td>525250</td>\n",
       "      <td>372750</td>\n",
       "      <td>100250</td>\n",
       "    </tr>\n",
       "    <tr>\n",
       "      <th>1953</th>\n",
       "      <td>663250</td>\n",
       "      <td>532500</td>\n",
       "      <td>383000</td>\n",
       "      <td>101000</td>\n",
       "    </tr>\n",
       "    <tr>\n",
       "      <th>1954</th>\n",
       "      <td>672000</td>\n",
       "      <td>539750</td>\n",
       "      <td>394500</td>\n",
       "      <td>101000</td>\n",
       "    </tr>\n",
       "    <tr>\n",
       "      <th>1955</th>\n",
       "      <td>682750</td>\n",
       "      <td>547000</td>\n",
       "      <td>405500</td>\n",
       "      <td>100000</td>\n",
       "    </tr>\n",
       "    <tr>\n",
       "      <th>1956</th>\n",
       "      <td>693250</td>\n",
       "      <td>554500</td>\n",
       "      <td>415000</td>\n",
       "      <td>99250</td>\n",
       "    </tr>\n",
       "  </tbody>\n",
       "</table>\n",
       "</div>"
      ],
      "text/plain": [
       "      Nova Scotia  New Brunswick  Newfoundland and Labrador  \\\n",
       "Year                                                          \n",
       "1952       652250         525250                     372750   \n",
       "1953       663250         532500                     383000   \n",
       "1954       672000         539750                     394500   \n",
       "1955       682750         547000                     405500   \n",
       "1956       693250         554500                     415000   \n",
       "\n",
       "      Prince Edward Island  \n",
       "Year                        \n",
       "1952                100250  \n",
       "1953                101000  \n",
       "1954                101000  \n",
       "1955                100000  \n",
       "1956                 99250  "
      ]
     },
     "execution_count": 9,
     "metadata": {},
     "output_type": "execute_result"
    }
   ],
   "source": [
    "maritimes_pop_data = pop_data[['Nova Scotia','New Brunswick','Newfoundland and Labrador','Prince Edward Island']]\n",
    "maritimes_pop_data.head()"
   ]
  },
  {
   "cell_type": "markdown",
   "metadata": {
    "deletable": true,
    "editable": true
   },
   "source": [
    "### Series datatype\n",
    "\n",
    "`Series` is the another datatype in pandas. We can think of a DataFrame as columns of Series, and a Series is a labeled column of data. Check out the [documentation](http://pandas.pydata.org/pandas-docs/stable/dsintro.html#series)."
   ]
  },
  {
   "cell_type": "code",
   "execution_count": 10,
   "metadata": {
    "collapsed": false,
    "deletable": true,
    "editable": true
   },
   "outputs": [
    {
     "data": {
      "text/plain": [
       "pandas.core.series.Series"
      ]
     },
     "execution_count": 10,
     "metadata": {},
     "output_type": "execute_result"
    }
   ],
   "source": [
    "type(canada_pop_data)"
   ]
  },
  {
   "cell_type": "markdown",
   "metadata": {
    "deletable": true,
    "editable": true
   },
   "source": [
    "### Access rows and columns using .loc\n",
    "\n",
    "The `.loc` method allows us to select rows by their index labels:"
   ]
  },
  {
   "cell_type": "code",
   "execution_count": 11,
   "metadata": {
    "collapsed": false,
    "deletable": true,
    "editable": true
   },
   "outputs": [
    {
     "data": {
      "text/html": [
       "<div>\n",
       "<table border=\"1\" class=\"dataframe\">\n",
       "  <thead>\n",
       "    <tr style=\"text-align: right;\">\n",
       "      <th></th>\n",
       "      <th>Canada</th>\n",
       "      <th>Newfoundland and Labrador</th>\n",
       "      <th>Prince Edward Island</th>\n",
       "      <th>Nova Scotia</th>\n",
       "      <th>New Brunswick</th>\n",
       "      <th>Quebec</th>\n",
       "      <th>Ontario</th>\n",
       "      <th>Manitoba</th>\n",
       "      <th>Saskatchewan</th>\n",
       "      <th>Alberta</th>\n",
       "      <th>British Columbia</th>\n",
       "      <th>Yukon</th>\n",
       "      <th>Northwest Territories including Nunavut</th>\n",
       "      <th>Northwest Territories</th>\n",
       "      <th>Nunavut</th>\n",
       "    </tr>\n",
       "    <tr>\n",
       "      <th>Year</th>\n",
       "      <th></th>\n",
       "      <th></th>\n",
       "      <th></th>\n",
       "      <th></th>\n",
       "      <th></th>\n",
       "      <th></th>\n",
       "      <th></th>\n",
       "      <th></th>\n",
       "      <th></th>\n",
       "      <th></th>\n",
       "      <th></th>\n",
       "      <th></th>\n",
       "      <th></th>\n",
       "      <th></th>\n",
       "      <th></th>\n",
       "    </tr>\n",
       "  </thead>\n",
       "  <tbody>\n",
       "    <tr>\n",
       "      <th>1990</th>\n",
       "      <td>27632360</td>\n",
       "      <td>576982</td>\n",
       "      <td>130394</td>\n",
       "      <td>909510</td>\n",
       "      <td>739547</td>\n",
       "      <td>6986226</td>\n",
       "      <td>10267345</td>\n",
       "      <td>1104302</td>\n",
       "      <td>1008330</td>\n",
       "      <td>2540902</td>\n",
       "      <td>3282328</td>\n",
       "      <td>27852</td>\n",
       "      <td>58642.0</td>\n",
       "      <td>NaN</td>\n",
       "      <td>NaN</td>\n",
       "    </tr>\n",
       "    <tr>\n",
       "      <th>1991</th>\n",
       "      <td>27987111</td>\n",
       "      <td>578742</td>\n",
       "      <td>130415</td>\n",
       "      <td>914386</td>\n",
       "      <td>744716</td>\n",
       "      <td>7054592</td>\n",
       "      <td>10409479</td>\n",
       "      <td>1108239</td>\n",
       "      <td>1002296</td>\n",
       "      <td>2587477</td>\n",
       "      <td>3367589</td>\n",
       "      <td>28682</td>\n",
       "      <td>NaN</td>\n",
       "      <td>NaN</td>\n",
       "      <td>NaN</td>\n",
       "    </tr>\n",
       "    <tr>\n",
       "      <th>1992</th>\n",
       "      <td>28324154</td>\n",
       "      <td>579730</td>\n",
       "      <td>130861</td>\n",
       "      <td>918982</td>\n",
       "      <td>747418</td>\n",
       "      <td>7104606</td>\n",
       "      <td>10549810</td>\n",
       "      <td>1111732</td>\n",
       "      <td>1002730</td>\n",
       "      <td>2627162</td>\n",
       "      <td>3459366</td>\n",
       "      <td>29717</td>\n",
       "      <td>NaN</td>\n",
       "      <td>39281.0</td>\n",
       "      <td>22761.0</td>\n",
       "    </tr>\n",
       "    <tr>\n",
       "      <th>1993</th>\n",
       "      <td>28651462</td>\n",
       "      <td>579840</td>\n",
       "      <td>132010</td>\n",
       "      <td>923593</td>\n",
       "      <td>748620</td>\n",
       "      <td>7153278</td>\n",
       "      <td>10676423</td>\n",
       "      <td>1116489</td>\n",
       "      <td>1005599</td>\n",
       "      <td>2663774</td>\n",
       "      <td>3558491</td>\n",
       "      <td>30107</td>\n",
       "      <td>NaN</td>\n",
       "      <td>39776.0</td>\n",
       "      <td>23463.0</td>\n",
       "    </tr>\n",
       "    <tr>\n",
       "      <th>1994</th>\n",
       "      <td>28960064</td>\n",
       "      <td>574833</td>\n",
       "      <td>133255</td>\n",
       "      <td>926652</td>\n",
       "      <td>749965</td>\n",
       "      <td>7189008</td>\n",
       "      <td>10800283</td>\n",
       "      <td>1121910</td>\n",
       "      <td>1009113</td>\n",
       "      <td>2696102</td>\n",
       "      <td>3664473</td>\n",
       "      <td>29660</td>\n",
       "      <td>NaN</td>\n",
       "      <td>40527.0</td>\n",
       "      <td>24282.0</td>\n",
       "    </tr>\n",
       "  </tbody>\n",
       "</table>\n",
       "</div>"
      ],
      "text/plain": [
       "        Canada  Newfoundland and Labrador  Prince Edward Island  Nova Scotia  \\\n",
       "Year                                                                           \n",
       "1990  27632360                     576982                130394       909510   \n",
       "1991  27987111                     578742                130415       914386   \n",
       "1992  28324154                     579730                130861       918982   \n",
       "1993  28651462                     579840                132010       923593   \n",
       "1994  28960064                     574833                133255       926652   \n",
       "\n",
       "      New Brunswick   Quebec   Ontario  Manitoba  Saskatchewan  Alberta  \\\n",
       "Year                                                                      \n",
       "1990         739547  6986226  10267345   1104302       1008330  2540902   \n",
       "1991         744716  7054592  10409479   1108239       1002296  2587477   \n",
       "1992         747418  7104606  10549810   1111732       1002730  2627162   \n",
       "1993         748620  7153278  10676423   1116489       1005599  2663774   \n",
       "1994         749965  7189008  10800283   1121910       1009113  2696102   \n",
       "\n",
       "      British Columbia  Yukon  Northwest Territories including Nunavut  \\\n",
       "Year                                                                     \n",
       "1990           3282328  27852                                  58642.0   \n",
       "1991           3367589  28682                                      NaN   \n",
       "1992           3459366  29717                                      NaN   \n",
       "1993           3558491  30107                                      NaN   \n",
       "1994           3664473  29660                                      NaN   \n",
       "\n",
       "      Northwest Territories  Nunavut  \n",
       "Year                                  \n",
       "1990                    NaN      NaN  \n",
       "1991                    NaN      NaN  \n",
       "1992                39281.0  22761.0  \n",
       "1993                39776.0  23463.0  \n",
       "1994                40527.0  24282.0  "
      ]
     },
     "execution_count": 11,
     "metadata": {},
     "output_type": "execute_result"
    }
   ],
   "source": [
    "nineties_pop_data = pop_data.loc[1990:2000]\n",
    "nineties_pop_data.head()"
   ]
  },
  {
   "cell_type": "markdown",
   "metadata": {
    "deletable": true,
    "editable": true
   },
   "source": [
    "We can also select certain columns by name:"
   ]
  },
  {
   "cell_type": "code",
   "execution_count": 12,
   "metadata": {
    "collapsed": false,
    "deletable": true,
    "editable": true
   },
   "outputs": [
    {
     "data": {
      "text/html": [
       "<div>\n",
       "<table border=\"1\" class=\"dataframe\">\n",
       "  <thead>\n",
       "    <tr style=\"text-align: right;\">\n",
       "      <th></th>\n",
       "      <th>Northwest Territories</th>\n",
       "      <th>Nunavut</th>\n",
       "    </tr>\n",
       "    <tr>\n",
       "      <th>Year</th>\n",
       "      <th></th>\n",
       "      <th></th>\n",
       "    </tr>\n",
       "  </thead>\n",
       "  <tbody>\n",
       "    <tr>\n",
       "      <th>1990</th>\n",
       "      <td>NaN</td>\n",
       "      <td>NaN</td>\n",
       "    </tr>\n",
       "    <tr>\n",
       "      <th>1991</th>\n",
       "      <td>NaN</td>\n",
       "      <td>NaN</td>\n",
       "    </tr>\n",
       "    <tr>\n",
       "      <th>1992</th>\n",
       "      <td>39281.0</td>\n",
       "      <td>22761.0</td>\n",
       "    </tr>\n",
       "    <tr>\n",
       "      <th>1993</th>\n",
       "      <td>39776.0</td>\n",
       "      <td>23463.0</td>\n",
       "    </tr>\n",
       "    <tr>\n",
       "      <th>1994</th>\n",
       "      <td>40527.0</td>\n",
       "      <td>24282.0</td>\n",
       "    </tr>\n",
       "    <tr>\n",
       "      <th>1995</th>\n",
       "      <td>41356.0</td>\n",
       "      <td>24913.0</td>\n",
       "    </tr>\n",
       "    <tr>\n",
       "      <th>1996</th>\n",
       "      <td>41591.0</td>\n",
       "      <td>25543.0</td>\n",
       "    </tr>\n",
       "    <tr>\n",
       "      <th>1997</th>\n",
       "      <td>41558.0</td>\n",
       "      <td>25863.0</td>\n",
       "    </tr>\n",
       "    <tr>\n",
       "      <th>1998</th>\n",
       "      <td>40907.0</td>\n",
       "      <td>26272.0</td>\n",
       "    </tr>\n",
       "    <tr>\n",
       "      <th>1999</th>\n",
       "      <td>40639.0</td>\n",
       "      <td>26778.0</td>\n",
       "    </tr>\n",
       "    <tr>\n",
       "      <th>2000</th>\n",
       "      <td>40533.0</td>\n",
       "      <td>27388.0</td>\n",
       "    </tr>\n",
       "  </tbody>\n",
       "</table>\n",
       "</div>"
      ],
      "text/plain": [
       "      Northwest Territories  Nunavut\n",
       "Year                                \n",
       "1990                    NaN      NaN\n",
       "1991                    NaN      NaN\n",
       "1992                39281.0  22761.0\n",
       "1993                39776.0  23463.0\n",
       "1994                40527.0  24282.0\n",
       "1995                41356.0  24913.0\n",
       "1996                41591.0  25543.0\n",
       "1997                41558.0  25863.0\n",
       "1998                40907.0  26272.0\n",
       "1999                40639.0  26778.0\n",
       "2000                40533.0  27388.0"
      ]
     },
     "execution_count": 12,
     "metadata": {},
     "output_type": "execute_result"
    }
   ],
   "source": [
    "pop_data.loc[1990:2000,['Northwest Territories','Nunavut']]"
   ]
  },
  {
   "cell_type": "markdown",
   "metadata": {
    "deletable": true,
    "editable": true
   },
   "source": [
    "### Creating new columns\n",
    "\n",
    "Let's create a new column called Maritimes which adds all the Maritimes province populations:"
   ]
  },
  {
   "cell_type": "code",
   "execution_count": 13,
   "metadata": {
    "collapsed": false,
    "deletable": true,
    "editable": true
   },
   "outputs": [],
   "source": [
    "pop_data['Maritimes'] = pop_data['Nova Scotia'] + pop_data['New Brunswick'] + pop_data['Newfoundland and Labrador'] + pop_data['Prince Edward Island']"
   ]
  },
  {
   "cell_type": "code",
   "execution_count": 14,
   "metadata": {
    "collapsed": false,
    "deletable": true,
    "editable": true
   },
   "outputs": [
    {
     "data": {
      "text/html": [
       "<div>\n",
       "<table border=\"1\" class=\"dataframe\">\n",
       "  <thead>\n",
       "    <tr style=\"text-align: right;\">\n",
       "      <th></th>\n",
       "      <th>Canada</th>\n",
       "      <th>Newfoundland and Labrador</th>\n",
       "      <th>Prince Edward Island</th>\n",
       "      <th>Nova Scotia</th>\n",
       "      <th>New Brunswick</th>\n",
       "      <th>Quebec</th>\n",
       "      <th>Ontario</th>\n",
       "      <th>Manitoba</th>\n",
       "      <th>Saskatchewan</th>\n",
       "      <th>Alberta</th>\n",
       "      <th>British Columbia</th>\n",
       "      <th>Yukon</th>\n",
       "      <th>Northwest Territories including Nunavut</th>\n",
       "      <th>Northwest Territories</th>\n",
       "      <th>Nunavut</th>\n",
       "      <th>Maritimes</th>\n",
       "    </tr>\n",
       "    <tr>\n",
       "      <th>Year</th>\n",
       "      <th></th>\n",
       "      <th></th>\n",
       "      <th></th>\n",
       "      <th></th>\n",
       "      <th></th>\n",
       "      <th></th>\n",
       "      <th></th>\n",
       "      <th></th>\n",
       "      <th></th>\n",
       "      <th></th>\n",
       "      <th></th>\n",
       "      <th></th>\n",
       "      <th></th>\n",
       "      <th></th>\n",
       "      <th></th>\n",
       "      <th></th>\n",
       "    </tr>\n",
       "  </thead>\n",
       "  <tbody>\n",
       "    <tr>\n",
       "      <th>1952</th>\n",
       "      <td>14436750</td>\n",
       "      <td>372750</td>\n",
       "      <td>100250</td>\n",
       "      <td>652250</td>\n",
       "      <td>525250</td>\n",
       "      <td>4167750</td>\n",
       "      <td>4779250</td>\n",
       "      <td>796000</td>\n",
       "      <td>842250</td>\n",
       "      <td>971500</td>\n",
       "      <td>1204500</td>\n",
       "      <td>9000</td>\n",
       "      <td>16000.0</td>\n",
       "      <td>NaN</td>\n",
       "      <td>NaN</td>\n",
       "      <td>1650500</td>\n",
       "    </tr>\n",
       "    <tr>\n",
       "      <th>1953</th>\n",
       "      <td>14833000</td>\n",
       "      <td>383000</td>\n",
       "      <td>101000</td>\n",
       "      <td>663250</td>\n",
       "      <td>532500</td>\n",
       "      <td>4267000</td>\n",
       "      <td>4935250</td>\n",
       "      <td>808500</td>\n",
       "      <td>859000</td>\n",
       "      <td>1010250</td>\n",
       "      <td>1248250</td>\n",
       "      <td>9000</td>\n",
       "      <td>16000.0</td>\n",
       "      <td>NaN</td>\n",
       "      <td>NaN</td>\n",
       "      <td>1679750</td>\n",
       "    </tr>\n",
       "    <tr>\n",
       "      <th>1954</th>\n",
       "      <td>15269500</td>\n",
       "      <td>394500</td>\n",
       "      <td>101000</td>\n",
       "      <td>672000</td>\n",
       "      <td>539750</td>\n",
       "      <td>4385000</td>\n",
       "      <td>5108250</td>\n",
       "      <td>822500</td>\n",
       "      <td>871750</td>\n",
       "      <td>1054250</td>\n",
       "      <td>1294000</td>\n",
       "      <td>9750</td>\n",
       "      <td>16750.0</td>\n",
       "      <td>NaN</td>\n",
       "      <td>NaN</td>\n",
       "      <td>1707250</td>\n",
       "    </tr>\n",
       "    <tr>\n",
       "      <th>1955</th>\n",
       "      <td>15681250</td>\n",
       "      <td>405500</td>\n",
       "      <td>100000</td>\n",
       "      <td>682750</td>\n",
       "      <td>547000</td>\n",
       "      <td>4510750</td>\n",
       "      <td>5258250</td>\n",
       "      <td>838750</td>\n",
       "      <td>878250</td>\n",
       "      <td>1089500</td>\n",
       "      <td>1341500</td>\n",
       "      <td>11250</td>\n",
       "      <td>17750.0</td>\n",
       "      <td>NaN</td>\n",
       "      <td>NaN</td>\n",
       "      <td>1735250</td>\n",
       "    </tr>\n",
       "    <tr>\n",
       "      <th>1956</th>\n",
       "      <td>16070250</td>\n",
       "      <td>415000</td>\n",
       "      <td>99250</td>\n",
       "      <td>693250</td>\n",
       "      <td>554500</td>\n",
       "      <td>4624750</td>\n",
       "      <td>5403000</td>\n",
       "      <td>848750</td>\n",
       "      <td>879750</td>\n",
       "      <td>1122250</td>\n",
       "      <td>1399000</td>\n",
       "      <td>12000</td>\n",
       "      <td>18750.0</td>\n",
       "      <td>NaN</td>\n",
       "      <td>NaN</td>\n",
       "      <td>1762000</td>\n",
       "    </tr>\n",
       "  </tbody>\n",
       "</table>\n",
       "</div>"
      ],
      "text/plain": [
       "        Canada  Newfoundland and Labrador  Prince Edward Island  Nova Scotia  \\\n",
       "Year                                                                           \n",
       "1952  14436750                     372750                100250       652250   \n",
       "1953  14833000                     383000                101000       663250   \n",
       "1954  15269500                     394500                101000       672000   \n",
       "1955  15681250                     405500                100000       682750   \n",
       "1956  16070250                     415000                 99250       693250   \n",
       "\n",
       "      New Brunswick   Quebec  Ontario  Manitoba  Saskatchewan  Alberta  \\\n",
       "Year                                                                     \n",
       "1952         525250  4167750  4779250    796000        842250   971500   \n",
       "1953         532500  4267000  4935250    808500        859000  1010250   \n",
       "1954         539750  4385000  5108250    822500        871750  1054250   \n",
       "1955         547000  4510750  5258250    838750        878250  1089500   \n",
       "1956         554500  4624750  5403000    848750        879750  1122250   \n",
       "\n",
       "      British Columbia  Yukon  Northwest Territories including Nunavut  \\\n",
       "Year                                                                     \n",
       "1952           1204500   9000                                  16000.0   \n",
       "1953           1248250   9000                                  16000.0   \n",
       "1954           1294000   9750                                  16750.0   \n",
       "1955           1341500  11250                                  17750.0   \n",
       "1956           1399000  12000                                  18750.0   \n",
       "\n",
       "      Northwest Territories  Nunavut  Maritimes  \n",
       "Year                                             \n",
       "1952                    NaN      NaN    1650500  \n",
       "1953                    NaN      NaN    1679750  \n",
       "1954                    NaN      NaN    1707250  \n",
       "1955                    NaN      NaN    1735250  \n",
       "1956                    NaN      NaN    1762000  "
      ]
     },
     "execution_count": 14,
     "metadata": {},
     "output_type": "execute_result"
    }
   ],
   "source": [
    "pop_data.head()"
   ]
  },
  {
   "cell_type": "markdown",
   "metadata": {
    "deletable": true,
    "editable": true
   },
   "source": [
    "Let's create another new column called West which adds all the western province populations:"
   ]
  },
  {
   "cell_type": "code",
   "execution_count": 15,
   "metadata": {
    "collapsed": true,
    "deletable": true,
    "editable": true
   },
   "outputs": [],
   "source": [
    "pop_data['West'] = pop_data['British Columbia'] + pop_data['Alberta'] + pop_data['Saskatchewan']"
   ]
  },
  {
   "cell_type": "code",
   "execution_count": 16,
   "metadata": {
    "collapsed": false,
    "deletable": true,
    "editable": true
   },
   "outputs": [
    {
     "data": {
      "text/html": [
       "<div>\n",
       "<table border=\"1\" class=\"dataframe\">\n",
       "  <thead>\n",
       "    <tr style=\"text-align: right;\">\n",
       "      <th></th>\n",
       "      <th>Canada</th>\n",
       "      <th>Newfoundland and Labrador</th>\n",
       "      <th>Prince Edward Island</th>\n",
       "      <th>Nova Scotia</th>\n",
       "      <th>New Brunswick</th>\n",
       "      <th>Quebec</th>\n",
       "      <th>Ontario</th>\n",
       "      <th>Manitoba</th>\n",
       "      <th>Saskatchewan</th>\n",
       "      <th>Alberta</th>\n",
       "      <th>British Columbia</th>\n",
       "      <th>Yukon</th>\n",
       "      <th>Northwest Territories including Nunavut</th>\n",
       "      <th>Northwest Territories</th>\n",
       "      <th>Nunavut</th>\n",
       "      <th>Maritimes</th>\n",
       "      <th>West</th>\n",
       "    </tr>\n",
       "    <tr>\n",
       "      <th>Year</th>\n",
       "      <th></th>\n",
       "      <th></th>\n",
       "      <th></th>\n",
       "      <th></th>\n",
       "      <th></th>\n",
       "      <th></th>\n",
       "      <th></th>\n",
       "      <th></th>\n",
       "      <th></th>\n",
       "      <th></th>\n",
       "      <th></th>\n",
       "      <th></th>\n",
       "      <th></th>\n",
       "      <th></th>\n",
       "      <th></th>\n",
       "      <th></th>\n",
       "      <th></th>\n",
       "    </tr>\n",
       "  </thead>\n",
       "  <tbody>\n",
       "    <tr>\n",
       "      <th>1952</th>\n",
       "      <td>14436750</td>\n",
       "      <td>372750</td>\n",
       "      <td>100250</td>\n",
       "      <td>652250</td>\n",
       "      <td>525250</td>\n",
       "      <td>4167750</td>\n",
       "      <td>4779250</td>\n",
       "      <td>796000</td>\n",
       "      <td>842250</td>\n",
       "      <td>971500</td>\n",
       "      <td>1204500</td>\n",
       "      <td>9000</td>\n",
       "      <td>16000.0</td>\n",
       "      <td>NaN</td>\n",
       "      <td>NaN</td>\n",
       "      <td>1650500</td>\n",
       "      <td>3018250</td>\n",
       "    </tr>\n",
       "    <tr>\n",
       "      <th>1953</th>\n",
       "      <td>14833000</td>\n",
       "      <td>383000</td>\n",
       "      <td>101000</td>\n",
       "      <td>663250</td>\n",
       "      <td>532500</td>\n",
       "      <td>4267000</td>\n",
       "      <td>4935250</td>\n",
       "      <td>808500</td>\n",
       "      <td>859000</td>\n",
       "      <td>1010250</td>\n",
       "      <td>1248250</td>\n",
       "      <td>9000</td>\n",
       "      <td>16000.0</td>\n",
       "      <td>NaN</td>\n",
       "      <td>NaN</td>\n",
       "      <td>1679750</td>\n",
       "      <td>3117500</td>\n",
       "    </tr>\n",
       "    <tr>\n",
       "      <th>1954</th>\n",
       "      <td>15269500</td>\n",
       "      <td>394500</td>\n",
       "      <td>101000</td>\n",
       "      <td>672000</td>\n",
       "      <td>539750</td>\n",
       "      <td>4385000</td>\n",
       "      <td>5108250</td>\n",
       "      <td>822500</td>\n",
       "      <td>871750</td>\n",
       "      <td>1054250</td>\n",
       "      <td>1294000</td>\n",
       "      <td>9750</td>\n",
       "      <td>16750.0</td>\n",
       "      <td>NaN</td>\n",
       "      <td>NaN</td>\n",
       "      <td>1707250</td>\n",
       "      <td>3220000</td>\n",
       "    </tr>\n",
       "    <tr>\n",
       "      <th>1955</th>\n",
       "      <td>15681250</td>\n",
       "      <td>405500</td>\n",
       "      <td>100000</td>\n",
       "      <td>682750</td>\n",
       "      <td>547000</td>\n",
       "      <td>4510750</td>\n",
       "      <td>5258250</td>\n",
       "      <td>838750</td>\n",
       "      <td>878250</td>\n",
       "      <td>1089500</td>\n",
       "      <td>1341500</td>\n",
       "      <td>11250</td>\n",
       "      <td>17750.0</td>\n",
       "      <td>NaN</td>\n",
       "      <td>NaN</td>\n",
       "      <td>1735250</td>\n",
       "      <td>3309250</td>\n",
       "    </tr>\n",
       "    <tr>\n",
       "      <th>1956</th>\n",
       "      <td>16070250</td>\n",
       "      <td>415000</td>\n",
       "      <td>99250</td>\n",
       "      <td>693250</td>\n",
       "      <td>554500</td>\n",
       "      <td>4624750</td>\n",
       "      <td>5403000</td>\n",
       "      <td>848750</td>\n",
       "      <td>879750</td>\n",
       "      <td>1122250</td>\n",
       "      <td>1399000</td>\n",
       "      <td>12000</td>\n",
       "      <td>18750.0</td>\n",
       "      <td>NaN</td>\n",
       "      <td>NaN</td>\n",
       "      <td>1762000</td>\n",
       "      <td>3401000</td>\n",
       "    </tr>\n",
       "  </tbody>\n",
       "</table>\n",
       "</div>"
      ],
      "text/plain": [
       "        Canada  Newfoundland and Labrador  Prince Edward Island  Nova Scotia  \\\n",
       "Year                                                                           \n",
       "1952  14436750                     372750                100250       652250   \n",
       "1953  14833000                     383000                101000       663250   \n",
       "1954  15269500                     394500                101000       672000   \n",
       "1955  15681250                     405500                100000       682750   \n",
       "1956  16070250                     415000                 99250       693250   \n",
       "\n",
       "      New Brunswick   Quebec  Ontario  Manitoba  Saskatchewan  Alberta  \\\n",
       "Year                                                                     \n",
       "1952         525250  4167750  4779250    796000        842250   971500   \n",
       "1953         532500  4267000  4935250    808500        859000  1010250   \n",
       "1954         539750  4385000  5108250    822500        871750  1054250   \n",
       "1955         547000  4510750  5258250    838750        878250  1089500   \n",
       "1956         554500  4624750  5403000    848750        879750  1122250   \n",
       "\n",
       "      British Columbia  Yukon  Northwest Territories including Nunavut  \\\n",
       "Year                                                                     \n",
       "1952           1204500   9000                                  16000.0   \n",
       "1953           1248250   9000                                  16000.0   \n",
       "1954           1294000   9750                                  16750.0   \n",
       "1955           1341500  11250                                  17750.0   \n",
       "1956           1399000  12000                                  18750.0   \n",
       "\n",
       "      Northwest Territories  Nunavut  Maritimes     West  \n",
       "Year                                                      \n",
       "1952                    NaN      NaN    1650500  3018250  \n",
       "1953                    NaN      NaN    1679750  3117500  \n",
       "1954                    NaN      NaN    1707250  3220000  \n",
       "1955                    NaN      NaN    1735250  3309250  \n",
       "1956                    NaN      NaN    1762000  3401000  "
      ]
     },
     "execution_count": 16,
     "metadata": {},
     "output_type": "execute_result"
    }
   ],
   "source": [
    "pop_data.head()"
   ]
  },
  {
   "cell_type": "markdown",
   "metadata": {
    "deletable": true,
    "editable": true
   },
   "source": [
    "### Plotting\n",
    "\n",
    "We use the `.plot` method to plot all the columns in a DataFrame versus the index."
   ]
  },
  {
   "cell_type": "code",
   "execution_count": 17,
   "metadata": {
    "collapsed": false,
    "deletable": true,
    "editable": true
   },
   "outputs": [
    {
     "data": {
      "text/plain": [
       "<matplotlib.axes._subplots.AxesSubplot at 0x7f7c7ce211d0>"
      ]
     },
     "execution_count": 17,
     "metadata": {},
     "output_type": "execute_result"
    },
    {
     "data": {
      "image/png": "[encoded data removed]",
      "text/plain": [
       "<matplotlib.figure.Figure at 0x7f7c7ce21ba8>"
      ]
     },
     "metadata": {},
     "output_type": "display_data"
    }
   ],
   "source": [
    "pop_data.plot()"
   ]
  },
  {
   "cell_type": "markdown",
   "metadata": {
    "deletable": true,
    "editable": true
   },
   "source": [
    "There are too many columns in the DataFrame to display all at once and so let's select a few to show:"
   ]
  },
  {
   "cell_type": "code",
   "execution_count": 18,
   "metadata": {
    "collapsed": false,
    "deletable": true,
    "editable": true
   },
   "outputs": [
    {
     "data": {
      "text/plain": [
       "<matplotlib.axes._subplots.AxesSubplot at 0x7f7c7cd2b080>"
      ]
     },
     "execution_count": 18,
     "metadata": {},
     "output_type": "execute_result"
    },
    {
     "data": {
      "image/png": "[encoded data removed]",
      "text/plain": [
       "<matplotlib.figure.Figure at 0x7f7c7ccba390>"
      ]
     },
     "metadata": {},
     "output_type": "display_data"
    }
   ],
   "source": [
    "pop_data[['Ontario','Quebec','West','Maritimes']].plot()"
   ]
  },
  {
   "cell_type": "markdown",
   "metadata": {
    "deletable": true,
    "editable": true
   },
   "source": [
    "Interesting. The combined population of the western provinces exceeded the population of Quebec for the first time in the early 1990s."
   ]
  },
  {
   "cell_type": "markdown",
   "metadata": {
    "deletable": true,
    "editable": true
   },
   "source": [
    "### Calculations\n",
    "\n",
    "We can apply addition, division, multiplication, etc. of one column to all columns using `.add`, `.div`, `.mul`. Let's use `.div` to compute populations as percentages of total population:"
   ]
  },
  {
   "cell_type": "code",
   "execution_count": 19,
   "metadata": {
    "collapsed": false,
    "deletable": true,
    "editable": true
   },
   "outputs": [],
   "source": [
    "rel_pop_data = pop_data.div(pop_data['Canada'],axis=0)*100 # Divide the values in each column by the 'Canada' column"
   ]
  },
  {
   "cell_type": "code",
   "execution_count": 20,
   "metadata": {
    "collapsed": false,
    "deletable": true,
    "editable": true
   },
   "outputs": [
    {
     "data": {
      "text/plain": [
       "<matplotlib.axes._subplots.AxesSubplot at 0x7f7c75c0b630>"
      ]
     },
     "execution_count": 20,
     "metadata": {},
     "output_type": "execute_result"
    },
    {
     "data": {
      "image/png": "[encoded data removed]",
      "text/plain": [
       "<matplotlib.figure.Figure at 0x7f7c75c12f98>"
      ]
     },
     "metadata": {},
     "output_type": "display_data"
    }
   ],
   "source": [
    "rel_pop_data[['Ontario','Quebec','West','Maritimes']].plot(title='Percent of Total Population')"
   ]
  }
 ],
 "metadata": {
  "kernelspec": {
   "display_name": "Python 3",
   "language": "python",
   "name": "python3"
  },
  "language_info": {
   "codemirror_mode": {
    "name": "ipython",
    "version": 3
   },
   "file_extension": ".py",
   "mimetype": "text/x-python",
   "name": "python",
   "nbconvert_exporter": "python",
   "pygments_lexer": "ipython3",
   "version": "3.5.2"
  }
 },
 "nbformat": 4,
 "nbformat_minor": 2
}
