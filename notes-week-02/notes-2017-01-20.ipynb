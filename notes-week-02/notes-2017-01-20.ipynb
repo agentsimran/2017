{
 "cells": [
  {
   "cell_type": "markdown",
   "metadata": {},
   "source": [
    "# MATH 210 Introduction to Mathematical Computing\n",
    "\n",
    "## January 20, 2017\n",
    "\n",
    "1. More about functions\n",
    "  * Example: Harmonic mean\n",
    "  * About Docstrings\n",
    "2. For loops\n",
    "  * Example: Prime numbers\n",
    "3. Exercises"
   ]
  },
  {
   "cell_type": "markdown",
   "metadata": {},
   "source": [
    "## 1. More about functions\n",
    "\n",
    "The syntax for writing a function is:\n",
    "\n",
    "1. Start with the `def` keyword\n",
    "2. Choose a function name\n",
    "3. List of input parameters (within parentheses) ending with a colon:\n",
    "4. Body of the function is all indented 4 spaces\n",
    "5. Use `return` keyword to give the return value\n",
    "6. Write a documentation string in the first line after `def` statement"
   ]
  },
  {
   "cell_type": "markdown",
   "metadata": {},
   "source": [
    "### Example: Harmonic Mean\n",
    "\n",
    "Write a function called `harmonic_mean` which takes 1 input parameter, a list of positive numbers, and returns the [harmonic mean](https://en.wikipedia.org/wiki/Harmonic_mean) of the numbers in the list:\n",
    "\n",
    "$$\n",
    "H = \\frac{n}{\\frac{1}{x_1} + \\frac{1}{x_2} + \\cdots + \\frac{1}{x_n}} = \\frac{n}{\\sum_{i=1}^n \\frac{1}{x_i}}\n",
    "$$"
   ]
  },
  {
   "cell_type": "code",
   "execution_count": 1,
   "metadata": {
    "collapsed": false
   },
   "outputs": [],
   "source": [
    "def harmonic_mean(list_of_numbers):\n",
    "    \"\"\"Compute the harmonic mean of a list of positive numbers.\"\"\"\n",
    "    if min(list_of_numbers) <= 0:\n",
    "        print('Error: All numbers in the list must be greater than 0.')\n",
    "        return None\n",
    "    else:\n",
    "        n = len(list_of_numbers)\n",
    "        terms = [1/x for x in list_of_numbers]\n",
    "        return n / sum(terms)"
   ]
  },
  {
   "cell_type": "markdown",
   "metadata": {
    "collapsed": false
   },
   "source": [
    "Always test your function with several inputs to see if it is working properly:"
   ]
  },
  {
   "cell_type": "code",
   "execution_count": 2,
   "metadata": {
    "collapsed": false
   },
   "outputs": [
    {
     "data": {
      "text/plain": [
       "1.9200000000000004"
      ]
     },
     "execution_count": 2,
     "metadata": {},
     "output_type": "execute_result"
    }
   ],
   "source": [
    "harmonic_mean([1,2,3,4])"
   ]
  },
  {
   "cell_type": "code",
   "execution_count": 3,
   "metadata": {
    "collapsed": false
   },
   "outputs": [
    {
     "data": {
      "text/plain": [
       "1.9200000000000004"
      ]
     },
     "execution_count": 3,
     "metadata": {},
     "output_type": "execute_result"
    }
   ],
   "source": [
    "4/(1/1 + 1/2 + 1/3 + 1/4)"
   ]
  },
  {
   "cell_type": "code",
   "execution_count": 4,
   "metadata": {
    "collapsed": false
   },
   "outputs": [
    {
     "name": "stdout",
     "output_type": "stream",
     "text": [
      "Error: All numbers in the list must be greater than 0.\n"
     ]
    }
   ],
   "source": [
    "harmonic_mean([1,1,0,1])"
   ]
  },
  {
   "cell_type": "code",
   "execution_count": 5,
   "metadata": {
    "collapsed": false
   },
   "outputs": [
    {
     "name": "stdout",
     "output_type": "stream",
     "text": [
      "Error: All numbers in the list must be greater than 0.\n"
     ]
    }
   ],
   "source": [
    "harmonic_mean([1,2,3,4,5,6,-10])"
   ]
  },
  {
   "cell_type": "markdown",
   "metadata": {},
   "source": [
    "### About Doctrings\n",
    "\n",
    "The first line after the `def` statement in a function definition should be a [docstring](https://docs.python.org/3/tutorial/controlflow.html#documentation-strings). This is a string (usually enclosed in triple quotes) which describes your function. See the [Python documentation](https://www.python.org/dev/peps/pep-0257/) for all the conventions related to docstring.\n",
    "\n",
    "A helpful feature of the Jupyter notebook is the question mark operator. This will display the docstring of a function. Keep this in mind when writing your docstrings: other people will read your docstring to learn how to use your function."
   ]
  },
  {
   "cell_type": "code",
   "execution_count": 6,
   "metadata": {
    "collapsed": true
   },
   "outputs": [],
   "source": [
    "harmonic_mean?"
   ]
  },
  {
   "cell_type": "code",
   "execution_count": 7,
   "metadata": {
    "collapsed": true
   },
   "outputs": [],
   "source": [
    "len?"
   ]
  },
  {
   "cell_type": "code",
   "execution_count": 8,
   "metadata": {
    "collapsed": true
   },
   "outputs": [],
   "source": [
    "sum?"
   ]
  },
  {
   "cell_type": "code",
   "execution_count": 9,
   "metadata": {
    "collapsed": true
   },
   "outputs": [],
   "source": [
    "abs?"
   ]
  },
  {
   "cell_type": "markdown",
   "metadata": {},
   "source": [
    "## 2. For loops\n",
    "\n",
    "A [for loop](https://docs.python.org/3/reference/compound_stmts.html#for) allows us to execute a block of code multiple times (with some parameters updated each time through the loop). The syntax for writing a for loop is:\n",
    "\n",
    "1. Start with `for` keyword\n",
    "2. Choose a variable name followed by `in` keyword, then a list (or iterable) to loop over and end the line with a colon `:`\n",
    "3. A block of code indented 4 spaces which excutes each time through the loop"
   ]
  },
  {
   "cell_type": "code",
   "execution_count": 10,
   "metadata": {
    "collapsed": false
   },
   "outputs": [
    {
     "name": "stdout",
     "output_type": "stream",
     "text": [
      "0 squared is 0\n",
      "1 squared is 1\n",
      "2 squared is 4\n",
      "3 squared is 9\n",
      "4 squared is 16\n",
      "5 squared is 25\n"
     ]
    }
   ],
   "source": [
    "for n in [0,1,2,3,4,5]:\n",
    "    square = n**2\n",
    "    print(n,'squared is',square)"
   ]
  },
  {
   "cell_type": "markdown",
   "metadata": {},
   "source": [
    "Copy and paste this code into the [Python visualizer](http://www.pythontutor.com/visualize.html#mode=edit) to see how a for loop works!"
   ]
  },
  {
   "cell_type": "markdown",
   "metadata": {},
   "source": [
    "### Example: Prime numbers\n",
    "\n",
    "Write a function called `is_prime` which takes one input parameter `N` and returns `True` or `False` depending on whether `N` is prime or not."
   ]
  },
  {
   "cell_type": "code",
   "execution_count": 11,
   "metadata": {
    "collapsed": true
   },
   "outputs": [],
   "source": [
    "def is_prime(N):\n",
    "    \"Determine whether or not N is a prime number.\"\n",
    "    \n",
    "    if N <= 1:\n",
    "        return False\n",
    "    # N is prime if N is only divisible by 1 and itself\n",
    "    # We should test whether N is divisible by d for all 1 < d < N\n",
    "    for d in range(2,N):\n",
    "        # Check if N is divisible by d\n",
    "        if N % d == 0:\n",
    "            return False\n",
    "    # If we exit the for loop, then N is not divisible by any d\n",
    "    # Therefore N is prime\n",
    "    return True"
   ]
  },
  {
   "cell_type": "markdown",
   "metadata": {},
   "source": [
    "Let's test our function on the first 30 numbers:"
   ]
  },
  {
   "cell_type": "code",
   "execution_count": 12,
   "metadata": {
    "collapsed": false
   },
   "outputs": [
    {
     "name": "stdout",
     "output_type": "stream",
     "text": [
      "2 is prime!\n",
      "3 is prime!\n",
      "5 is prime!\n",
      "7 is prime!\n",
      "11 is prime!\n",
      "13 is prime!\n",
      "17 is prime!\n",
      "19 is prime!\n",
      "23 is prime!\n",
      "29 is prime!\n"
     ]
    }
   ],
   "source": [
    "for n in range(0,31):\n",
    "    if is_prime(n):\n",
    "        print(n,'is prime!')"
   ]
  },
  {
   "cell_type": "markdown",
   "metadata": {},
   "source": [
    "Our function works! Let's find all the primes between 20,000 and 20,100."
   ]
  },
  {
   "cell_type": "code",
   "execution_count": 13,
   "metadata": {
    "collapsed": false
   },
   "outputs": [
    {
     "name": "stdout",
     "output_type": "stream",
     "text": [
      "20011 is prime!\n",
      "20021 is prime!\n",
      "20023 is prime!\n",
      "20029 is prime!\n",
      "20047 is prime!\n",
      "20051 is prime!\n",
      "20063 is prime!\n",
      "20071 is prime!\n",
      "20089 is prime!\n"
     ]
    }
   ],
   "source": [
    "for n in range(20000,20100):\n",
    "    if is_prime(n):\n",
    "        print(n,'is prime!')"
   ]
  },
  {
   "cell_type": "markdown",
   "metadata": {
    "collapsed": true
   },
   "source": [
    "## 3. Exercises\n",
    "\n",
    "**Exercise 1.** Our function `is_prime` works but it is far from perfect. For example, to check if $N$ is prime, do we really need to check all the number $d < N$ to see if $d$ divides $N$? No, since obviously all $d$ in the range $N/2 < d < N$ cannot divide $N$. Think of improvements you can make to our function `is_prime` to make it more efficient. Use the [cell magic `%time`](https://ipython.org/ipython-doc/3/interactive/magics.html#magic-time) to measure how much time your function requires to check if a large integer is prime."
   ]
  },
  {
   "cell_type": "markdown",
   "metadata": {},
   "source": [
    "**Exercise 2.** Write a function called `primes_between` which takes two integer inputs $a$ and $b$ and returns the list of primes in the closed interval $[a,b]$."
   ]
  },
  {
   "cell_type": "markdown",
   "metadata": {},
   "source": [
    "**Exercise 3.** Write a function called `primes_d_mod_N` which takes four integer inputs $a$, $b$, $d$ and $N$ and returns the list of primes in the closed interval $[a,b]$ which are congruent to $d$ mod $N$ (this means that the prime has remainder $d$ after division by $N$). This kind of list is called [primes in an arithmetic progression](https://en.wikipedia.org/wiki/Dirichlet%27s_theorem_on_arithmetic_progressions)."
   ]
  }
 ],
 "metadata": {
  "kernelspec": {
   "display_name": "Python 3",
   "language": "python",
   "name": "python3"
  },
  "language_info": {
   "codemirror_mode": {
    "name": "ipython",
    "version": 3
   },
   "file_extension": ".py",
   "mimetype": "text/x-python",
   "name": "python",
   "nbconvert_exporter": "python",
   "pygments_lexer": "ipython3",
   "version": "3.5.2"
  }
 },
 "nbformat": 4,
 "nbformat_minor": 1
}
