{
 "cells": [
  {
   "cell_type": "markdown",
   "metadata": {},
   "source": [
    "# MATH 210 Introduction to Mathematical Computing\n",
    "\n",
    "## January 18, 2017\n",
    "\n",
    "1. Functions\n",
    "  * Defining functions\n",
    "  * Easy examples\n",
    "  * Roots of quadratic polynomials\n",
    "2. Exercises"
   ]
  },
  {
   "cell_type": "markdown",
   "metadata": {},
   "source": [
    "## 1. Functions\n",
    "\n",
    "### Defining functions\n",
    "\n",
    "A [function](https://docs.python.org/3/tutorial/controlflow.html#defining-functions) is way for us to reuse a block of code with different input values. The syntax for defining a function is:\n",
    "\n",
    "1. Start the function definition with the `def` keyword\n",
    "2. Follow `def` with the function's name\n",
    "3. Follow the function name with the list of input parameters (within parentheses)\n",
    "4. End the `def` statement with a colon `:`\n",
    "5. Indent the body of the function by 4 spaces\n",
    "6. Use the `return` keyword to specify the output of the function (but it is not always necessary)\n",
    "\n",
    "### Easy examples\n",
    "\n",
    "For example, let's write a function that computes the average of inputs `a` and `b`."
   ]
  },
  {
   "cell_type": "code",
   "execution_count": 1,
   "metadata": {
    "collapsed": true
   },
   "outputs": [],
   "source": [
    "def average(a,b):\n",
    "    return (a + b)/2"
   ]
  },
  {
   "cell_type": "markdown",
   "metadata": {},
   "source": [
    "In Python, code blocks are defined using [indentation](https://www.python.org/dev/peps/pep-0008/#indentation). This means that lines of code indented the same amount are considered one block. In the example above, only the one line including `return` forms the body of the function.\n",
    "\n",
    "Notice that no output was created when we executed the cell above. This is because we've only defined the function and it's waiting for us to use it! We need to call the function with values for the input parameters and then the function will compute and return the output value."
   ]
  },
  {
   "cell_type": "code",
   "execution_count": 2,
   "metadata": {
    "collapsed": false
   },
   "outputs": [
    {
     "data": {
      "text/plain": [
       "2.5"
      ]
     },
     "execution_count": 2,
     "metadata": {},
     "output_type": "execute_result"
    }
   ],
   "source": [
    "average(1,4)"
   ]
  },
  {
   "cell_type": "code",
   "execution_count": 3,
   "metadata": {
    "collapsed": false
   },
   "outputs": [
    {
     "data": {
      "text/plain": [
       "15.0"
      ]
     },
     "execution_count": 3,
     "metadata": {},
     "output_type": "execute_result"
    }
   ],
   "source": [
    "average(10,20)"
   ]
  },
  {
   "cell_type": "markdown",
   "metadata": {},
   "source": [
    "A great way to visualize what is happening when we define and then call a function is to use the [Python visualizer](http://www.pythontutor.com/visualize)."
   ]
  },
  {
   "cell_type": "markdown",
   "metadata": {},
   "source": [
    "Let's write a function called `box` with 3 input parameters `w`, `h` and `d` representing the dimensions of a box such that the function returns the surface area and the volume (in that order as a list of length 2)."
   ]
  },
  {
   "cell_type": "code",
   "execution_count": 4,
   "metadata": {
    "collapsed": false
   },
   "outputs": [
    {
     "name": "stdout",
     "output_type": "stream",
     "text": [
      "[6, 1]\n",
      "[160, 100]\n",
      "[61200, 1030000]\n"
     ]
    }
   ],
   "source": [
    "# Function definition includes all the lines indented 4 spaces after def\n",
    "def box(w,h,d):\n",
    "    surface_area = 2*w*d + 2*h*d + 2*h*w\n",
    "    volume = h*w*d\n",
    "    return [surface_area,volume]\n",
    "\n",
    "# The code below is not indented and therefore OUTSIDE the function definition\n",
    "print(box(1,1,1))\n",
    "print(box(10,2,5))\n",
    "print(box(100,100,103))"
   ]
  },
  {
   "cell_type": "markdown",
   "metadata": {},
   "source": [
    "### Roots of quadratic polynomials\n",
    "\n",
    "Let's write a function called `roots` which takes 3 input parameters `a`, `b` and `c` representing the quadratic polynomial\n",
    "\n",
    "$$\n",
    "p(x) = ax^2 + bx + c\n",
    "$$\n",
    "\n",
    "The function `roots` must do the following:\n",
    "\n",
    "* if the roots of $p(x)$ are real and distinct, then return the roots as a list of length 2 (in increasing order)\n",
    "* if the roots are repeated, then return the single root\n",
    "* if the roots the complex, then return the list of complex roots"
   ]
  },
  {
   "cell_type": "code",
   "execution_count": 5,
   "metadata": {
    "collapsed": true
   },
   "outputs": [],
   "source": [
    "def roots(a,b,c):\n",
    "    discriminant = b**2 - 4*a*c\n",
    "    if discriminant > 0:\n",
    "        root_1 = (-b + discriminant**(0.5))/(2*a)\n",
    "        root_2 = (-b - discriminant**(0.5))/(2*a)\n",
    "        return sorted([root_1,root_2])\n",
    "    elif discriminant < 0:\n",
    "        root_1 = (-b + discriminant**(0.5))/(2*a)\n",
    "        root_2 = (-b - discriminant**(0.5))/(2*a)\n",
    "        return [root_1,root_2]\n",
    "    else:\n",
    "        root = -b/(2*a)\n",
    "        return root"
   ]
  },
  {
   "cell_type": "markdown",
   "metadata": {},
   "source": [
    "Let's test out function with some input values where we know the answer the correct answer. For example:\n",
    "\n",
    "* $x^2 - 1$ has roots $-1$ and $1$\n",
    "* $x^2 + 1$ has roots $i$ and $-i$\n",
    "* $x^2 + 2x + 1$ has a single root $-1$"
   ]
  },
  {
   "cell_type": "code",
   "execution_count": 6,
   "metadata": {
    "collapsed": false
   },
   "outputs": [
    {
     "data": {
      "text/plain": [
       "[-1.0, 1.0]"
      ]
     },
     "execution_count": 6,
     "metadata": {},
     "output_type": "execute_result"
    }
   ],
   "source": [
    "roots(1,0,-1)"
   ]
  },
  {
   "cell_type": "code",
   "execution_count": 7,
   "metadata": {
    "collapsed": false
   },
   "outputs": [
    {
     "data": {
      "text/plain": [
       "[(6.123233995736766e-17+1j), (-6.123233995736766e-17-1j)]"
      ]
     },
     "execution_count": 7,
     "metadata": {},
     "output_type": "execute_result"
    }
   ],
   "source": [
    "roots(1,0,1)"
   ]
  },
  {
   "cell_type": "code",
   "execution_count": 8,
   "metadata": {
    "collapsed": false
   },
   "outputs": [
    {
     "data": {
      "text/plain": [
       "-1.0"
      ]
     },
     "execution_count": 8,
     "metadata": {},
     "output_type": "execute_result"
    }
   ],
   "source": [
    "roots(1,2,1)"
   ]
  },
  {
   "cell_type": "markdown",
   "metadata": {
    "collapsed": true
   },
   "source": [
    "Our function works!"
   ]
  },
  {
   "cell_type": "markdown",
   "metadata": {},
   "source": [
    "## 2. Exercises"
   ]
  },
  {
   "cell_type": "markdown",
   "metadata": {},
   "source": [
    "**Exercise 1.** Write a function called `partial_zeta` which takes 2 input parameters $k$ and $N$ and returns the partial sum of the [Riemann zeta function](https://en.wikipedia.org/wiki/Riemann_zeta_function)\n",
    "\n",
    "$$\n",
    "\\sum_{n=1}^N \\frac{1}{n^k}\n",
    "$$"
   ]
  },
  {
   "cell_type": "markdown",
   "metadata": {},
   "source": [
    "**Exercise 2.** Write a function called `inverse` which takes 4 input parameters $a$, $b$, $c$, and $d$ representing the matrix\n",
    "\n",
    "$$\n",
    "A =\n",
    "\\begin{bmatrix}\n",
    "a & b \\\\ c & d\n",
    "\\end{bmatrix}\n",
    "$$\n",
    "\n",
    "and returns a list of length 4 `[x,y,z,w]` representing the inverse matrix\n",
    "\n",
    "$$\n",
    "A^{-1} =\n",
    "\\begin{bmatrix}\n",
    "x & y \\\\ z & w\n",
    "\\end{bmatrix}\n",
    "$$\n",
    "\n",
    "In the case that $\\det(A) = 0$, then no inverse exists and the function `inverse` should return `None`."
   ]
  },
  {
   "cell_type": "markdown",
   "metadata": {},
   "source": [
    "**Exercise 3.** Write a function called `power_mean` which takes 2 input parameters, a list of positive real numbers $[x_1, \\dots, x_n]$ and a nonzero number $p$, and returns the [power mean with exponent p](https://en.wikipedia.org/wiki/Generalized_mean)\n",
    "\n",
    "$$\n",
    "\\left( \\frac{1}{n} \\sum_{i=1}^n x_i^p \\right)^{1/p}\n",
    "$$\n",
    "\n",
    "Plug in large positive values of $p$ and various lists of numbers to verify\n",
    "\n",
    "$$\n",
    "\\lim_{p \\to \\infty} \\left( \\frac{1}{n} \\sum_{i=1}^n x_i^p \\right)^{1/p} = \\max\\{x_1, \\dots, x_n \\}\n",
    "$$\n",
    "\n",
    "Plug in large negative values of $p$ and various lists of numbers to verify\n",
    "\n",
    "$$\n",
    "\\lim_{p \\to -\\infty} \\left( \\frac{1}{n} \\sum_{i=1}^n x_i^p \\right)^{1/p} = \\min\\{x_1, \\dots, x_n \\}\n",
    "$$"
   ]
  }
 ],
 "metadata": {
  "kernelspec": {
   "display_name": "Python 3",
   "language": "python",
   "name": "python3"
  },
  "language_info": {
   "codemirror_mode": {
    "name": "ipython",
    "version": 3
   },
   "file_extension": ".py",
   "mimetype": "text/x-python",
   "name": "python",
   "nbconvert_exporter": "python",
   "pygments_lexer": "ipython3",
   "version": "3.5.2"
  }
 },
 "nbformat": 4,
 "nbformat_minor": 1
}
