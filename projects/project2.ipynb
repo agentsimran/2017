{
 "cells": [
  {
   "cell_type": "markdown",
   "metadata": {},
   "source": [
    "# MATH 210 Project 2: Women in Canadian Federal Politics\n",
    "\n",
    "## April 8, 2016\n",
    "\n",
    "The [Cabinet](http://www.parl.gc.ca/parliamentarians/en/ministries) in the current Canadian Parliament is the first Cabinet in Canadian history to be composed of an equal number of men and women. However, women are still underrepresented in Parliament. In 2016, only 26% of the House of Commons is represented by women (see the [Parliament of Canada](http://www.lop.parl.gc.ca/parlinfo/Lists/Occupation.aspx?Menu=PARL-HOC&Section=03d93c58-f843-49b3-9653-84275c23f3fb&Parliament=b67c82bf-0106-42e5-9be1-46ecb5feaf60&Name=&Party=&Province=&Gender=F&CurrentParliamentarian=False&Occupation=&OccupationType=)).\n",
    "\n",
    "We will study the number of [Women in Canadian Federal Politics](https://en.wikipedia.org/wiki/Women_in_Canadian_politics) using the [History of the Federal Electoral Ridings, 1867-2010](http://open.canada.ca/data/en/dataset/ea8f2c37-90b6-4fee-857e-984d3060184e) dataset from the Government of Canada's [Open Data Portal](http://open.canada.ca/). We will supplement this dataset with data from the [Parliament of Canada](http://www.lop.parl.gc.ca/Parlinfo/pages/parliament.aspx?Menu=Parliament) regarding the two most recent Parliaments elected in 2011 and 2015.\n",
    "\n",
    "Although the Parliament of Canada consists of the Governor General, the Senate and the House of Commons, **the entire analysis below concerns only the elected members of Parliament in the House of Commons.**\n",
    "\n",
    "The questions we address are:\n",
    "\n",
    "1. Who was the first woman elected to the House of Commons?\n",
    "2. How many women (in total and as a percentage) were elected to the House of Commons in each Parliament?\n",
    "3. What is the current trend? Is the number of women elected increasing and at what rate?\n",
    "4. When will the House of Commons achieve gender balance?\n",
    "\n",
    "### Executive Summary\n",
    "\n",
    "1. In 1921, Agnes Macphail was the first woman elected to the House of Commons.\n",
    "2. It was not for another 50 years that number of elected women started to increase: Grace Macinnis was still the only woman elected in 1968. The percentage of the House of Commons represented by women exceeded 10% for the first time in 1984 and the maximum was 26% in the 42nd Parliament elected in 2015.\n",
    "3. The percentage of the House of Commons represented by women increased by +0.58%/year from 1968-2015.\n",
    "4. At this rate, **it will take approximately 41 years to achieve gender balance in the House of Commons (in the year 2056).** There is a need to promote the success of women in Canadian Federal Politics to achieve gender balance much sooner than this projection.\n",
    "\n",
    "### Table of Contents\n",
    "\n",
    "1. Introducing the data\n",
    "2. Women in the House of Commons\n",
    "    * The first woman elected to the House of Commons\n",
    "    * The number of women elected to the House of Commons 1921-2015\n",
    "    * Measuring the increasing rate of women in the House of Commons 1968-2015\n",
    "    * Projecting gender balance in the House of Commons"
   ]
  },
  {
   "cell_type": "code",
   "execution_count": 1,
   "metadata": {
    "collapsed": false
   },
   "outputs": [],
   "source": [
    "import pandas as pd\n",
    "import numpy as np\n",
    "import matplotlib\n",
    "import matplotlib.pyplot as plt\n",
    "%matplotlib inline\n",
    "matplotlib.rcParams['figure.figsize'] = (12, 6)"
   ]
  },
  {
   "cell_type": "markdown",
   "metadata": {},
   "source": [
    "## 1. Introducing the data\n",
    "\n",
    "The [History of the Federal Electoral Ridings, 1867-2010](http://open.canada.ca/data/en/dataset/ea8f2c37-90b6-4fee-857e-984d3060184e) dataset (available from the Government of Canada's [Open Data Portal](http://open.canada.ca/)) is a summary of every candidate who has run for a seat in the Canadian House of Commons during the period 1867 to 2010. The two most recent parliaments are not included and we will append this data later on. There are some names in the dataset containing french accent characters and so we need to specify the encoding option as `latin` for the function `pandas.read_csv` to import the file properly."
   ]
  },
  {
   "cell_type": "code",
   "execution_count": 2,
   "metadata": {
    "collapsed": false
   },
   "outputs": [],
   "source": [
    "candidates = pd.read_csv('elections.csv',encoding='latin')"
   ]
  },
  {
   "cell_type": "code",
   "execution_count": 3,
   "metadata": {
    "collapsed": false
   },
   "outputs": [
    {
     "data": {
      "text/html": [
       "<div>\n",
       "<table border=\"1\" class=\"dataframe\">\n",
       "  <thead>\n",
       "    <tr style=\"text-align: right;\">\n",
       "      <th></th>\n",
       "      <th>Election Date</th>\n",
       "      <th>Election Type</th>\n",
       "      <th>Parliament</th>\n",
       "      <th>Province</th>\n",
       "      <th>Riding</th>\n",
       "      <th>Last Name</th>\n",
       "      <th>First Name</th>\n",
       "      <th>Gender</th>\n",
       "      <th>Occupation</th>\n",
       "      <th>Party</th>\n",
       "      <th>Votes</th>\n",
       "      <th>Votes (%)</th>\n",
       "      <th>Elected</th>\n",
       "    </tr>\n",
       "  </thead>\n",
       "  <tbody>\n",
       "    <tr>\n",
       "      <th>0</th>\n",
       "      <td>1867-08-07</td>\n",
       "      <td>Gen</td>\n",
       "      <td>1</td>\n",
       "      <td>New Brunswick</td>\n",
       "      <td>ALBERT</td>\n",
       "      <td>WALLACE</td>\n",
       "      <td>John</td>\n",
       "      <td>NaN</td>\n",
       "      <td>farmer</td>\n",
       "      <td>Liberal</td>\n",
       "      <td>778</td>\n",
       "      <td>52.14</td>\n",
       "      <td>1</td>\n",
       "    </tr>\n",
       "    <tr>\n",
       "      <th>1</th>\n",
       "      <td>1867-08-07</td>\n",
       "      <td>Gen</td>\n",
       "      <td>1</td>\n",
       "      <td>New Brunswick</td>\n",
       "      <td>ALBERT</td>\n",
       "      <td>STEVENS</td>\n",
       "      <td>Henry J.</td>\n",
       "      <td>NaN</td>\n",
       "      <td>NaN</td>\n",
       "      <td>Unknown</td>\n",
       "      <td>714</td>\n",
       "      <td>47.86</td>\n",
       "      <td>0</td>\n",
       "    </tr>\n",
       "    <tr>\n",
       "      <th>2</th>\n",
       "      <td>1867-08-07</td>\n",
       "      <td>Gen</td>\n",
       "      <td>1</td>\n",
       "      <td>New Brunswick</td>\n",
       "      <td>CARLETON</td>\n",
       "      <td>CONNELL</td>\n",
       "      <td>Hon. Charles</td>\n",
       "      <td>NaN</td>\n",
       "      <td>general merchant</td>\n",
       "      <td>Liberal</td>\n",
       "      <td>accl.</td>\n",
       "      <td>NaN</td>\n",
       "      <td>1</td>\n",
       "    </tr>\n",
       "    <tr>\n",
       "      <th>3</th>\n",
       "      <td>1867-08-07</td>\n",
       "      <td>Gen</td>\n",
       "      <td>1</td>\n",
       "      <td>New Brunswick</td>\n",
       "      <td>CHARLOTTE</td>\n",
       "      <td>BOLTON</td>\n",
       "      <td>John</td>\n",
       "      <td>NaN</td>\n",
       "      <td>businessman</td>\n",
       "      <td>Liberal</td>\n",
       "      <td>1214</td>\n",
       "      <td>56.94</td>\n",
       "      <td>1</td>\n",
       "    </tr>\n",
       "    <tr>\n",
       "      <th>4</th>\n",
       "      <td>1867-08-07</td>\n",
       "      <td>Gen</td>\n",
       "      <td>1</td>\n",
       "      <td>New Brunswick</td>\n",
       "      <td>CHARLOTTE</td>\n",
       "      <td>THOMPSON</td>\n",
       "      <td>Robert</td>\n",
       "      <td>NaN</td>\n",
       "      <td>NaN</td>\n",
       "      <td>Unknown</td>\n",
       "      <td>918</td>\n",
       "      <td>43.06</td>\n",
       "      <td>0</td>\n",
       "    </tr>\n",
       "  </tbody>\n",
       "</table>\n",
       "</div>"
      ],
      "text/plain": [
       "  Election Date Election Type  Parliament       Province     Riding Last Name  \\\n",
       "0    1867-08-07           Gen           1  New Brunswick     ALBERT   WALLACE   \n",
       "1    1867-08-07           Gen           1  New Brunswick     ALBERT   STEVENS   \n",
       "2    1867-08-07           Gen           1  New Brunswick   CARLETON   CONNELL   \n",
       "3    1867-08-07           Gen           1  New Brunswick  CHARLOTTE    BOLTON   \n",
       "4    1867-08-07           Gen           1  New Brunswick  CHARLOTTE  THOMPSON   \n",
       "\n",
       "     First Name Gender        Occupation    Party  Votes  Votes (%)  Elected  \n",
       "0          John    NaN            farmer  Liberal    778      52.14        1  \n",
       "1      Henry J.    NaN               NaN  Unknown    714      47.86        0  \n",
       "2  Hon. Charles    NaN  general merchant  Liberal  accl.        NaN        1  \n",
       "3          John    NaN       businessman  Liberal   1214      56.94        1  \n",
       "4        Robert    NaN               NaN  Unknown    918      43.06        0  "
      ]
     },
     "execution_count": 3,
     "metadata": {},
     "output_type": "execute_result"
    }
   ],
   "source": [
    "candidates.head()"
   ]
  },
  {
   "cell_type": "code",
   "execution_count": 4,
   "metadata": {
    "collapsed": false
   },
   "outputs": [
    {
     "name": "stdout",
     "output_type": "stream",
     "text": [
      "<class 'pandas.core.frame.DataFrame'>\n",
      "RangeIndex: 38777 entries, 0 to 38776\n",
      "Data columns (total 13 columns):\n",
      "Election Date    38777 non-null object\n",
      "Election Type    38777 non-null object\n",
      "Parliament       38777 non-null int64\n",
      "Province         38777 non-null object\n",
      "Riding           38777 non-null object\n",
      "Last Name        38777 non-null object\n",
      "First Name       38545 non-null object\n",
      "Gender           5443 non-null object\n",
      "Occupation       36469 non-null object\n",
      "Party            38777 non-null object\n",
      "Votes            38742 non-null object\n",
      "Votes (%)        38119 non-null float64\n",
      "Elected          38777 non-null int64\n",
      "dtypes: float64(1), int64(2), object(10)\n",
      "memory usage: 3.8+ MB\n"
     ]
    }
   ],
   "source": [
    "candidates.info()"
   ]
  },
  {
   "cell_type": "markdown",
   "metadata": {},
   "source": [
    "We see that there are 38,777 lines of data and 13 columns. Each row is a candidate who ran in a Canadian federal election. The columns are as follows (see the [explanation](http://open.canada.ca/commonwebsol/fileuploads/4/4/F/44FAA61D-BF17-4C87-B9B7-70F9F21AE495/HFERDatasetDefinitions.txt) accompanying the data file):\n",
    "\n",
    "* **Election Date**: the entries of this column are strings containing the year-month-day of the election. We will separate the year, month and day into their own columns later\n",
    "* **Election Type**: Gen = General Federal Election, B/P = By-election (an election to fill a single seat that was vacated between general elections)\n",
    "* **Parliament**: The number of the [Parliament](http://www.parl.gc.ca/default.aspx?Language=E) (the most recently elected is the 42nd Parliament)\n",
    "* **Province**: Province of the riding\n",
    "* **Riding**: Name of the region represented by the member of Parliament\n",
    "* **Last Name**: Last name of the candidate\n",
    "* **First Name**: First name of the candidate\n",
    "* **Gender**: Gender of the candidate (M or no data = Male, F = Female)\n",
    "* **Occupation**: Occupation of the candidate\n",
    "* **Party**: Party affiliation of the candidate\n",
    "* **Votes**: Number of votes for the candidate (accl. = Candidate was acclaimed)\n",
    "* **Votes (%)**: Percentage of votes for the candidate\n",
    "* **Elected**: 1 = Elected, 0 = Not elected"
   ]
  },
  {
   "cell_type": "markdown",
   "metadata": {},
   "source": [
    "### Get the year of each Parliament as an integer"
   ]
  },
  {
   "cell_type": "markdown",
   "metadata": {},
   "source": [
    "We can separate the year of the election into its own column for our convenience."
   ]
  },
  {
   "cell_type": "code",
   "execution_count": 5,
   "metadata": {
    "collapsed": false
   },
   "outputs": [],
   "source": [
    "candidates['Election Year'] = candidates['Election Date'].map(lambda x: int(x[0:4]))"
   ]
  },
  {
   "cell_type": "code",
   "execution_count": 6,
   "metadata": {
    "collapsed": false
   },
   "outputs": [
    {
     "name": "stdout",
     "output_type": "stream",
     "text": [
      "<class 'pandas.core.frame.DataFrame'>\n",
      "RangeIndex: 38777 entries, 0 to 38776\n",
      "Data columns (total 14 columns):\n",
      "Election Date    38777 non-null object\n",
      "Election Type    38777 non-null object\n",
      "Parliament       38777 non-null int64\n",
      "Province         38777 non-null object\n",
      "Riding           38777 non-null object\n",
      "Last Name        38777 non-null object\n",
      "First Name       38545 non-null object\n",
      "Gender           5443 non-null object\n",
      "Occupation       36469 non-null object\n",
      "Party            38777 non-null object\n",
      "Votes            38742 non-null object\n",
      "Votes (%)        38119 non-null float64\n",
      "Elected          38777 non-null int64\n",
      "Election Year    38777 non-null int64\n",
      "dtypes: float64(1), int64(3), object(10)\n",
      "memory usage: 4.1+ MB\n"
     ]
    }
   ],
   "source": [
    "candidates.info()"
   ]
  },
  {
   "cell_type": "code",
   "execution_count": 7,
   "metadata": {
    "collapsed": false
   },
   "outputs": [
    {
     "data": {
      "text/html": [
       "<div>\n",
       "<table border=\"1\" class=\"dataframe\">\n",
       "  <thead>\n",
       "    <tr style=\"text-align: right;\">\n",
       "      <th></th>\n",
       "      <th>Election Date</th>\n",
       "      <th>Election Type</th>\n",
       "      <th>Parliament</th>\n",
       "      <th>Province</th>\n",
       "      <th>Riding</th>\n",
       "      <th>Last Name</th>\n",
       "      <th>First Name</th>\n",
       "      <th>Gender</th>\n",
       "      <th>Occupation</th>\n",
       "      <th>Party</th>\n",
       "      <th>Votes</th>\n",
       "      <th>Votes (%)</th>\n",
       "      <th>Elected</th>\n",
       "      <th>Election Year</th>\n",
       "    </tr>\n",
       "  </thead>\n",
       "  <tbody>\n",
       "    <tr>\n",
       "      <th>38772</th>\n",
       "      <td>2010/11/29</td>\n",
       "      <td>B/P</td>\n",
       "      <td>40</td>\n",
       "      <td>Ontario</td>\n",
       "      <td>VAUGHAN</td>\n",
       "      <td>Rodriguez-Larrain</td>\n",
       "      <td>Claudia</td>\n",
       "      <td>F</td>\n",
       "      <td>ceo</td>\n",
       "      <td>Green Party of Canada</td>\n",
       "      <td>481</td>\n",
       "      <td>1.22</td>\n",
       "      <td>0</td>\n",
       "      <td>2010</td>\n",
       "    </tr>\n",
       "    <tr>\n",
       "      <th>38773</th>\n",
       "      <td>2010/11/29</td>\n",
       "      <td>B/P</td>\n",
       "      <td>40</td>\n",
       "      <td>Ontario</td>\n",
       "      <td>VAUGHAN</td>\n",
       "      <td>Fabrizio</td>\n",
       "      <td>Paolo</td>\n",
       "      <td>NaN</td>\n",
       "      <td>baker</td>\n",
       "      <td>Libertarian Party of Canada</td>\n",
       "      <td>251</td>\n",
       "      <td>0.64</td>\n",
       "      <td>0</td>\n",
       "      <td>2010</td>\n",
       "    </tr>\n",
       "    <tr>\n",
       "      <th>38774</th>\n",
       "      <td>2010/11/29</td>\n",
       "      <td>B/P</td>\n",
       "      <td>40</td>\n",
       "      <td>Ontario</td>\n",
       "      <td>VAUGHAN</td>\n",
       "      <td>Bory</td>\n",
       "      <td>Leslie</td>\n",
       "      <td>M</td>\n",
       "      <td>unemployed</td>\n",
       "      <td>Independent</td>\n",
       "      <td>111</td>\n",
       "      <td>0.28</td>\n",
       "      <td>0</td>\n",
       "      <td>2010</td>\n",
       "    </tr>\n",
       "    <tr>\n",
       "      <th>38775</th>\n",
       "      <td>2010/11/29</td>\n",
       "      <td>B/P</td>\n",
       "      <td>40</td>\n",
       "      <td>Ontario</td>\n",
       "      <td>VAUGHAN</td>\n",
       "      <td>Baxter</td>\n",
       "      <td>Dorian</td>\n",
       "      <td>NaN</td>\n",
       "      <td>anglican priest</td>\n",
       "      <td>Progressive Conservative</td>\n",
       "      <td>110</td>\n",
       "      <td>0.28</td>\n",
       "      <td>0</td>\n",
       "      <td>2010</td>\n",
       "    </tr>\n",
       "    <tr>\n",
       "      <th>38776</th>\n",
       "      <td>2010/11/29</td>\n",
       "      <td>B/P</td>\n",
       "      <td>40</td>\n",
       "      <td>Ontario</td>\n",
       "      <td>VAUGHAN</td>\n",
       "      <td>Jedan</td>\n",
       "      <td>Brian</td>\n",
       "      <td>M</td>\n",
       "      <td>national sales representative</td>\n",
       "      <td>United Party of Canada</td>\n",
       "      <td>55</td>\n",
       "      <td>0.14</td>\n",
       "      <td>0</td>\n",
       "      <td>2010</td>\n",
       "    </tr>\n",
       "  </tbody>\n",
       "</table>\n",
       "</div>"
      ],
      "text/plain": [
       "      Election Date Election Type  Parliament Province   Riding  \\\n",
       "38772    2010/11/29           B/P          40  Ontario  VAUGHAN   \n",
       "38773    2010/11/29           B/P          40  Ontario  VAUGHAN   \n",
       "38774    2010/11/29           B/P          40  Ontario  VAUGHAN   \n",
       "38775    2010/11/29           B/P          40  Ontario  VAUGHAN   \n",
       "38776    2010/11/29           B/P          40  Ontario  VAUGHAN   \n",
       "\n",
       "               Last Name First Name Gender                     Occupation  \\\n",
       "38772  Rodriguez-Larrain    Claudia      F                            ceo   \n",
       "38773           Fabrizio      Paolo    NaN                          baker   \n",
       "38774               Bory     Leslie      M                     unemployed   \n",
       "38775             Baxter     Dorian    NaN                anglican priest   \n",
       "38776              Jedan      Brian      M  national sales representative   \n",
       "\n",
       "                             Party Votes  Votes (%)  Elected  Election Year  \n",
       "38772        Green Party of Canada   481       1.22        0           2010  \n",
       "38773  Libertarian Party of Canada   251       0.64        0           2010  \n",
       "38774                  Independent   111       0.28        0           2010  \n",
       "38775     Progressive Conservative   110       0.28        0           2010  \n",
       "38776       United Party of Canada    55       0.14        0           2010  "
      ]
     },
     "execution_count": 7,
     "metadata": {},
     "output_type": "execute_result"
    }
   ],
   "source": [
    "candidates.tail()"
   ]
  },
  {
   "cell_type": "markdown",
   "metadata": {},
   "source": [
    "### Fill in missing data in Gender column\n",
    "\n",
    "The [table of definitions](http://open.canada.ca/commonwebsol/fileuploads/4/4/F/44FAA61D-BF17-4C87-B9B7-70F9F21AE495/HFERDatasetDefinitions.txt) accompanying the data explains that missing data in the Gender column implies the candidate was male therefore we can fill the missing values with M."
   ]
  },
  {
   "cell_type": "code",
   "execution_count": 8,
   "metadata": {
    "collapsed": false
   },
   "outputs": [
    {
     "data": {
      "text/html": [
       "<div>\n",
       "<table border=\"1\" class=\"dataframe\">\n",
       "  <thead>\n",
       "    <tr style=\"text-align: right;\">\n",
       "      <th></th>\n",
       "      <th>Election Date</th>\n",
       "      <th>Election Type</th>\n",
       "      <th>Parliament</th>\n",
       "      <th>Province</th>\n",
       "      <th>Riding</th>\n",
       "      <th>Last Name</th>\n",
       "      <th>First Name</th>\n",
       "      <th>Gender</th>\n",
       "      <th>Occupation</th>\n",
       "      <th>Party</th>\n",
       "      <th>Votes</th>\n",
       "      <th>Votes (%)</th>\n",
       "      <th>Elected</th>\n",
       "      <th>Election Year</th>\n",
       "    </tr>\n",
       "  </thead>\n",
       "  <tbody>\n",
       "    <tr>\n",
       "      <th>0</th>\n",
       "      <td>1867-08-07</td>\n",
       "      <td>Gen</td>\n",
       "      <td>1</td>\n",
       "      <td>New Brunswick</td>\n",
       "      <td>ALBERT</td>\n",
       "      <td>WALLACE</td>\n",
       "      <td>John</td>\n",
       "      <td>M</td>\n",
       "      <td>farmer</td>\n",
       "      <td>Liberal</td>\n",
       "      <td>778</td>\n",
       "      <td>52.14</td>\n",
       "      <td>1</td>\n",
       "      <td>1867</td>\n",
       "    </tr>\n",
       "    <tr>\n",
       "      <th>1</th>\n",
       "      <td>1867-08-07</td>\n",
       "      <td>Gen</td>\n",
       "      <td>1</td>\n",
       "      <td>New Brunswick</td>\n",
       "      <td>ALBERT</td>\n",
       "      <td>STEVENS</td>\n",
       "      <td>Henry J.</td>\n",
       "      <td>M</td>\n",
       "      <td>NaN</td>\n",
       "      <td>Unknown</td>\n",
       "      <td>714</td>\n",
       "      <td>47.86</td>\n",
       "      <td>0</td>\n",
       "      <td>1867</td>\n",
       "    </tr>\n",
       "    <tr>\n",
       "      <th>2</th>\n",
       "      <td>1867-08-07</td>\n",
       "      <td>Gen</td>\n",
       "      <td>1</td>\n",
       "      <td>New Brunswick</td>\n",
       "      <td>CARLETON</td>\n",
       "      <td>CONNELL</td>\n",
       "      <td>Hon. Charles</td>\n",
       "      <td>M</td>\n",
       "      <td>general merchant</td>\n",
       "      <td>Liberal</td>\n",
       "      <td>accl.</td>\n",
       "      <td>NaN</td>\n",
       "      <td>1</td>\n",
       "      <td>1867</td>\n",
       "    </tr>\n",
       "    <tr>\n",
       "      <th>3</th>\n",
       "      <td>1867-08-07</td>\n",
       "      <td>Gen</td>\n",
       "      <td>1</td>\n",
       "      <td>New Brunswick</td>\n",
       "      <td>CHARLOTTE</td>\n",
       "      <td>BOLTON</td>\n",
       "      <td>John</td>\n",
       "      <td>M</td>\n",
       "      <td>businessman</td>\n",
       "      <td>Liberal</td>\n",
       "      <td>1214</td>\n",
       "      <td>56.94</td>\n",
       "      <td>1</td>\n",
       "      <td>1867</td>\n",
       "    </tr>\n",
       "    <tr>\n",
       "      <th>4</th>\n",
       "      <td>1867-08-07</td>\n",
       "      <td>Gen</td>\n",
       "      <td>1</td>\n",
       "      <td>New Brunswick</td>\n",
       "      <td>CHARLOTTE</td>\n",
       "      <td>THOMPSON</td>\n",
       "      <td>Robert</td>\n",
       "      <td>M</td>\n",
       "      <td>NaN</td>\n",
       "      <td>Unknown</td>\n",
       "      <td>918</td>\n",
       "      <td>43.06</td>\n",
       "      <td>0</td>\n",
       "      <td>1867</td>\n",
       "    </tr>\n",
       "  </tbody>\n",
       "</table>\n",
       "</div>"
      ],
      "text/plain": [
       "  Election Date Election Type  Parliament       Province     Riding Last Name  \\\n",
       "0    1867-08-07           Gen           1  New Brunswick     ALBERT   WALLACE   \n",
       "1    1867-08-07           Gen           1  New Brunswick     ALBERT   STEVENS   \n",
       "2    1867-08-07           Gen           1  New Brunswick   CARLETON   CONNELL   \n",
       "3    1867-08-07           Gen           1  New Brunswick  CHARLOTTE    BOLTON   \n",
       "4    1867-08-07           Gen           1  New Brunswick  CHARLOTTE  THOMPSON   \n",
       "\n",
       "     First Name Gender        Occupation    Party  Votes  Votes (%)  Elected  \\\n",
       "0          John      M            farmer  Liberal    778      52.14        1   \n",
       "1      Henry J.      M               NaN  Unknown    714      47.86        0   \n",
       "2  Hon. Charles      M  general merchant  Liberal  accl.        NaN        1   \n",
       "3          John      M       businessman  Liberal   1214      56.94        1   \n",
       "4        Robert      M               NaN  Unknown    918      43.06        0   \n",
       "\n",
       "   Election Year  \n",
       "0           1867  \n",
       "1           1867  \n",
       "2           1867  \n",
       "3           1867  \n",
       "4           1867  "
      ]
     },
     "execution_count": 8,
     "metadata": {},
     "output_type": "execute_result"
    }
   ],
   "source": [
    "candidates['Gender'].fillna('M',inplace=True)\n",
    "candidates.head()"
   ]
  },
  {
   "cell_type": "markdown",
   "metadata": {},
   "source": [
    "## 2. Women in the House of Commons\n",
    "\n",
    "Let's begin by selecting the rows corresponding to women who were elected to the House of Commons:"
   ]
  },
  {
   "cell_type": "code",
   "execution_count": 9,
   "metadata": {
    "collapsed": false
   },
   "outputs": [],
   "source": [
    "elected_women = candidates[(candidates['Gender'] == 'F') & (candidates['Elected'] == 1)]"
   ]
  },
  {
   "cell_type": "markdown",
   "metadata": {},
   "source": [
    "### 2.1 The first woman elected to the House of Commons"
   ]
  },
  {
   "cell_type": "code",
   "execution_count": 10,
   "metadata": {
    "collapsed": false
   },
   "outputs": [
    {
     "data": {
      "text/html": [
       "<div>\n",
       "<table border=\"1\" class=\"dataframe\">\n",
       "  <thead>\n",
       "    <tr style=\"text-align: right;\">\n",
       "      <th></th>\n",
       "      <th>Election Date</th>\n",
       "      <th>Election Type</th>\n",
       "      <th>Parliament</th>\n",
       "      <th>Province</th>\n",
       "      <th>Riding</th>\n",
       "      <th>Last Name</th>\n",
       "      <th>First Name</th>\n",
       "      <th>Gender</th>\n",
       "      <th>Occupation</th>\n",
       "      <th>Party</th>\n",
       "      <th>Votes</th>\n",
       "      <th>Votes (%)</th>\n",
       "      <th>Elected</th>\n",
       "      <th>Election Year</th>\n",
       "    </tr>\n",
       "  </thead>\n",
       "  <tbody>\n",
       "    <tr>\n",
       "      <th>6715</th>\n",
       "      <td>1921/12/06</td>\n",
       "      <td>Gen</td>\n",
       "      <td>14</td>\n",
       "      <td>Ontario</td>\n",
       "      <td>GREY SOUTHEAST</td>\n",
       "      <td>MACPHAIL</td>\n",
       "      <td>Agnes Campbell</td>\n",
       "      <td>F</td>\n",
       "      <td>schoolteacher and farmer</td>\n",
       "      <td>Progressive</td>\n",
       "      <td>6958</td>\n",
       "      <td>49.86</td>\n",
       "      <td>1</td>\n",
       "      <td>1921</td>\n",
       "    </tr>\n",
       "    <tr>\n",
       "      <th>7388</th>\n",
       "      <td>1925/10/29</td>\n",
       "      <td>Gen</td>\n",
       "      <td>15</td>\n",
       "      <td>Ontario</td>\n",
       "      <td>GREY SOUTHEAST</td>\n",
       "      <td>MACPHAIL</td>\n",
       "      <td>Agnes C.</td>\n",
       "      <td>F</td>\n",
       "      <td>schoolteacher and farmer</td>\n",
       "      <td>Progressive</td>\n",
       "      <td>6652</td>\n",
       "      <td>55.91</td>\n",
       "      <td>1</td>\n",
       "      <td>1925</td>\n",
       "    </tr>\n",
       "    <tr>\n",
       "      <th>7956</th>\n",
       "      <td>1926/09/14</td>\n",
       "      <td>Gen</td>\n",
       "      <td>16</td>\n",
       "      <td>Ontario</td>\n",
       "      <td>GREY SOUTHEAST</td>\n",
       "      <td>MACPHAIL</td>\n",
       "      <td>Agnes Campbell</td>\n",
       "      <td>F</td>\n",
       "      <td>schoolteacher and farmer</td>\n",
       "      <td>Progressive</td>\n",
       "      <td>7939</td>\n",
       "      <td>56.11</td>\n",
       "      <td>1</td>\n",
       "      <td>1926</td>\n",
       "    </tr>\n",
       "    <tr>\n",
       "      <th>8531</th>\n",
       "      <td>1930/07/28</td>\n",
       "      <td>Gen</td>\n",
       "      <td>17</td>\n",
       "      <td>Ontario</td>\n",
       "      <td>GREY SOUTHEAST</td>\n",
       "      <td>MACPHAIL</td>\n",
       "      <td>Agnes Campbell</td>\n",
       "      <td>F</td>\n",
       "      <td>schoolteacher and farmer</td>\n",
       "      <td>Progressive</td>\n",
       "      <td>6619</td>\n",
       "      <td>50.93</td>\n",
       "      <td>1</td>\n",
       "      <td>1930</td>\n",
       "    </tr>\n",
       "    <tr>\n",
       "      <th>9289</th>\n",
       "      <td>1935/10/14</td>\n",
       "      <td>Gen</td>\n",
       "      <td>18</td>\n",
       "      <td>Ontario</td>\n",
       "      <td>GREY--BRUCE</td>\n",
       "      <td>MACPHAIL</td>\n",
       "      <td>Agnes C.</td>\n",
       "      <td>F</td>\n",
       "      <td>schoolteacher</td>\n",
       "      <td>United Farmers of Ontario-Labour</td>\n",
       "      <td>7210</td>\n",
       "      <td>39.97</td>\n",
       "      <td>1</td>\n",
       "      <td>1935</td>\n",
       "    </tr>\n",
       "    <tr>\n",
       "      <th>9821</th>\n",
       "      <td>1935/10/14</td>\n",
       "      <td>Gen</td>\n",
       "      <td>18</td>\n",
       "      <td>Yukon</td>\n",
       "      <td>YUKON</td>\n",
       "      <td>BLACK</td>\n",
       "      <td>Martha Louise</td>\n",
       "      <td>F</td>\n",
       "      <td>married woman</td>\n",
       "      <td>Independent Conservative</td>\n",
       "      <td>696</td>\n",
       "      <td>55.64</td>\n",
       "      <td>1</td>\n",
       "      <td>1935</td>\n",
       "    </tr>\n",
       "    <tr>\n",
       "      <th>10515</th>\n",
       "      <td>1940/03/26</td>\n",
       "      <td>Gen</td>\n",
       "      <td>19</td>\n",
       "      <td>Saskatchewan</td>\n",
       "      <td>NORTH BATTLEFORD</td>\n",
       "      <td>NIELSEN</td>\n",
       "      <td>Dorise W.</td>\n",
       "      <td>F</td>\n",
       "      <td>housewife</td>\n",
       "      <td>Unity</td>\n",
       "      <td>10500</td>\n",
       "      <td>57.16</td>\n",
       "      <td>1</td>\n",
       "      <td>1940</td>\n",
       "    </tr>\n",
       "  </tbody>\n",
       "</table>\n",
       "</div>"
      ],
      "text/plain": [
       "      Election Date Election Type  Parliament      Province            Riding  \\\n",
       "6715     1921/12/06           Gen          14       Ontario    GREY SOUTHEAST   \n",
       "7388     1925/10/29           Gen          15       Ontario    GREY SOUTHEAST   \n",
       "7956     1926/09/14           Gen          16       Ontario    GREY SOUTHEAST   \n",
       "8531     1930/07/28           Gen          17       Ontario    GREY SOUTHEAST   \n",
       "9289     1935/10/14           Gen          18       Ontario       GREY--BRUCE   \n",
       "9821     1935/10/14           Gen          18         Yukon             YUKON   \n",
       "10515    1940/03/26           Gen          19  Saskatchewan  NORTH BATTLEFORD   \n",
       "\n",
       "      Last Name      First Name Gender                Occupation  \\\n",
       "6715   MACPHAIL  Agnes Campbell      F  schoolteacher and farmer   \n",
       "7388   MACPHAIL        Agnes C.      F  schoolteacher and farmer   \n",
       "7956   MACPHAIL  Agnes Campbell      F  schoolteacher and farmer   \n",
       "8531   MACPHAIL  Agnes Campbell      F  schoolteacher and farmer   \n",
       "9289   MACPHAIL        Agnes C.      F             schoolteacher   \n",
       "9821      BLACK   Martha Louise      F             married woman   \n",
       "10515   NIELSEN       Dorise W.      F                 housewife   \n",
       "\n",
       "                                  Party  Votes  Votes (%)  Elected  \\\n",
       "6715                        Progressive   6958      49.86        1   \n",
       "7388                        Progressive   6652      55.91        1   \n",
       "7956                        Progressive   7939      56.11        1   \n",
       "8531                        Progressive   6619      50.93        1   \n",
       "9289   United Farmers of Ontario-Labour   7210      39.97        1   \n",
       "9821           Independent Conservative    696      55.64        1   \n",
       "10515                             Unity  10500      57.16        1   \n",
       "\n",
       "       Election Year  \n",
       "6715            1921  \n",
       "7388            1925  \n",
       "7956            1926  \n",
       "8531            1930  \n",
       "9289            1935  \n",
       "9821            1935  \n",
       "10515           1940  "
      ]
     },
     "execution_count": 10,
     "metadata": {},
     "output_type": "execute_result"
    }
   ],
   "source": [
    "elected_women.head(7)"
   ]
  },
  {
   "cell_type": "markdown",
   "metadata": {},
   "source": [
    "The first woman elected to Canadian parliament was [Agnes Campbell Macphail](https://en.wikipedia.org/wiki/Agnes_Macphail), a teacher and journalist from Ontario:\n",
    "\n",
    "![Agnes Macphail](http://www.saugeentimes.com/87%20x/Women%20Today%20CFUW%20presents%20a%20celebration%20of%20Agnes%20Macphail%20Sept%2028%202015/Macphail.jpg)\n",
    "\n",
    "She is well-known for her work on progressive issues such as her work towards penal reform:"
   ]
  },
  {
   "cell_type": "code",
   "execution_count": 11,
   "metadata": {
    "collapsed": false
   },
   "outputs": [
    {
     "data": {
      "image/jpeg": "[encoded data removed]",
      "text/html": [
       "\n",
       "        <iframe\n",
       "            width=\"400\"\n",
       "            height=\"300\"\n",
       "            src=\"https://www.youtube.com/embed/0ALgilFMkug\"\n",
       "            frameborder=\"0\"\n",
       "            allowfullscreen\n",
       "        ></iframe>\n",
       "        "
      ],
      "text/plain": [
       "<IPython.lib.display.YouTubeVideo at 0x110a5ef28>"
      ]
     },
     "execution_count": 11,
     "metadata": {},
     "output_type": "execute_result"
    }
   ],
   "source": [
    "from IPython.display import YouTubeVideo\n",
    "YouTubeVideo(\"0ALgilFMkug\")"
   ]
  },
  {
   "cell_type": "markdown",
   "metadata": {},
   "source": [
    "In fact, Agnes Macphail was the **only woman** elected to Parliament in 1921, 1925, 1926, and 1930. Finally, in 1935, Martha Black and Agnes Macphail were both elected to Parliament; the first time multiple women were elected to the House of Commons."
   ]
  },
  {
   "cell_type": "markdown",
   "metadata": {},
   "source": [
    "### 2.2 The number of women elected to the House of Commons 1921-2015\n",
    "\n",
    "We can count the number of women elected to the House of Commons since Agnes Macphail was the first to be elected in 1921. We can append the number of women elected in the two most recent federal elections in 2011 and 2015 (not included in our dataset). These numbers can be found on the [Parliament of Canada's webpage](http://www.lop.parl.gc.ca/parlinfo/Lists/Occupation.aspx?Menu=PARL-HOC&Section=03d93c58-f843-49b3-9653-84275c23f3fb&Parliament=b67c82bf-0106-42e5-9be1-46ecb5feaf60&Name=&Party=&Province=&Gender=F&CurrentParliamentarian=False&Occupation=&OccupationType=)."
   ]
  },
  {
   "cell_type": "markdown",
   "metadata": {},
   "source": [
    "#### Total number of women elected to the House of Commons"
   ]
  },
  {
   "cell_type": "code",
   "execution_count": 12,
   "metadata": {
    "collapsed": false
   },
   "outputs": [
    {
     "data": {
      "text/plain": [
       "<matplotlib.axes._subplots.AxesSubplot at 0x10f36d4a8>"
      ]
     },
     "execution_count": 12,
     "metadata": {},
     "output_type": "execute_result"
    },
    {
     "data": {
      "image/png": "[encoded data removed]",
      "text/plain": [
       "<matplotlib.figure.Figure at 0x10f351048>"
      ]
     },
     "metadata": {},
     "output_type": "display_data"
    }
   ],
   "source": [
    "total_elected_women = elected_women.groupby('Parliament').size()\n",
    "total_elected_women.index = elected_women.groupby('Parliament')['Election Year'].min()\n",
    "total_elected_women.name = 'Elected Women'\n",
    "total_elected_women[2011] = 80\n",
    "total_elected_women[2015] = 88\n",
    "\n",
    "total_elected_women.plot(kind='bar',title='Total Number of Women Elected since 1921')"
   ]
  },
  {
   "cell_type": "markdown",
   "metadata": {},
   "source": [
    "Although there have been more women elected to parliament in recent years, there was still only one woman elected to to the 28th Parliament:"
   ]
  },
  {
   "cell_type": "code",
   "execution_count": 13,
   "metadata": {
    "collapsed": false
   },
   "outputs": [
    {
     "data": {
      "text/html": [
       "<div>\n",
       "<table border=\"1\" class=\"dataframe\">\n",
       "  <thead>\n",
       "    <tr style=\"text-align: right;\">\n",
       "      <th></th>\n",
       "      <th>Election Date</th>\n",
       "      <th>Election Type</th>\n",
       "      <th>Parliament</th>\n",
       "      <th>Province</th>\n",
       "      <th>Riding</th>\n",
       "      <th>Last Name</th>\n",
       "      <th>First Name</th>\n",
       "      <th>Gender</th>\n",
       "      <th>Occupation</th>\n",
       "      <th>Party</th>\n",
       "      <th>Votes</th>\n",
       "      <th>Votes (%)</th>\n",
       "      <th>Elected</th>\n",
       "      <th>Election Year</th>\n",
       "    </tr>\n",
       "  </thead>\n",
       "  <tbody>\n",
       "    <tr>\n",
       "      <th>18511</th>\n",
       "      <td>1968/06/25</td>\n",
       "      <td>Gen</td>\n",
       "      <td>28</td>\n",
       "      <td>British Columbia</td>\n",
       "      <td>VANCOUVER KINGSWAY</td>\n",
       "      <td>MACINNIS</td>\n",
       "      <td>Grace</td>\n",
       "      <td>F</td>\n",
       "      <td>writer</td>\n",
       "      <td>New Democratic Party</td>\n",
       "      <td>15599</td>\n",
       "      <td>49.55</td>\n",
       "      <td>1</td>\n",
       "      <td>1968</td>\n",
       "    </tr>\n",
       "  </tbody>\n",
       "</table>\n",
       "</div>"
      ],
      "text/plain": [
       "      Election Date Election Type  Parliament          Province  \\\n",
       "18511    1968/06/25           Gen          28  British Columbia   \n",
       "\n",
       "                   Riding Last Name First Name Gender Occupation  \\\n",
       "18511  VANCOUVER KINGSWAY  MACINNIS      Grace      F     writer   \n",
       "\n",
       "                      Party  Votes  Votes (%)  Elected  Election Year  \n",
       "18511  New Democratic Party  15599      49.55        1           1968  "
      ]
     },
     "execution_count": 13,
     "metadata": {},
     "output_type": "execute_result"
    }
   ],
   "source": [
    "elected_women[elected_women['Parliament'] == 28]"
   ]
  },
  {
   "cell_type": "markdown",
   "metadata": {},
   "source": [
    "[Grace Macinnis](http://www.lop.parl.gc.ca/ParlInfo/Files/Parliamentarian.aspx?Item=ADDA36BC-8669-4E53-B76D-1081337EC422&Language=E&Section=ALL) was the only woman elected to Parliament in 1968 and represented Vancouver-Kingsway."
   ]
  },
  {
   "cell_type": "markdown",
   "metadata": {},
   "source": [
    "#### Percentage of the House of Commons represented by women\n",
    "\n",
    "We can also measure the percentage of the House of Commons represented by women simply by dividing the values calculated above by the total number of persons elected. Again, we refer to the Parliament of Canada's webpage to fill in the values for the two most recent elections."
   ]
  },
  {
   "cell_type": "code",
   "execution_count": 14,
   "metadata": {
    "collapsed": false
   },
   "outputs": [
    {
     "data": {
      "text/plain": [
       "<matplotlib.axes._subplots.AxesSubplot at 0x1108a2080>"
      ]
     },
     "execution_count": 14,
     "metadata": {},
     "output_type": "execute_result"
    },
    {
     "data": {
      "image/png": "[encoded data removed]",
      "text/plain": [
       "<matplotlib.figure.Figure at 0x1108c0080>"
      ]
     },
     "metadata": {},
     "output_type": "display_data"
    }
   ],
   "source": [
    "elected = candidates[(candidates['Parliament'] > 13) & (candidates['Elected'] == 1)]\n",
    "percentage_women = elected_women.groupby('Parliament').size() / elected.groupby('Parliament').size()\n",
    "percentage_women.index = elected_women.groupby('Parliament')['Election Year'].min()\n",
    "percentage_women[2011] = 80/323\n",
    "percentage_women[2015] = 88/338\n",
    "percentage_women = percentage_women*100\n",
    "\n",
    "percentage_women.columns = ['Elected Women (%)','Year']\n",
    "percentage_women.plot(kind='bar',title='Percent of the House of Commons Represented by Women',x='Year')"
   ]
  },
  {
   "cell_type": "markdown",
   "metadata": {},
   "source": [
    "The [33rd Parliament](http://www.lop.parl.gc.ca/ParlInfo/Files/Parliament.aspx?Item=4ae94798-0b56-4f9c-b48e-d2fb6c7aede6&Language=E&MenuID=Lists.Parliament.aspx&MenuQuery=http%3A%2F%2Fwww.lop.parl.gc.ca%2FParlInfo%2FLists%2FParliament.aspx) elected in 1984 was the first House of Commons composed of at least 10% women and the percentage of women has increased to 26% in the 42nd Parliament elected in 2015."
   ]
  },
  {
   "cell_type": "markdown",
   "metadata": {},
   "source": [
    "### 2.3 Measuring the increasing rate of women in the House of Commons 1968-2015\n",
    "\n",
    "The number of women elected to Parliament only started to increase after 1968. We will perform a linear regression analysis to calculate the rate at which the percentage of the House of Commons represented by women from 1968 to 2015 is increasing."
   ]
  },
  {
   "cell_type": "code",
   "execution_count": 15,
   "metadata": {
    "collapsed": false
   },
   "outputs": [
    {
     "data": {
      "image/png": "[encoded data removed]",
      "text/plain": [
       "<matplotlib.figure.Figure at 0x10eddbc88>"
      ]
     },
     "metadata": {},
     "output_type": "display_data"
    }
   ],
   "source": [
    "X = np.array([np.ones(15), percentage_women.loc[1968:].index.values])\n",
    "X = np.matrix(X).T\n",
    "Y = percentage_women.loc[1968:].values\n",
    "Y = np.matrix(Y).T\n",
    "\n",
    "A = (X.T * X)**(-1) * X.T * Y\n",
    "\n",
    "x = percentage_women.loc[1968:].index.values\n",
    "y = A[0,0] + A[1,0]*x\n",
    "plt.plot(x,y,X[:,1],Y,'r.')\n",
    "plt.xlabel('Year'), plt.ylabel('Percentage (%)')\n",
    "plt.title('Percentage of the House of Commons Represented by Women 1968-2015')\n",
    "plt.show()"
   ]
  },
  {
   "cell_type": "markdown",
   "metadata": {
    "collapsed": true
   },
   "source": [
    "The percentage of the House of Commons represented by women is increasing at the rate 0.58%/year."
   ]
  },
  {
   "cell_type": "code",
   "execution_count": 16,
   "metadata": {
    "collapsed": false
   },
   "outputs": [
    {
     "data": {
      "text/plain": [
       "0.58396889916151373"
      ]
     },
     "execution_count": 16,
     "metadata": {},
     "output_type": "execute_result"
    }
   ],
   "source": [
    "incr_women_per_year = A[1,0]\n",
    "incr_women_per_year"
   ]
  },
  {
   "cell_type": "markdown",
   "metadata": {},
   "source": [
    "### 2.4 Projecting Gender Balance in the House of Commons\n",
    "\n",
    "We have calculated the rate at which the percentage of the House of Commons represented by women is increasing and so the final step is to use this rate to predict when the House will achieve gender balance. We calculate:"
   ]
  },
  {
   "cell_type": "markdown",
   "metadata": {},
   "source": [
    "( Women in the House of Commons in 2015, % ) + ( Increase of Women in the House of Commons, %/year ) * ( Number of Years ) = 50%\n",
    "\n",
    "$\\Rightarrow$ Number of Years = ( 50% - ( Women in the House of Commons in 2015, % ) ) / ( Increase of Women in the House of Commons, %/year )"
   ]
  },
  {
   "cell_type": "code",
   "execution_count": 17,
   "metadata": {
    "collapsed": false
   },
   "outputs": [
    {
     "data": {
      "text/plain": [
       "41.037283108448612"
      ]
     },
     "execution_count": 17,
     "metadata": {},
     "output_type": "execute_result"
    }
   ],
   "source": [
    "(50 - percentage_women[2015]) / incr_women_per_year"
   ]
  },
  {
   "cell_type": "markdown",
   "metadata": {
    "collapsed": true
   },
   "source": [
    "At the current rate, the House of Commons in the Parliament of Canada will achieve gender balance in 41 years (in 2056)."
   ]
  }
 ],
 "metadata": {
  "kernelspec": {
   "display_name": "Python 3",
   "language": "python",
   "name": "python3"
  },
  "language_info": {
   "codemirror_mode": {
    "name": "ipython",
    "version": 3
   },
   "file_extension": ".py",
   "mimetype": "text/x-python",
   "name": "python",
   "nbconvert_exporter": "python",
   "pygments_lexer": "ipython3",
   "version": "3.6.0"
  }
 },
 "nbformat": 4,
 "nbformat_minor": 0
}
