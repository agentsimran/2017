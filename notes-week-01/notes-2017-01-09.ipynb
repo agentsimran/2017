{
 "cells": [
  {
   "cell_type": "markdown",
   "metadata": {},
   "source": [
    "# MATH 210 Introduction to Mathematical Computing\n",
    "\n",
    "## January 9, 2017\n",
    "\n",
    "1. LaTeX\n",
    "    * Calculus\n",
    "    * Matrices\n",
    "    * More Symbols\n",
    "2. Exercises"
   ]
  },
  {
   "cell_type": "markdown",
   "metadata": {},
   "source": [
    "## 1. LaTeX\n",
    "\n",
    "We write LaTeX in markdown cells by enclosing LaTeX code in dollar signs `$ ... $` to display inline or double dollar signs `$$ ... $$` to display in a centered paragraph."
   ]
  },
  {
   "cell_type": "markdown",
   "metadata": {},
   "source": [
    "### Calculus\n",
    "\n",
    "Last time, we saw some basic LaTeX commands to display subscripts, superscripts, fractions, limits and integrals. Let's do a few exercises putting these together symbols together to present some familiar concepts from calculus!"
   ]
  },
  {
   "cell_type": "markdown",
   "metadata": {},
   "source": [
    "The **derivative** of $f(x)$ at the point $x=a$ is the limit\n",
    "\n",
    "$$\n",
    "f'(a) = \\lim_{x \\to a} \\frac{f(x) - f(a)}{x - a}\n",
    "$$\n",
    "\n",
    "```\n",
    "$$f'(a) = \\lim_{x \\to a} \\frac{f(x) - f(a)}{x - a}$$\n",
    "```"
   ]
  },
  {
   "cell_type": "markdown",
   "metadata": {},
   "source": [
    "A function $f(x)$ is **continuous** at a point $x=a$ if\n",
    "\n",
    "$$\n",
    "\\lim_{x \\to a^-} f(x) = f(a) = \\lim_{x \\to a^+} f(x)\n",
    "$$\n",
    "\n",
    "```\n",
    "$$\\lim_{x \\to a^-} f(x) = f(a) = \\lim_{x \\to a^+} f(x)$$\n",
    "```"
   ]
  },
  {
   "cell_type": "markdown",
   "metadata": {
    "collapsed": true
   },
   "source": [
    "The **chain rule** is\n",
    "\n",
    "$$\n",
    "\\frac{d}{dx} \\left( f(g(x)) \\right) = f'(g(x))g'(x)\n",
    "$$\n",
    "\n",
    "```\n",
    "$$\\frac{d}{dx} \\left( f(g(x)) \\right) = f'(g(x))g'(x)$$\n",
    "```"
   ]
  },
  {
   "cell_type": "markdown",
   "metadata": {},
   "source": [
    "The **Maclaurin series** for $e^x$ is\n",
    "\n",
    "$$\n",
    "e^x = \\sum_{k=0}^{\\infty} \\frac{x^k}{k!}\n",
    "$$\n",
    "\n",
    "```\n",
    "$$e^x = \\sum_{k=0}^{\\infty} \\frac{x^k}{k!}$$\n",
    "```"
   ]
  },
  {
   "cell_type": "markdown",
   "metadata": {},
   "source": [
    "### Matrices\n",
    "\n",
    "To create a matrix without brackets, use the syntax\n",
    "\n",
    "```\n",
    "\\begin{matrix} a & b \\\\ c & d \\end{matrix}\n",
    "```\n",
    "to display\n",
    "$$\n",
    "\\begin{matrix} a & b \\\\ c & d \\end{matrix}\n",
    "$$"
   ]
  },
  {
   "cell_type": "markdown",
   "metadata": {},
   "source": [
    "To create a matrix with round brackets, use the syntax\n",
    "\n",
    "```\n",
    "\\begin{pmatrix} a & b \\\\ c & d \\end{pmatrix}\n",
    "```\n",
    "to display\n",
    "$$\n",
    "\\begin{pmatrix} a & b \\\\ c & d \\end{pmatrix}\n",
    "$$"
   ]
  },
  {
   "cell_type": "markdown",
   "metadata": {},
   "source": [
    "To create a matrix with square brackets, use the syntax\n",
    "\n",
    "```\n",
    "\\begin{bmatrix} 1 & 2 & -1 \\\\ 3 & 0 & 1 \\\\ 0 & 2 & 4 \\end{bmatrix}\n",
    "```\n",
    "to display\n",
    "$$\n",
    "\\begin{bmatrix} 1 & 2 & -1 \\\\ 3 & 0 & 1 \\\\ 0 & 2 & 4 \\end{bmatrix}\n",
    "$$"
   ]
  },
  {
   "cell_type": "markdown",
   "metadata": {},
   "source": [
    "To create an augmented matrix, use the syntax\n",
    "```\n",
    "\\left[ \\begin{array}{ccc|c} 0 & 1 & -4 & 8 \\\\\n",
    "2 & -3 & 2 & 1\\\\\n",
    "5 & -8 & 7 & 1 \\end{array} \\right]\n",
    "```\n",
    "to display\n",
    "$$\n",
    "\\left[ \\begin{array}{ccc|c} 0 & 1 & -4 & 8 \\\\\n",
    "2 & -3 & 2 & 1\\\\\n",
    "5 & -8 & 7 & 1 \\end{array} \\right]\n",
    "$$"
   ]
  },
  {
   "cell_type": "markdown",
   "metadata": {},
   "source": [
    "### More Symbols\n",
    "\n",
    "Let's explore some more common math symbols. Check out the [LaTeX WikiBook](https://en.wikibooks.org/wiki/LaTeX/Mathematics) and the [Detexify App](http://detexify.kirelabs.org/classify.html) to find any symbol you can think of!\n",
    "\n",
    "* Operators\n",
    "    * `$\\bigcap$`  $\\bigcap$\n",
    "    * `$\\bigcup$`  $\\bigcup$\n",
    "    * `$\\prod$`  $\\prod$\n",
    "    * `$\\sum$`  $\\sum$\n",
    "* Fonts\n",
    "    * `$\\mathrm{Hom}$` $\\mathrm{Hom}$\n",
    "    * `$\\mathbb{Z}$`  $\\mathbb{Z}$\n",
    "    * `$\\mathscr{L}$`  $\\mathscr{L}$\n",
    "    * `$\\mathfrak{g}$`  $\\mathfrak{g}$\n",
    "* Other symbols\n",
    "    * `$\\rightarrow$` $\\rightarrow$\n",
    "    * `$\\leftarrow$` $\\leftarrow$\n",
    "    * `$\\Rightarrow$` $\\Rightarrow$\n",
    "    * `$\\Leftrightarrow$` $\\Leftrightarrow$\n",
    "    * `$\\in$`  $\\in$\n",
    "    * `$\\notin$`  $\\notin$\n",
    "    * `$\\forall$`  $\\forall$\n",
    "    * `$\\infty$` $\\infty$"
   ]
  },
  {
   "cell_type": "markdown",
   "metadata": {},
   "source": [
    "To enclose large expressions in brackets, use the syntax\n",
    "\n",
    "```\n",
    "$$\\left( \\frac{1}{2} - 1 \\right)$$\n",
    "```\n",
    "to display\n",
    "$$\n",
    "\\left( \\frac{1}{2} - 1 \\right)\n",
    "$$"
   ]
  },
  {
   "cell_type": "markdown",
   "metadata": {
    "collapsed": true
   },
   "source": [
    "## 2. Exercises"
   ]
  },
  {
   "cell_type": "markdown",
   "metadata": {},
   "source": [
    "** Exercise 1.** Write LaTeX code to display the general formula for Taylor series ![Taylor](https://wikimedia.org/api/rest_v1/media/math/render/svg/9e4e3f2a8f914c3a03ad35da7cb877d700a614ea)\n",
    "(Source: [Wikipedia - Taylor series](https://en.wikipedia.org/wiki/Taylor_series))"
   ]
  },
  {
   "cell_type": "markdown",
   "metadata": {},
   "source": [
    "**Exercise 2.** Write LaTeX code to display Stokes' Theorem ![Stokes](https://wikimedia.org/api/rest_v1/media/math/render/svg/6b2bdb20e9b3f3bb0b09035eacff69dc6ff55767)\n",
    "(Source: [Wikipedia - Stokes' Theorem](https://en.wikipedia.org/wiki/Stokes%27_theorem))"
   ]
  },
  {
   "cell_type": "markdown",
   "metadata": {},
   "source": [
    "**Exercise 3.** Write LaTeX code to display the adjoint property of the tensor product ![Tensor](https://wikimedia.org/api/rest_v1/media/math/render/svg/cb982012b19d885e385fa1ea3aa4b1719f7ef4eb)\n",
    "(Source: [Wikipedia - Tensor product](https://en.wikipedia.org/wiki/Tensor_product))"
   ]
  },
  {
   "cell_type": "markdown",
   "metadata": {},
   "source": [
    "**Exercise 4.** Write LaTeX code to display the definition of the Laplace transform ![Laplace](https://wikimedia.org/api/rest_v1/media/math/render/svg/b49caba366b94ee1ecb91eee31d5a709f8b0beaa)\n",
    "(Source: [Wikipedia - Laplace transform](https://en.wikipedia.org/wiki/Laplace_transform))"
   ]
  },
  {
   "cell_type": "markdown",
   "metadata": {},
   "source": [
    "**Exercise 5.** Write LaTeX code to display the definition of the Jacobian matrix ![Jacobian](https://wikimedia.org/api/rest_v1/media/math/render/svg/74e93aa903c2695e45770030453eb77224104ee4)\n",
    "(Source: [Wikipedia - Jacobian matrix and determinant](https://en.wikipedia.org/wiki/Jacobian_matrix_and_determinant))"
   ]
  },
  {
   "cell_type": "markdown",
   "metadata": {},
   "source": [
    "**Exercise 6.** Pick your favourite course from this semester and write the notes from your last class in LaTeX."
   ]
  }
 ],
 "metadata": {
  "kernelspec": {
   "display_name": "Python 3",
   "language": "python",
   "name": "python3"
  },
  "language_info": {
   "codemirror_mode": {
    "name": "ipython",
    "version": 3
   },
   "file_extension": ".py",
   "mimetype": "text/x-python",
   "name": "python",
   "nbconvert_exporter": "python",
   "pygments_lexer": "ipython3",
   "version": "3.5.2"
  }
 },
 "nbformat": 4,
 "nbformat_minor": 1
}
