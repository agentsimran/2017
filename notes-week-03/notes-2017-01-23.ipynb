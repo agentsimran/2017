{
 "cells": [
  {
   "cell_type": "markdown",
   "metadata": {},
   "source": [
    "# MATH 210 Introduction to Mathematical Computing\n",
    "\n",
    "## January 23, 2017\n",
    "\n",
    "1. More about for loops\n",
    "  * Constructing sequences\n",
    "    * Sequences by formluas (nonrecursive)\n",
    "    * Recursive sequences\n",
    "2. while loops\n",
    "3. Exercises"
   ]
  },
  {
   "cell_type": "markdown",
   "metadata": {},
   "source": [
    "## 1. More about for loops\n",
    "\n",
    "### Constructing Sequences\n",
    "\n",
    "There are several ways to construct a sequence of values and to save them as a Python list."
   ]
  },
  {
   "cell_type": "markdown",
   "metadata": {},
   "source": [
    "#### Sequences by a formula\n",
    "\n",
    "If the sequence is given by a formula then we can use a list comprehension or a for loop. For example, the sequence of squares starting at $1$ can be construted by a list comprehension:"
   ]
  },
  {
   "cell_type": "code",
   "execution_count": 1,
   "metadata": {
    "collapsed": false
   },
   "outputs": [
    {
     "data": {
      "text/plain": [
       "[1, 4, 9, 16, 25, 36, 49, 64, 81]"
      ]
     },
     "execution_count": 1,
     "metadata": {},
     "output_type": "execute_result"
    }
   ],
   "source": [
    "[d**2 for d in range(1,10)]"
   ]
  },
  {
   "cell_type": "markdown",
   "metadata": {},
   "source": [
    "We can achieve the same result with a for loop and the `append` method for lists:"
   ]
  },
  {
   "cell_type": "code",
   "execution_count": 2,
   "metadata": {
    "collapsed": false
   },
   "outputs": [
    {
     "name": "stdout",
     "output_type": "stream",
     "text": [
      "[1]\n",
      "[1, 4]\n",
      "[1, 4, 9]\n",
      "[1, 4, 9, 16]\n",
      "[1, 4, 9, 16, 25]\n",
      "[1, 4, 9, 16, 25, 36]\n",
      "[1, 4, 9, 16, 25, 36, 49]\n",
      "[1, 4, 9, 16, 25, 36, 49, 64]\n",
      "[1, 4, 9, 16, 25, 36, 49, 64, 81]\n"
     ]
    }
   ],
   "source": [
    "# Intialize the list\n",
    "squares = []\n",
    "for d in range(1,10):\n",
    "    # Append the next square to the list\n",
    "    squares.append(d**2)\n",
    "    print(squares)"
   ]
  },
  {
   "cell_type": "markdown",
   "metadata": {},
   "source": [
    "#### Recursive sequences\n",
    "\n",
    "We can only use list comprehensions and for loops in the manner above when the sequence values are defined by a formula. But what if we want to construct a sequence where the next value depends on the previous value? Such a sequence is called a [recursive sequence](https://en.wikipedia.org/wiki/Recursion).\n",
    "\n",
    "For example, consider the [Fibonacci sequence](https://en.wikipedia.org/wiki/Fibonacci_number):\n",
    "\n",
    "$$\n",
    "x_1 = 1, x_2 = 1, x_3 = 2, x_4 = 3, x_5 = 5, ...\n",
    "$$\n",
    "\n",
    "where $$x_{n} = x_{n-1} + x_{n-2}$$\n",
    "\n",
    "We can't use a list comprehension to build the list of Fibonacci numbers, and so we use a for loop instead. For example, the first 15 Fibonacci numbers are:"
   ]
  },
  {
   "cell_type": "code",
   "execution_count": 3,
   "metadata": {
    "collapsed": false
   },
   "outputs": [
    {
     "name": "stdout",
     "output_type": "stream",
     "text": [
      "[1, 1, 2]\n",
      "[1, 1, 2, 3]\n",
      "[1, 1, 2, 3, 5]\n",
      "[1, 1, 2, 3, 5, 8]\n",
      "[1, 1, 2, 3, 5, 8, 13]\n",
      "[1, 1, 2, 3, 5, 8, 13, 21]\n",
      "[1, 1, 2, 3, 5, 8, 13, 21, 34]\n",
      "[1, 1, 2, 3, 5, 8, 13, 21, 34, 55]\n",
      "[1, 1, 2, 3, 5, 8, 13, 21, 34, 55, 89]\n",
      "[1, 1, 2, 3, 5, 8, 13, 21, 34, 55, 89, 144]\n",
      "[1, 1, 2, 3, 5, 8, 13, 21, 34, 55, 89, 144, 233]\n",
      "[1, 1, 2, 3, 5, 8, 13, 21, 34, 55, 89, 144, 233, 377]\n",
      "[1, 1, 2, 3, 5, 8, 13, 21, 34, 55, 89, 144, 233, 377, 610]\n"
     ]
    }
   ],
   "source": [
    "fib_list = [1,1]\n",
    "for n in range(2,15):\n",
    "    fib_list_n = fib_list[n-1] + fib_list[n-2]\n",
    "    fib_list.append(fib_list_n)\n",
    "    print(fib_list)"
   ]
  },
  {
   "cell_type": "markdown",
   "metadata": {},
   "source": [
    "#### Example: Fibonacci numbers\n",
    "\n",
    "Let's write a function called `fib_less_than` which takes one input $N$ and returns the list of Fibonacci numbers less than $N$."
   ]
  },
  {
   "cell_type": "code",
   "execution_count": 4,
   "metadata": {
    "collapsed": true
   },
   "outputs": [],
   "source": [
    "def fib_less_than(N):\n",
    "    \"\"\"Compute the list of Fibonnacci numbers less than N.\"\"\"\n",
    "    # Intialize the list with the first 2 Fibonacci numbers\n",
    "    fib_list = [1,1]\n",
    "    for n in range(2,N):\n",
    "        # Compute the next Fibonacci number\n",
    "        fib_list_n = fib_list[n-1] + fib_list[n-2]\n",
    "        if fib_list_n < N:\n",
    "            # Append the new Fibonacci number to the list if it is less than N\n",
    "            fib_list.append(fib_list_n)\n",
    "        else:\n",
    "            # Stop the loop if the last Fibonnacci number computed is greater than N\n",
    "            break\n",
    "    return fib_list"
   ]
  },
  {
   "cell_type": "code",
   "execution_count": 5,
   "metadata": {
    "collapsed": false
   },
   "outputs": [
    {
     "data": {
      "text/plain": [
       "[1, 1, 2, 3]"
      ]
     },
     "execution_count": 5,
     "metadata": {},
     "output_type": "execute_result"
    }
   ],
   "source": [
    "fib_less_than(5)"
   ]
  },
  {
   "cell_type": "code",
   "execution_count": 6,
   "metadata": {
    "collapsed": false
   },
   "outputs": [
    {
     "data": {
      "text/plain": [
       "[1, 1, 2, 3, 5, 8, 13, 21, 34, 55, 89]"
      ]
     },
     "execution_count": 6,
     "metadata": {},
     "output_type": "execute_result"
    }
   ],
   "source": [
    "fib_less_than(100)"
   ]
  },
  {
   "cell_type": "markdown",
   "metadata": {},
   "source": [
    "Notice that we used the fact $x_N \\leq N$ and so if we write a loop which goes up to the $N$th Fibonacci number then we know we can find all Fibonacci numbers up to $N$."
   ]
  },
  {
   "cell_type": "markdown",
   "metadata": {},
   "source": [
    "## 2. while loops\n",
    "\n",
    "What if we don't know how long our sequence is going to be? We can't write a for loop because this requires us to set the length of the loop in advance. This is a situation when a [while loop](https://en.wikipedia.org/wiki/While_loop#Python) is useful.\n",
    "\n",
    "The syntax for a while loop is simply the keyword `while` followed by a logical expression. The idea is that the while loop will execute as long as th logical expression evaluates to `True`. **BEWARE!** If the logical expression always evaluates to `True`, then you get an [infinite loop](https://en.wikipedia.org/wiki/While_loop#Python)!\n",
    "\n",
    "For example:"
   ]
  },
  {
   "cell_type": "code",
   "execution_count": 7,
   "metadata": {
    "collapsed": false
   },
   "outputs": [
    {
     "name": "stdout",
     "output_type": "stream",
     "text": [
      "5\n",
      "4\n",
      "3\n",
      "2\n",
      "1\n"
     ]
    }
   ],
   "source": [
    "n = 5\n",
    "while n > 0:\n",
    "    print(n)\n",
    "    # Update the value n\n",
    "    n = n - 1"
   ]
  },
  {
   "cell_type": "markdown",
   "metadata": {},
   "source": [
    "#### Example: Collatz sequence\n",
    "\n",
    "Write a function called `collatz` which takes one input parameter $a$ and computes the [Collatz sequence](https://en.wikipedia.org/wiki/Collatz_conjecture) defined by:\n",
    "\n",
    "$$\n",
    "x_{n+1} = \\left\\{ \\begin{array}{cc} x_n / 2 & \\text{if } x_n \\text{ is even} \\\\ 3x_n + 1 & \\text{if } x_n \\text{ is odd} \\end{array} \\right.\n",
    "$$\n",
    "\n",
    "where $x_0 = a$ and the sequence terminates at 1.\n",
    "\n",
    "For example, if $a = 10$ then $x_0 = 10$, $x_1 = 5$, $x_2 = 16$, $x_3 = 8$, $x_4 = 4$, $x_5 = 2$ and $x_6 = 1$."
   ]
  },
  {
   "cell_type": "code",
   "execution_count": 8,
   "metadata": {
    "collapsed": true
   },
   "outputs": [],
   "source": [
    "def collatz(a):\n",
    "    \"\"\"Compute the Collatz sequence starting at a.\"\"\"\n",
    "    # Initialze the sequence with the fist value a.\n",
    "    x_list = [a]\n",
    "    # Continue computing values in the sequence until we reach 1.\n",
    "    while x_list[-1] != 1:\n",
    "        # Check if the last element in the list is even\n",
    "        if x_list[-1] % 2 == 0:\n",
    "            # Compute and append the new values\n",
    "            x_list.append(x_list[-1] // 2)\n",
    "        else:\n",
    "            # Compute and append the new values\n",
    "            x_list.append(3*x_list[-1] + 1)\n",
    "    return x_list"
   ]
  },
  {
   "cell_type": "code",
   "execution_count": 9,
   "metadata": {
    "collapsed": false
   },
   "outputs": [
    {
     "name": "stdout",
     "output_type": "stream",
     "text": [
      "[10, 5, 16, 8, 4, 2, 1]\n"
     ]
    }
   ],
   "source": [
    "print(collatz(10))"
   ]
  },
  {
   "cell_type": "code",
   "execution_count": 10,
   "metadata": {
    "collapsed": false
   },
   "outputs": [
    {
     "name": "stdout",
     "output_type": "stream",
     "text": [
      "[393570, 196785, 590356, 295178, 147589, 442768, 221384, 110692, 55346, 27673, 83020, 41510, 20755, 62266, 31133, 93400, 46700, 23350, 11675, 35026, 17513, 52540, 26270, 13135, 39406, 19703, 59110, 29555, 88666, 44333, 133000, 66500, 33250, 16625, 49876, 24938, 12469, 37408, 18704, 9352, 4676, 2338, 1169, 3508, 1754, 877, 2632, 1316, 658, 329, 988, 494, 247, 742, 371, 1114, 557, 1672, 836, 418, 209, 628, 314, 157, 472, 236, 118, 59, 178, 89, 268, 134, 67, 202, 101, 304, 152, 76, 38, 19, 58, 29, 88, 44, 22, 11, 34, 17, 52, 26, 13, 40, 20, 10, 5, 16, 8, 4, 2, 1]\n"
     ]
    }
   ],
   "source": [
    "print(collatz(393570))"
   ]
  },
  {
   "cell_type": "markdown",
   "metadata": {
    "collapsed": true
   },
   "source": [
    "## 3. Exercises"
   ]
  },
  {
   "cell_type": "markdown",
   "metadata": {},
   "source": [
    "**Exercise. 1** Write a function called `reciprocal_recursion` which takes three positive integers $x_0$, $x_1$ and $N$ and returns the sequence\n",
    "\n",
    "$$\n",
    "x_n = \\frac{1}{x_{n-1}} + \\frac{1}{x_{n-2}}\n",
    "$$"
   ]
  },
  {
   "cell_type": "markdown",
   "metadata": {},
   "source": [
    "**Exercise 2.** Write a fucntion called `root_sequence` which takes input parameters $a$ and $N$ (positive integers) and returns the $N$th term in the sequence:\n",
    "\n",
    "$$\n",
    "\\begin{align*}\n",
    "x_0 &= a \\\\\n",
    "x_n &= 1 + \\sqrt{x_{n-1}}\n",
    "\\end{align*}\n",
    "$$\n",
    "\n",
    "\n",
    "Does the sequence converge to different values for different starting values $a$?"
   ]
  },
  {
   "cell_type": "markdown",
   "metadata": {},
   "source": [
    "**Exercise 3.** Write a function called `fibonacci_primes` which takes an input parameter $N$ and returns the list of Fibonacci numbers less than $N$ which are also prime numbers."
   ]
  }
 ],
 "metadata": {
  "kernelspec": {
   "display_name": "Python 3",
   "language": "python",
   "name": "python3"
  },
  "language_info": {
   "codemirror_mode": {
    "name": "ipython",
    "version": 3
   },
   "file_extension": ".py",
   "mimetype": "text/x-python",
   "name": "python",
   "nbconvert_exporter": "python",
   "pygments_lexer": "ipython3",
   "version": "3.5.2"
  }
 },
 "nbformat": 4,
 "nbformat_minor": 1
}
