{
 "cells": [
  {
   "cell_type": "markdown",
   "metadata": {},
   "source": [
    "# MATH 210 Introduction to Mathematical Computing\n",
    "\n",
    "## January 27, 2017\n",
    "\n",
    "1. Python modules and packages\n",
    "    * Creating our own number theory module\n",
    "    * Importing a module\n",
    "    * Example: Sums of squares\n",
    "2. An overview of scientific computing in Python\n",
    "    * NumPy, SciPy, matplotlib and pandas\n",
    "    * Example: Plotting functions with NumPy and matplotlib\n",
    "3. Exercises"
   ]
  },
  {
   "cell_type": "markdown",
   "metadata": {},
   "source": [
    "## 1. Python modules and packages\n",
    "\n",
    "So far we have been using the standard [Python library](https://docs.python.org/3/library/) consisting of [builtin functions](https://docs.python.org/3/library/functions.html) (like `sum`, `len`, `round`, etc) and [buitlin datatypes](https://docs.python.org/3/library/stdtypes.html) (like `int`, `float`, `list`, etc). But what if we want to do more like work with matrices and exponential functions and trigonometric functions? Python packages NumPy, SciPy, matplotlib, pandas and many more have been built for scientific computing and many other applications!\n",
    "\n",
    "What is a package or a module? A [module](https://docs.python.org/3/tutorial/modules.html) is simply a collection of functions and other things saved to a `.py` file (just a text file containing Python code). A [package](https://docs.python.org/3/tutorial/modules.html#packages) is a whole collection of modules."
   ]
  },
  {
   "cell_type": "markdown",
   "metadata": {},
   "source": [
    "### Creating our own number theory module\n",
    "\n",
    "Let's make our own module by assembling all our functions related to number theory! Create a new text file (in the same directory as this notebook) called `number_theory.py` (the extension `.py` let's our operating system know that it's a text file with Python code) and paste all the functions in the cell below:"
   ]
  },
  {
   "cell_type": "code",
   "execution_count": 1,
   "metadata": {
    "collapsed": true
   },
   "outputs": [],
   "source": [
    "# number_theory.py\n",
    "\n",
    "# A module containing functions related to number theory\n",
    "# UBC Math 210 Introduction to Mathematical Computing\n",
    "# January 27, 2017\n",
    "\n",
    "def factorial(N):\n",
    "    \"\"\"Compute N!=N(N-1) ... (2)(1).\"\"\"\n",
    "    # Initialize the outpout variable to 1\n",
    "    product = 1\n",
    "    for n in range(2,N + 1):\n",
    "        # Update the output variable\n",
    "        product = product * n\n",
    "    return product\n",
    "\n",
    "def n_choose_k(N,K):\n",
    "    \"\"\"Compute N choose K.\"\"\"\n",
    "    return factorial(N) // (factorial(N - K) * factorial(K))\n",
    "\n",
    "def divisors(N):\n",
    "    \"\"\"Return the list of divisors of N.\"\"\"\n",
    "    # Initialize the list of divisors\n",
    "    divisor_list = [1]\n",
    "    # Check division by d for d <= N/2\n",
    "    for d in range(2,N // 2 + 1):\n",
    "        if N % d == 0:\n",
    "            divisor_list.append(d)\n",
    "    divisor_list.append(N)\n",
    "    return divisor_list\n",
    "\n",
    "def is_square(N):\n",
    "    \"\"\"Determine is N is square.\"\"\"\n",
    "    return N == round(N**(0.5))**2\n",
    "\n",
    "def rep_as_squares(N):\n",
    "    \"\"\"Find all representations of N as a sum of squares a**2 + b**2 = N.\"\"\"\n",
    "    reps = []\n",
    "    stop = int((N/2)**0.5) + 1 # a must be less than \\sqrt{N/2}\n",
    "    for a in range(1,stop):\n",
    "        b_squared = N - a**2\n",
    "        if is_square(b_squared):\n",
    "            b = round((b_squared)**(0.5))\n",
    "            reps.append([a,b])\n",
    "    return reps\n",
    "\n",
    "def collatz(a):\n",
    "    \"\"\"Compute the Collatz sequence starting at a.\"\"\"\n",
    "    # Initialze the sequence with the fist value a.\n",
    "    x_list = [a]\n",
    "    # Continue computing values in the sequence until we reach 1.\n",
    "    while x_list[-1] != 1:\n",
    "        # Check if the last element in the list is even\n",
    "        if x_list[-1] % 2 == 0:\n",
    "            # Compute and append the new values\n",
    "            x_list.append(x_list[-1] // 2)\n",
    "        else:\n",
    "            # Compute and append the new values\n",
    "            x_list.append(3*x_list[-1] + 1)\n",
    "    return x_list\n",
    "\n",
    "def is_prime(N):\n",
    "    \"Determine whether or not N is a prime number.\"\n",
    "    if N <= 1:\n",
    "        return False\n",
    "    # N is prime if N is only divisible by 1 and itself\n",
    "    # We should test whether N is divisible by d for all 1 < d < N\n",
    "    for d in range(2,N):\n",
    "        # Check if N is divisible by d\n",
    "        if N % d == 0:\n",
    "            return False\n",
    "    # If we exit the for loop, then N is not divisible by any d\n",
    "    # Therefore N is prime\n",
    "    return True"
   ]
  },
  {
   "cell_type": "markdown",
   "metadata": {},
   "source": [
    "### Importing a module\n",
    "\n",
    "We import our module using the `import` keyword:"
   ]
  },
  {
   "cell_type": "code",
   "execution_count": 2,
   "metadata": {
    "collapsed": true
   },
   "outputs": [],
   "source": [
    "import number_theory"
   ]
  },
  {
   "cell_type": "markdown",
   "metadata": {},
   "source": [
    "Now all the functions in the file `number_theory.py` are available to us! We use the dot notation to access them by name!"
   ]
  },
  {
   "cell_type": "code",
   "execution_count": 3,
   "metadata": {
    "collapsed": false
   },
   "outputs": [
    {
     "data": {
      "text/plain": [
       "True"
      ]
     },
     "execution_count": 3,
     "metadata": {},
     "output_type": "execute_result"
    }
   ],
   "source": [
    "number_theory.is_prime(2017)"
   ]
  },
  {
   "cell_type": "code",
   "execution_count": 4,
   "metadata": {
    "collapsed": false
   },
   "outputs": [
    {
     "data": {
      "text/plain": [
       "[[9, 44]]"
      ]
     },
     "execution_count": 4,
     "metadata": {},
     "output_type": "execute_result"
    }
   ],
   "source": [
    "number_theory.rep_as_squares(2017)"
   ]
  },
  {
   "cell_type": "code",
   "execution_count": 5,
   "metadata": {
    "collapsed": false
   },
   "outputs": [
    {
     "data": {
      "text/plain": [
       "2017"
      ]
     },
     "execution_count": 5,
     "metadata": {},
     "output_type": "execute_result"
    }
   ],
   "source": [
    "9**2 + 44**2"
   ]
  },
  {
   "cell_type": "code",
   "execution_count": 6,
   "metadata": {
    "collapsed": false
   },
   "outputs": [
    {
     "data": {
      "text/plain": [
       "True"
      ]
     },
     "execution_count": 6,
     "metadata": {},
     "output_type": "execute_result"
    }
   ],
   "source": [
    "number_theory.is_square(9)"
   ]
  },
  {
   "cell_type": "code",
   "execution_count": 7,
   "metadata": {
    "collapsed": false
   },
   "outputs": [
    {
     "data": {
      "text/plain": [
       "[[200, 1400], [584, 1288], [680, 1240], [1000, 1000]]"
      ]
     },
     "execution_count": 7,
     "metadata": {},
     "output_type": "execute_result"
    }
   ],
   "source": [
    "number_theory.rep_as_squares(2000000)"
   ]
  },
  {
   "cell_type": "markdown",
   "metadata": {},
   "source": [
    "### Example: Sums of squares\n",
    "\n",
    "Let's find the smallest integer that can be expressed as a sum of squares in 4 different ways."
   ]
  },
  {
   "cell_type": "code",
   "execution_count": 8,
   "metadata": {
    "collapsed": false
   },
   "outputs": [
    {
     "name": "stdout",
     "output_type": "stream",
     "text": [
      "325  -  [[1, 18], [6, 17], [10, 15]]\n",
      "425  -  [[5, 20], [8, 19], [13, 16]]\n",
      "650  -  [[5, 25], [11, 23], [17, 19]]\n",
      "725  -  [[7, 26], [10, 25], [14, 23]]\n",
      "845  -  [[2, 29], [13, 26], [19, 22]]\n",
      "850  -  [[3, 29], [11, 27], [15, 25]]\n",
      "925  -  [[5, 30], [14, 27], [21, 22]]\n",
      "1025  -  [[1, 32], [8, 31], [20, 25]]\n",
      "1105  -  [[4, 33], [9, 32], [12, 31], [23, 24]]\n"
     ]
    }
   ],
   "source": [
    "# After some trial and error, we find the smallest integer\n",
    "# that can be written as a sum of squares in 4 ways\n",
    "for N in range(1,1200):\n",
    "    reps = number_theory.rep_as_squares(N)\n",
    "    if len(reps) > 2:\n",
    "        print(N,' - ',reps)"
   ]
  },
  {
   "cell_type": "markdown",
   "metadata": {},
   "source": [
    "## 2. An overview of scientific computing in Python\n",
    "\n",
    "The [SciPy](http://scipy.org/) stack referes to the collectin of Python packages for scientific computing in Python. We will focus on 4 core packages:\n",
    "\n",
    "* [NumPy](http://www.numpy.org/): array and functions for fast efficient array computations\n",
    "* [SciPy](http://scipy.org/): library of scientific functions\n",
    "* [matplotlib](http://matplotlib.org/): plotting library\n",
    "* [pandas](http://pandas.pydata.org/): data analysis\n",
    "\n",
    "### Examples: Plotting functions with NumPy and matplotlib\n",
    "\n",
    "Let's do some quick examples using NumPy and matpolotlib to plot functions! First, we import the packages:"
   ]
  },
  {
   "cell_type": "code",
   "execution_count": 9,
   "metadata": {
    "collapsed": false
   },
   "outputs": [],
   "source": [
    "import numpy as np\n",
    "import matplotlib.pyplot as plt"
   ]
  },
  {
   "cell_type": "markdown",
   "metadata": {},
   "source": [
    "**We must include the Jupyter cell magic `%matplotlib inline` for plots to render in the notebook!**"
   ]
  },
  {
   "cell_type": "code",
   "execution_count": 10,
   "metadata": {
    "collapsed": true
   },
   "outputs": [],
   "source": [
    "%matplotlib inline"
   ]
  },
  {
   "cell_type": "markdown",
   "metadata": {},
   "source": [
    "**Example.** Let's plot the function\n",
    "\n",
    "$$\n",
    "y = \\cos(x) \\ \\ , \\ 0 \\leq x \\leq \\pi\n",
    "$$"
   ]
  },
  {
   "cell_type": "markdown",
   "metadata": {},
   "source": [
    "Create an array of 100 values between 0 and $\\pi$:"
   ]
  },
  {
   "cell_type": "code",
   "execution_count": 11,
   "metadata": {
    "collapsed": true
   },
   "outputs": [],
   "source": [
    "x = np.linspace(0,np.pi,101)"
   ]
  },
  {
   "cell_type": "markdown",
   "metadata": {},
   "source": [
    "Compute $\\cos(x)$ for every value in the array $x$ and save the array of $y$ values:"
   ]
  },
  {
   "cell_type": "code",
   "execution_count": 12,
   "metadata": {
    "collapsed": true
   },
   "outputs": [],
   "source": [
    "y = np.cos(x)"
   ]
  },
  {
   "cell_type": "markdown",
   "metadata": {},
   "source": [
    "Plot the corresponding line!"
   ]
  },
  {
   "cell_type": "code",
   "execution_count": 13,
   "metadata": {
    "collapsed": false
   },
   "outputs": [
    {
     "data": {
      "image/png": "[encoded data removed]",
      "text/plain": [
       "<matplotlib.figure.Figure at 0x7f6b6052c1d0>"
      ]
     },
     "metadata": {},
     "output_type": "display_data"
    }
   ],
   "source": [
    "plt.plot(x,y);"
   ]
  },
  {
   "cell_type": "markdown",
   "metadata": {},
   "source": [
    "**Example.** Let's try another example! Let's plot the function:\n",
    "\n",
    "$$\n",
    "y = e^{-x^2} \\cos(10x) \\ \\ , \\ -5 \\leq x \\leq 5\n",
    "$$"
   ]
  },
  {
   "cell_type": "code",
   "execution_count": 14,
   "metadata": {
    "collapsed": false
   },
   "outputs": [
    {
     "data": {
      "image/png": "[encoded data removed]",
      "text/plain": [
       "<matplotlib.figure.Figure at 0x7f6b605326a0>"
      ]
     },
     "metadata": {},
     "output_type": "display_data"
    }
   ],
   "source": [
    "x = np.linspace(-5,5,1000)\n",
    "y = np.exp(-x**2) * np.cos(10*x)\n",
    "plt.plot(x,y);"
   ]
  },
  {
   "cell_type": "markdown",
   "metadata": {},
   "source": [
    "**Example.** There are **many** commands in `matplotlib.pyplot` for us to use to format our plots. Checkout the [Matplotlib](http://matplotlib.org/api/pyplot_summary.html) documentation. Here are a few commands:"
   ]
  },
  {
   "cell_type": "code",
   "execution_count": 15,
   "metadata": {
    "collapsed": false
   },
   "outputs": [
    {
     "data": {
      "image/png": "[encoded data removed]",
      "text/plain": [
       "<matplotlib.figure.Figure at 0x7f6b60484908>"
      ]
     },
     "metadata": {},
     "output_type": "display_data"
    }
   ],
   "source": [
    "x = np.linspace(0,10*np.pi,1000)\n",
    "y = np.exp(-0.2*x) * np.cos(x)\n",
    "plt.figure(figsize=(16,5)) # Make the figure 12 units wide by 5 units high\n",
    "plt.plot(x,y)\n",
    "plt.xlim([0,10*np.pi]) # Set the window width display to [0,10*\\pi]\n",
    "plt.ylim([-1,1]) # Set the window height display to [-1,1]\n",
    "plt.grid('on') # Show grid lines\n",
    "plt.title('Our first plot!'); # Add a title"
   ]
  },
  {
   "cell_type": "markdown",
   "metadata": {
    "collapsed": true
   },
   "source": [
    "## 3. Exercises"
   ]
  },
  {
   "cell_type": "markdown",
   "metadata": {},
   "source": [
    "**Exercise 1.** Plot the function $f(x) = \\sin(x) + \\sin(2x)$ for $x \\in [-2\\pi,2\\pi]$."
   ]
  },
  {
   "cell_type": "markdown",
   "metadata": {},
   "source": [
    "**Exercise 2.** Plot the function $f(x) = x \\ln(x)$ for $x \\in [0,3]$."
   ]
  },
  {
   "cell_type": "markdown",
   "metadata": {},
   "source": [
    "**Exercise 3.** Plot the function $f(x) = \\sqrt{|x|}$ for $x \\in [-9,9]$."
   ]
  },
  {
   "cell_type": "markdown",
   "metadata": {},
   "source": [
    "**Exercise 4.** Plot the function $f(x) = \\arctan(x)$ for $x \\in [-10,10]$."
   ]
  }
 ],
 "metadata": {
  "kernelspec": {
   "display_name": "Python 3",
   "language": "python",
   "name": "python3"
  },
  "language_info": {
   "codemirror_mode": {
    "name": "ipython",
    "version": 3
   },
   "file_extension": ".py",
   "mimetype": "text/x-python",
   "name": "python",
   "nbconvert_exporter": "python",
   "pygments_lexer": "ipython3",
   "version": "3.5.2"
  }
 },
 "nbformat": 4,
 "nbformat_minor": 1
}
